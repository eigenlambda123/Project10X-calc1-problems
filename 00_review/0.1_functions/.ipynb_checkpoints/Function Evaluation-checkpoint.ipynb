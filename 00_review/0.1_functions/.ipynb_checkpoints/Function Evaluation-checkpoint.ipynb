{
 "cells": [
  {
   "cell_type": "markdown",
   "id": "7d5710a7-2225-4bc4-b292-c4e829fe700e",
   "metadata": {},
   "source": [
    "# Function Evaluation"
   ]
  },
  {
   "cell_type": "markdown",
   "id": "869a8a75-8f09-40f1-a66a-f0af107bc25b",
   "metadata": {},
   "source": [
    "---\n",
    "### Problem 1:"
   ]
  },
  {
   "cell_type": "markdown",
   "id": "00dd536a-e38e-4c8e-83eb-d87cda2764e0",
   "metadata": {},
   "source": [
    "**Given Function:**  \n",
    "$$f(x) = 3 - 5x - 2x^2$$\n",
    "\n",
    "**(a)** Find \\( f(4) \\)  \n",
    "$$f(4) = 3 − 5(4) − 2(4)^2 = 3 − 20 − 32 = \\boxed{-49}$$\n",
    "\n",
    "**(b)** Find \\( f(0) \\)  \n",
    "$$f(0) = 3 − 5(0) − 2(0)^2 = 3 − 0 − 0 = \\boxed{3}$$\n",
    "\n",
    "**(c)** Find \\( f(-3) \\)  \n",
    "$$f(-3) = 3 − 5(-3) − 2(-3)^2 = 3 + 15 − 18 = \\boxed{0}$$\n",
    "\n",
    "**(d)** Find \\( f(6 − t) \\)  $$\n",
    "\\begin{align*}\n",
    "f(6 − t) &= 3 − 5(6 − t) − 2(6 − t)^2 \\\\\n",
    "&= 3 − 30 + 5t − 72 + 24t − 2t^2 \\\\\n",
    "&= \\boxed{-2t^2 + 29t - 99}\n",
    "\\end{align*}$$\n",
    "\n",
    "**(e)** Find \\( f(7 − 4x) \\)  \n",
    "$$\\begin{align*}\n",
    "f(7 − 4x) &= 3 − 5(7 − 4x) − 2(7 − 4x)^2 \\\\\n",
    "&= 3 − 35 + 20x − 98 + 112x − 32x^2 \\\\\n",
    "&= \\boxed{-32x^2 + 132x - 130}\n",
    "\\end{align*}$$\n",
    "\n",
    "**(f)** Find \\( f(x + h) \\)  "
   ]
  },
  {
   "cell_type": "markdown",
   "id": "f04874af-747b-4b33-9ed4-0e6149ad975e",
   "metadata": {},
   "source": [
    "---\n",
    "### Problem 2:"
   ]
  },
  {
   "cell_type": "markdown",
   "id": "bc6b34c3-ef9c-4962-a753-d049aef1419e",
   "metadata": {},
   "source": [
    "**Given Function:**  \n",
    "$$g(t) = \\frac{t}{2t + 6}$$\n",
    "\n",
    "**(a)** Find \\( g(0) \\)  \n",
    "$$g(0) = \\frac{0}{2\\cdot 0 + 6} = \\frac{0}{6} = \\boxed{0}$$\n",
    "\n",
    "**(b)** Find \\( g(-3) \\)  \n",
    "$$g(-3) = \\frac{-3}{2(-3) + 6} = \\frac{-3}{-6 + 6} = \\frac{-3}{0} = \\boxed{\\text{undefined}}$$\n",
    "\n",
    "**(c)** Find \\( g(10) \\)  \n",
    "$$g(10) = \\frac{10}{2\\cdot10 + 6} = \\frac{10}{26} = \\boxed{\\frac{5}{13}}$$\n",
    "\n",
    "**(d)** Find \\( g(x^2) \\)  \n",
    "$$g(x^2) = \\frac{x^2}{2x^2 + 6} = \\boxed{\\frac{x^2}{2x^2 + 6}}$$\n",
    "\n",
    "**(e)** Find \\( g(t + h) \\)  \n",
    "$$g(t + h) = \\frac{t + h}{2t + 2h + 6} = \\boxed{\\frac{t + h}{2t + 2h + 6}}$$\n",
    "\n",
    "**(f)** Find \\( g(t^2 − 3t + 1) \\)  \n",
    "$$g(t^2 − 3t + 1) = \\frac{t^2 − 3t + 1}{2t^2 − 6t + 8} = \\boxed{\\frac{t^2 − 3t + 1}{2t^2 − 6t + 8}}$$"
   ]
  },
  {
   "cell_type": "markdown",
   "id": "03e2c8e1-5029-4676-8381-e5de9d6f60f9",
   "metadata": {},
   "source": [
    "---\n",
    "### Problem 3:"
   ]
  },
  {
   "cell_type": "markdown",
   "id": "e1b39e7f-ef85-43dd-9e6e-73c542a23b83",
   "metadata": {},
   "source": [
    "**Given Function:**  \n",
    "$$h(z) = \\sqrt{1 - z^2}$$\n",
    "\n",
    "**(a)** Find \\( h(0) \\)  \n",
    "$$h(0) = \\sqrt{1 - 0^2} = \\sqrt{1} = \\boxed{1}$$\n",
    "\n",
    "**(b)** Find $( h(-\\frac{1}{2}) )$  \n",
    "$$h\\left(-\\frac{1}{2}\\right) = \\sqrt{1 - \\left(-\\frac{1}{2}\\right)^2} = \\sqrt{\\frac{3}{4}} = \\boxed{\\frac{\\sqrt{3}}{2}}$$\n",
    "\n",
    "**(c)** Find $( h(\\frac{1}{2}) )$  \n",
    "$$h\\left(\\frac{1}{2}\\right) = \\sqrt{1 - \\left(\\frac{1}{2}\\right)^2} = \\sqrt{\\frac{3}{4}} = \\boxed{\\frac{\\sqrt{3}}{2}}$$\n",
    "\n",
    "**(d)** Find \\( h(9z) \\)  \n",
    "$$h(9z) = \\sqrt{1 - (9z)^2} = \\boxed{\\sqrt{1 - 81z^2}}$$\n",
    "\n",
    "**(e)** Find \\( h(z^2 − 2z) \\)  \n",
    "$$h(z^2 − 2z) = \\sqrt{1 - (z^2 - 2z)^2} = \\boxed{\\sqrt{1 - z^4 + 4z^3 - 4z^2}}$$\n",
    "\n",
    "**(f)** Find \\( h(z + k) \\)  \n",
    "$$h(z + k) = \\sqrt{1 - (z + k)^2} = \\boxed{\\sqrt{1 - z^2 - 2zk - k^2}}$$"
   ]
  },
  {
   "cell_type": "markdown",
   "id": "deb91768-3e40-41c2-8e35-f877b4970375",
   "metadata": {},
   "source": [
    "---\n",
    "\n",
    "#### Problem 4:"
   ]
  },
  {
   "cell_type": "markdown",
   "id": "253c85a5-1475-4cc8-ac80-6ae48b6d692f",
   "metadata": {},
   "source": [
    " **Given Function:**  \n",
    "$$R(x) = \\sqrt{3 + x} - \\frac{4}{x + 1}$$\n",
    "\n",
    "**(a)** Find \\( R(0) \\)  \n",
    "$$R(0) = \\sqrt{3 + 0} - \\frac{4}{0 + 1} = \\sqrt{3} - \\frac{4}{1} = \\boxed{\\sqrt{3} - 4}$$\n",
    "\n",
    "**(b)** Find \\( R(6) \\)  \n",
    "$$R(6) = \\sqrt{3 + 6} - \\frac{4}{6 + 1} = \\sqrt{9} - \\frac{4}{7} = 3 - \\frac{4}{7} = \\boxed{\\frac{17}{7}}$$\n",
    "\n",
    "**(c)** Find \\( R(-9) \\)  \n",
    "$$R(-9) = \\sqrt{3 + (-9)} - \\frac{4}{-9 + 1} = \\sqrt{-6} - \\frac{4}{-8} = \\boxed{\\text{undefined}}$$\n",
    "\n",
    "**(d)** Find \\( R(x + 1) \\)  \n",
    "$$R(x + 1) = \\sqrt{3 + (x + 1)} - \\frac{4}{(x + 1) + 1} = \\sqrt{x + 4} - \\frac{4}{x + 2} = \\boxed{\\sqrt{x + 4} - \\frac{4}{x + 2}}$$\n",
    "\n",
    "**(e)** Find \\( R(x^4 - 3) \\)  \n",
    "$$R(x^4 - 3) = \\sqrt{3 + (x^4 - 3)} - \\frac{4}{(x^4 - 3) + 1} = \\sqrt{x^4} - \\frac{4}{x^4 - 2} = \\boxed{|x^2| - \\frac{4}{x^4 - 2}}$$\n",
    "\n",
    "**(f)** Find $( R\\left(\\frac{1}{z} - 1\\right) )$\n",
    "$$R\\left(\\frac{1}{z} - 1\\right) = \\sqrt{3 + \\left(\\frac{1}{z} - 1\\right)} - \\frac{4}{\\left(\\frac{1}{z} - 1\\right) + 1} = \\sqrt{2 + \\frac{1}{z}} - \\frac{4}{\\frac{1}{z}} = \\boxed{\\sqrt{2 + \\frac{1}{z}} - 4z}$$"
   ]
  }
 ],
 "metadata": {
  "kernelspec": {
   "display_name": "Python 3 (ipykernel)",
   "language": "python",
   "name": "python3"
  },
  "language_info": {
   "codemirror_mode": {
    "name": "ipython",
    "version": 3
   },
   "file_extension": ".py",
   "mimetype": "text/x-python",
   "name": "python",
   "nbconvert_exporter": "python",
   "pygments_lexer": "ipython3",
   "version": "3.12.6"
  }
 },
 "nbformat": 4,
 "nbformat_minor": 5
}
