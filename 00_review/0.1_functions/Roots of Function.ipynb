{
 "cells": [
  {
   "cell_type": "markdown",
   "id": "5cfd95fe-77e6-490a-9593-77bdc1c06c8e",
   "metadata": {},
   "source": [
    "# **Roots of Functions**  "
   ]
  },
  {
   "cell_type": "markdown",
   "id": "dfb0f9fa-e100-4ef6-b8b8-a07446410a20",
   "metadata": {},
   "source": [
    "\n",
    "- A **root** is a value $x = r$ where $f(r) = 0$; graphically, where the function crosses or touches the x-axis.  \n",
    "- **Only real roots** correspond to x-axis intersections; complex roots do not appear on the graph.  \n",
    "\n",
    "### **Methods to Find Real Roots:**  \n",
    "1. **Factor** the equation if possible.  \n",
    "2. **Quadratic Formula** (for $ax^2 + bx + c = 0$):  \n",
    "   $$\n",
    "   x = \\frac{-b \\pm \\sqrt{b^2 - 4ac}}{2a}\n",
    "   $$  \n",
    "   - If $b^2 - 4ac < 0$, there are **no real roots**.  \n",
    "3. **Substitution** (for higher-degree polynomials, e.g., $x^4 \\rightarrow u = x^2$).  "
   ]
  },
  {
   "cell_type": "markdown",
   "id": "77652aee-dfdd-4cec-8b66-9e8b3e992803",
   "metadata": {},
   "source": [
    "---"
   ]
  },
  {
   "cell_type": "markdown",
   "id": "4deaea80-826b-4cdc-8a1a-fff4281ca850",
   "metadata": {},
   "source": [
    "### **Problem 1:**  \n",
    "**Function:** $f(x) = x^5 - 4x^4 - 32x^3$  \n",
    "\n",
    "**Solution:**  \n",
    "$$\n",
    "\\begin{align*}\n",
    "x^5 - 4x^4 - 32x^3 &= 0 \\\\\n",
    "x^3(x^2 - 4x - 32) &= 0 \\\\\n",
    "x^3(x - 8)(x + 4) &= 0 \\\\\n",
    "\\end{align*}\n",
    "$$\n",
    "**Roots:**  \n",
    "$$\n",
    "x = 0 \\quad (\\text{triple root}), \\quad x = 8, \\quad x = -4\n",
    "$$\n"
   ]
  },
  {
   "cell_type": "markdown",
   "id": "9dd636c3-cac1-4f47-b5bc-137204cc017e",
   "metadata": {},
   "source": [
    "---"
   ]
  },
  {
   "cell_type": "markdown",
   "id": "44dbaf7b-9095-4761-b82e-4c9db251e204",
   "metadata": {},
   "source": [
    "### **Problem 2:**  \n",
    "**Function:** $R(y) = 12y^2 + 11y - 5$  \n",
    "\n",
    "**Solution (Quadratic Formula):**  \n",
    "$$\n",
    "\\begin{align*}\n",
    "y &= \\frac{-b \\pm \\sqrt{b^2 - 4ac}}{2a} \\\\\n",
    "&= \\frac{-11 \\pm \\sqrt{121 - 4(12)(-5)}}{24} \\\\\n",
    "&= \\frac{-11 \\pm \\sqrt{121 + 240}}{24} \\\\\n",
    "&= \\frac{-11 \\pm \\sqrt{361}}{24} \\\\\n",
    "&= \\frac{-11 \\pm 19}{24} \\\\\n",
    "\\end{align*}\n",
    "$$\n",
    "**Roots:**  \n",
    "$$\n",
    "y = \\frac{-11 + 19}{24} = \\frac{8}{24} = \\frac{1}{3}, \\quad y = \\frac{-11 - 19}{24} = \\frac{-30}{24} = -\\frac{5}{4}\n",
    "$$"
   ]
  },
  {
   "cell_type": "markdown",
   "id": "833fa700-49e4-444d-87ce-54935f066e06",
   "metadata": {},
   "source": [
    "---"
   ]
  },
  {
   "cell_type": "markdown",
   "id": "b69f7629-aab1-4906-a20f-1266d536519d",
   "metadata": {},
   "source": [
    "### **Problem 3:**  \n",
    "**Function:** $h(t) = 18 - 3t - 2t^2$  \n",
    "\n",
    "**Solution (Quadratic Formula):**  \n",
    "$$\n",
    "\\begin{align*}\n",
    "-2t^2 - 3t + 18 &= 0 \\\\\n",
    "t &= \\frac{3 \\pm \\sqrt{(-3)^2 - 4(-2)(18)}}{2(-2)} \\\\\n",
    "&= \\frac{3 \\pm \\sqrt{9 + 144}}{-4} \\\\\n",
    "&= \\frac{3 \\pm \\sqrt{153}}{-4} \\\\\n",
    "&= \\frac{3 \\pm 3\\sqrt{17}}{-4} \\\\\n",
    "&= -\\frac{3}{4} (1 \\pm \\sqrt{17}) \\\\\n",
    "\\end{align*}\n",
    "$$\n",
    "**Roots (Decimal Approximations):**  \n",
    "$$\n",
    "t \\approx 2.342 \\quad \\text{and} \\quad t \\approx -3.842\n",
    "$$"
   ]
  },
  {
   "cell_type": "markdown",
   "id": "c16d1fbf-f046-45a1-95e4-f722c0c49b97",
   "metadata": {},
   "source": [
    "---"
   ]
  },
  {
   "cell_type": "markdown",
   "id": "84e0e097-cb80-49b4-b37a-f802bcd367f9",
   "metadata": {},
   "source": [
    "### **Problem 4:**  \n",
    "**Function:** $g(x) = x^3 + 7x^2 - x$  \n",
    "\n",
    "**Solution:**  \n",
    "$$\n",
    "\\begin{align*}\n",
    "x^3 + 7x^2 - x &= 0 \\\\\n",
    "x(x^2 + 7x - 1) &= 0 \\\\\n",
    "\\end{align*}\n",
    "$$\n",
    "**Roots:**  \n",
    "1. $x = 0$  \n",
    "2. Solve $x^2 + 7x - 1 = 0$ using the quadratic formula:  \n",
    "$$\n",
    "x = \\frac{-7 \\pm \\sqrt{49 + 4}}{2} = \\frac{-7 \\pm \\sqrt{53}}{2}\n",
    "$$\n",
    "**Final Roots:**  \n",
    "$$\n",
    "x = 0, \\quad x = \\frac{-7 + \\sqrt{53}}{2}, \\quad x = \\frac{-7 - \\sqrt{53}}{2}\n",
    "$$"
   ]
  },
  {
   "cell_type": "markdown",
   "id": "af711f39-86b1-4eb6-bc56-6ce499af3abf",
   "metadata": {},
   "source": [
    "---"
   ]
  },
  {
   "cell_type": "markdown",
   "id": "b99f094c-b10f-4042-8748-e2b20a2319e8",
   "metadata": {},
   "source": [
    "### **Problem 5:**  \n",
    "**Function:** $W(x) = x^4 + 6x^2 - 27$  \n",
    "\n",
    "**Solution (Substitution $u = x^2$):**  \n",
    "$$\n",
    "\\begin{align*}\n",
    "x^4 + 6x^2 - 27 &= 0 \\\\\n",
    "u^2 + 6u - 27 &= 0 \\quad \\text{(where $u = x^2$)} \\\\\n",
    "(u + 9)(u - 3) &= 0 \\\\\n",
    "\\end{align*}\n",
    "$$\n",
    "**Case 1:** $u = -9$  \n",
    "$$\n",
    "x^2 = -9 \\implies x = \\pm 3i \\quad \\text{(Complex roots)}\n",
    "$$\n",
    "**Case 2:** $u = 3$  \n",
    "$$\n",
    "x^2 = 3 \\implies x = \\pm \\sqrt{3} \\quad \\text{(Real roots)}\n",
    "$$\n",
    "**Final Roots:**  \n",
    "$$\n",
    "x = \\sqrt{3}, \\quad x = -\\sqrt{3}, \\quad x = 3i, \\quad x = -3i\n",
    "$$"
   ]
  },
  {
   "cell_type": "markdown",
   "id": "d2361d62-15c9-4832-b996-bf8c26e86865",
   "metadata": {},
   "source": [
    "---"
   ]
  },
  {
   "cell_type": "markdown",
   "id": "058322ad-098f-4f27-8b49-e79c57da1ef8",
   "metadata": {},
   "source": [
    "### **Summary of Roots:**\n",
    "- **Problem 1:** $x = 0$ (triple), $x = 8$, $x = -4$  \n",
    "- **Problem 2:** $y = \\frac{1}{3}$, $y = -\\frac{5}{4}$  \n",
    "- **Problem 3:** $t \\approx 2.342$, $t \\approx -3.842$  \n",
    "- **Problem 4:** $x = 0$, $x = \\frac{-7 \\pm \\sqrt{53}}{2}$  \n",
    "- **Problem 5:** $x = \\pm \\sqrt{3}$, $x = \\pm 3i$  "
   ]
  },
  {
   "cell_type": "markdown",
   "id": "847ca019-73f7-416b-b1f1-6ec1712f257a",
   "metadata": {},
   "source": [
    "### **Key Takeaways:**  \n",
    "- **Only real roots** are considered for graphical interpretation.  \n",
    "- Complex roots (e.g., $\\pm 3i$) are **discarded** in this context.  \n",
    "- Always verify roots by substitution into the original function."
   ]
  }
 ],
 "metadata": {
  "kernelspec": {
   "display_name": "Python 3 (ipykernel)",
   "language": "python",
   "name": "python3"
  },
  "language_info": {
   "codemirror_mode": {
    "name": "ipython",
    "version": 3
   },
   "file_extension": ".py",
   "mimetype": "text/x-python",
   "name": "python",
   "nbconvert_exporter": "python",
   "pygments_lexer": "ipython3",
   "version": "3.12.6"
  }
 },
 "nbformat": 4,
 "nbformat_minor": 5
}
