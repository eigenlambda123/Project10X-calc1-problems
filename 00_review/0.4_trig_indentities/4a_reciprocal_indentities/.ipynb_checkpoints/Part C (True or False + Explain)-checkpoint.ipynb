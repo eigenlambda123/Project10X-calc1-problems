{
 "cells": [
  {
   "cell_type": "markdown",
   "id": "1baded27-fa7a-43d7-802e-f345aa0803cc",
   "metadata": {},
   "source": [
    "# **Part C: True or False + Explain**\n",
    "---"
   ]
  },
  {
   "cell_type": "markdown",
   "id": "f0ab3be0-5a36-45a0-9f9c-fd44455f8acc",
   "metadata": {},
   "source": [
    "### Problems\n",
    "\n",
    "**7.** $\\tan(\\theta) \\cdot \\cot(\\theta) = 1$\n",
    "\n",
    "**8.** $\\sin(\\theta) \\cdot \\csc(\\theta) = 1$\n",
    "\n",
    "**9.** $\\sec(\\theta) \\cdot \\tan(\\theta) = \\dfrac{\\tan(\\theta)}{\\cos(\\theta)}$"
   ]
  },
  {
   "cell_type": "markdown",
   "id": "c07be15e-e6b9-47b2-a6d4-59defe39b0db",
   "metadata": {},
   "source": [
    "---\n",
    "### Solutions\n",
    "\n",
    "\n",
    "**7.** $\\tan(\\theta) \\cdot \\cot(\\theta) = 1$\n",
    "\n",
    "**Solution:**  \n",
    "Using reciprocal identity:  \n",
    "$$\n",
    "\\tan(\\theta) = \\dfrac{\\sin(\\theta)}{\\cos(\\theta)}, \\quad \\cot(\\theta) = \\dfrac{\\cos(\\theta)}{\\sin(\\theta)}\n",
    "$$  \n",
    "Then:\n",
    "$$\n",
    "\\tan(\\theta) \\cdot \\cot(\\theta) = \\dfrac{\\sin(\\theta)}{\\cos(\\theta)} \\cdot \\dfrac{\\cos(\\theta)}{\\sin(\\theta)} = 1\n",
    "$$  \n",
    "\n",
    "**Answer:** ✅ **True**\n",
    "\n",
    "\n",
    "**8.** $\\sin(\\theta) \\cdot \\csc(\\theta) = 1$\n",
    "\n",
    "**Solution:**  \n",
    "By identity:  \n",
    "$$\n",
    "\\csc(\\theta) = \\dfrac{1}{\\sin(\\theta)} \\quad \\Rightarrow \\quad \\sin(\\theta) \\cdot \\dfrac{1}{\\sin(\\theta)} = 1\n",
    "$$\n",
    "\n",
    "**Answer:** ✅ **True**\n",
    "\n",
    "\n",
    "**9.** $\\sec(\\theta) \\cdot \\tan(\\theta) = \\dfrac{\\tan(\\theta)}{\\cos(\\theta)}$\n",
    "\n",
    "**Solution:**  \n",
    "LHS:\n",
    "$$\n",
    "\\sec(\\theta) = \\dfrac{1}{\\cos(\\theta)} \\quad \\Rightarrow \\quad \\sec(\\theta) \\cdot \\tan(\\theta) = \\dfrac{1}{\\cos(\\theta)} \\cdot \\tan(\\theta)\n",
    "$$  \n",
    "So:\n",
    "$$\n",
    "= \\dfrac{\\tan(\\theta)}{\\cos(\\theta)} = \\text{RHS}\n",
    "$$\n",
    "\n",
    "**Answer:** ✅ **True**"
   ]
  }
 ],
 "metadata": {
  "kernelspec": {
   "display_name": "Python 3 (ipykernel)",
   "language": "python",
   "name": "python3"
  },
  "language_info": {
   "codemirror_mode": {
    "name": "ipython",
    "version": 3
   },
   "file_extension": ".py",
   "mimetype": "text/x-python",
   "name": "python",
   "nbconvert_exporter": "python",
   "pygments_lexer": "ipython3",
   "version": "3.12.6"
  }
 },
 "nbformat": 4,
 "nbformat_minor": 5
}
