{
 "cells": [
  {
   "cell_type": "markdown",
   "id": "433c0a4e-188c-44e8-b287-d63fdd2b75b0",
   "metadata": {},
   "source": [
    "# Core Formulas — Quotient Identities\n",
    "\n",
    "The **Quotient Identities** express tangent and cotangent in terms of sine and cosine:\n",
    "\n",
    "$$\n",
    "\\tan(\\theta) = \\dfrac{\\sin(\\theta)}{\\cos(\\theta)}\n",
    "$$\n",
    "\n",
    "$$\n",
    "\\cot(\\theta) = \\dfrac{\\cos(\\theta)}{\\sin(\\theta)}\n",
    "$$\n",
    "\n",
    "> These are frequently used in simplification, trigonometric proofs, and calculus (especially in derivatives, limits, and integrals involving $\\tan$ and $\\cot$)."
   ]
  }
 ],
 "metadata": {
  "kernelspec": {
   "display_name": "Python 3 (ipykernel)",
   "language": "python",
   "name": "python3"
  },
  "language_info": {
   "codemirror_mode": {
    "name": "ipython",
    "version": 3
   },
   "file_extension": ".py",
   "mimetype": "text/x-python",
   "name": "python",
   "nbconvert_exporter": "python",
   "pygments_lexer": "ipython3",
   "version": "3.12.6"
  }
 },
 "nbformat": 4,
 "nbformat_minor": 5
}
