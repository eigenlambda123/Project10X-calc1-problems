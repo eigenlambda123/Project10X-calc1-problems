{
 "cells": [
  {
   "cell_type": "markdown",
   "id": "c65955f2-fdf6-44b1-868c-c4d1fc48e371",
   "metadata": {},
   "source": [
    "# **Problems** \n",
    "**4.** Simplify:  \n",
    "$\\dfrac{\\sin(\\theta)}{\\cos(\\theta)}$\n",
    "\n",
    "**5.** Simplify:  \n",
    "$\\dfrac{\\cos(\\theta)}{\\sin(\\theta)}$\n",
    "\n",
    "**6.** Simplify:  \n",
    "$\\tan(\\theta) \\cdot \\cos(\\theta)$\n",
    "\n",
    "**7.** Simplify:  \n",
    "$\\cot(\\theta) \\cdot \\sin(\\theta)$\n"
   ]
  },
  {
   "cell_type": "markdown",
   "id": "08d52839-3b9f-4102-93d0-60e7c1d090cb",
   "metadata": {},
   "source": [
    "---\n",
    "\n",
    "# **Solutions**\n",
    "\n",
    "\n",
    "**4.** Simplify:\n",
    "$$\n",
    "\\dfrac{\\sin(\\theta)}{\\cos(\\theta)}\n",
    "$$\n",
    "\n",
    "Using the identity:\n",
    "$$\n",
    "\\tan(\\theta) = \\dfrac{\\sin(\\theta)}{\\cos(\\theta)}\n",
    "$$\n",
    "\n",
    "**Answer:** $\\tan(\\theta)$\n",
    "\n",
    "\n",
    "**5.** Simplify:\n",
    "$$\n",
    "\\dfrac{\\cos(\\theta)}{\\sin(\\theta)}\n",
    "$$\n",
    "\n",
    "Using the identity:\n",
    "$$\n",
    "\\cot(\\theta) = \\dfrac{\\cos(\\theta)}{\\sin(\\theta)}\n",
    "$$\n",
    "\n",
    "**Answer:** $\\cot(\\theta)$\n",
    "\n",
    "\n",
    "**6.** Simplify:\n",
    "$$\n",
    "\\tan(\\theta) \\cdot \\cos(\\theta)\n",
    "$$\n",
    "\n",
    "Substitute identity:\n",
    "$$\n",
    "\\tan(\\theta) = \\dfrac{\\sin(\\theta)}{\\cos(\\theta)} \\quad \\Rightarrow \\quad \\dfrac{\\sin(\\theta)}{\\cos(\\theta)} \\cdot \\cos(\\theta) = \\sin(\\theta)\n",
    "$$\n",
    "\n",
    "**Answer:** $\\sin(\\theta)$\n",
    "\n",
    "\n",
    "**7.** Simplify:\n",
    "$$\n",
    "\\cot(\\theta) \\cdot \\sin(\\theta)\n",
    "$$\n",
    "\n",
    "Substitute identity:\n",
    "$$\n",
    "\\cot(\\theta) = \\dfrac{\\cos(\\theta)}{\\sin(\\theta)} \\quad \\Rightarrow \\quad \\dfrac{\\cos(\\theta)}{\\sin(\\theta)} \\cdot \\sin(\\theta) = \\cos(\\theta)\n",
    "$$\n",
    "\n",
    "**Answer:** $\\cos(\\theta)$\n"
   ]
  }
 ],
 "metadata": {
  "kernelspec": {
   "display_name": "Python 3 (ipykernel)",
   "language": "python",
   "name": "python3"
  },
  "language_info": {
   "codemirror_mode": {
    "name": "ipython",
    "version": 3
   },
   "file_extension": ".py",
   "mimetype": "text/x-python",
   "name": "python",
   "nbconvert_exporter": "python",
   "pygments_lexer": "ipython3",
   "version": "3.12.6"
  }
 },
 "nbformat": 4,
 "nbformat_minor": 5
}
