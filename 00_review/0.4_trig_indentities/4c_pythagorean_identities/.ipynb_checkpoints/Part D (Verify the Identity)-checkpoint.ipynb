{
 "cells": [
  {
   "cell_type": "markdown",
   "id": "19692274-e713-4d9d-901f-2af5c9a683cc",
   "metadata": {},
   "source": [
    "# **Problems**\n",
    "\n",
    "**10.** Verify:  \n",
    "$\\dfrac{1}{\\cos^2(\\theta)} - \\tan^2(\\theta) = 1$\n",
    "\n",
    "**11.** Verify:  \n",
    "$\\cot^2(\\theta) + 1 = \\csc^2(\\theta)$"
   ]
  },
  {
   "cell_type": "markdown",
   "id": "52954c41-0713-4240-9a84-09970195d566",
   "metadata": {},
   "source": [
    "---\n",
    "\n",
    "# **Solutions**\n",
    "\n",
    "**10.** **Left-hand side (LHS):**  \n",
    "We know:\n",
    "- $\\dfrac{1}{\\cos^2(\\theta)} = \\sec^2(\\theta)$\n",
    "- $\\tan^2(\\theta) = \\sec^2(\\theta) - 1$\n",
    "\n",
    "So:\n",
    "$$\n",
    "\\dfrac{1}{\\cos^2(\\theta)} - \\tan^2(\\theta) = \\sec^2(\\theta) - (\\sec^2(\\theta) - 1) = 1\n",
    "$$\n",
    "\n",
    "**Right-hand side (RHS):**  \n",
    "$$\n",
    "1\n",
    "$$\n",
    "\n",
    "**Conclusion:**  \n",
    "LHS = RHS ✅  \n",
    "**Answer:** Identity is verified.\n",
    "\n",
    "\n",
    "**11.** **Use the Pythagorean identity:**\n",
    "$$\n",
    "1 + \\cot^2(\\theta) = \\csc^2(\\theta)\n",
    "$$\n",
    "\n",
    "Just rearranged:\n",
    "$$\n",
    "\\cot^2(\\theta) + 1 = \\csc^2(\\theta)\n",
    "$$\n",
    "\n",
    "**Conclusion:**  \n",
    "LHS = RHS ✅  \n",
    "**Answer:** Identity is verified."
   ]
  }
 ],
 "metadata": {
  "kernelspec": {
   "display_name": "Python 3 (ipykernel)",
   "language": "python",
   "name": "python3"
  },
  "language_info": {
   "codemirror_mode": {
    "name": "ipython",
    "version": 3
   },
   "file_extension": ".py",
   "mimetype": "text/x-python",
   "name": "python",
   "nbconvert_exporter": "python",
   "pygments_lexer": "ipython3",
   "version": "3.12.6"
  }
 },
 "nbformat": 4,
 "nbformat_minor": 5
}
