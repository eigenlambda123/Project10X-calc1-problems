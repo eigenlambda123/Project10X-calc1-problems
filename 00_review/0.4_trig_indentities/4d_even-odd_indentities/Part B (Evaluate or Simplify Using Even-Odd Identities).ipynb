{
 "cells": [
  {
   "cell_type": "markdown",
   "id": "69739faa-2471-47b4-8767-cded623cb767",
   "metadata": {},
   "source": [
    "# **Problems**\n",
    "\n",
    "**4.** Simplify:  \n",
    "$\\sin(-x)$\n",
    "\n",
    "**5.** Simplify:  \n",
    "$\\cos(-x)$\n",
    "\n",
    "**6.** Simplify:  \n",
    "$\\tan(-\\theta) + \\tan(\\theta)$\n",
    "\n",
    "**7.** Simplify:  \n",
    "$\\cot(-\\theta) + \\cot(\\theta)$\n",
    "\n",
    "**8.** Simplify:  \n",
    "$\\sec(-\\theta)\\cos(\\theta)$\n"
   ]
  },
  {
   "cell_type": "markdown",
   "id": "33a86b77-c49d-491f-9849-e04dec0c103e",
   "metadata": {},
   "source": [
    "---\n",
    "\n",
    "# **Solutions**\n",
    "\n",
    "**4.** Using identity:\n",
    "$$\n",
    "\\sin(-x) = -\\sin(x)\n",
    "$$\n",
    "\n",
    "**Answer:**  \n",
    "$\\boxed{-\\sin(x)}$\n",
    "\n",
    "\n",
    "**5** Using identity:\n",
    "$$\n",
    "\\cos(-x) = \\cos(x)\n",
    "$$\n",
    "\n",
    "**Answer:**  \n",
    "$\\boxed{\\cos(x)}$\n",
    "\n",
    "\n",
    "**6.** **Use:** $\\tan(-\\theta) = -\\tan(\\theta)$\n",
    "$$\n",
    "\\tan(-\\theta) + \\tan(\\theta) = -\\tan(\\theta) + \\tan(\\theta) = 0\n",
    "$$\n",
    "\n",
    "**Answer:**  \n",
    "$\\boxed{0}$\n",
    "\n",
    "\n",
    "**7.**  **Use:** $\\cot(-\\theta) = -\\cot(\\theta)$\n",
    "$$\n",
    "-\\cot(\\theta) + \\cot(\\theta) = 0\n",
    "$$\n",
    "\n",
    "**Answer:**  \n",
    "$\\boxed{0}$\n",
    "\n",
    "\n",
    "**8.**  **Use:** $\\sec(-\\theta) = \\sec(\\theta)$\n",
    "$$\n",
    "\\sec(-\\theta)\\cos(\\theta) = \\sec(\\theta)\\cos(\\theta) = 1\n",
    "$$\n",
    "\n",
    "**Answer:**  \n",
    "$\\boxed{1}$\n"
   ]
  }
 ],
 "metadata": {
  "kernelspec": {
   "display_name": "Python 3 (ipykernel)",
   "language": "python",
   "name": "python3"
  },
  "language_info": {
   "codemirror_mode": {
    "name": "ipython",
    "version": 3
   },
   "file_extension": ".py",
   "mimetype": "text/x-python",
   "name": "python",
   "nbconvert_exporter": "python",
   "pygments_lexer": "ipython3",
   "version": "3.12.6"
  }
 },
 "nbformat": 4,
 "nbformat_minor": 5
}
