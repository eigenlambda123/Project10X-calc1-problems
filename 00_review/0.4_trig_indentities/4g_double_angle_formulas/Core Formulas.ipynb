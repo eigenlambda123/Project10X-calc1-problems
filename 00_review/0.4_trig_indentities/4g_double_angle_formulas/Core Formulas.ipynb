{
 "cells": [
  {
   "cell_type": "markdown",
   "id": "cc4e26c6-17f9-4c1a-9150-dc51d3efb1a2",
   "metadata": {},
   "source": [
    "### **Sine:**\n",
    "$$\n",
    "\\sin(2\\theta) = 2\\sin(\\theta)\\cos(\\theta)\n",
    "$$\n",
    "\n",
    "### **Cosine (3 forms):**\n",
    "$$\n",
    "\\cos(2\\theta) = \\cos^2(\\theta) - \\sin^2(\\theta)\n",
    "= 2\\cos^2(\\theta) - 1\n",
    "= 1 - 2\\sin^2(\\theta)\n",
    "$$\n",
    "\n",
    "### **Tangent:**\n",
    "$$\n",
    "\\tan(2\\theta) = \\dfrac{2\\tan(\\theta)}{1 - \\tan^2(\\theta)}\n",
    "$$"
   ]
  }
 ],
 "metadata": {
  "kernelspec": {
   "display_name": "Python 3 (ipykernel)",
   "language": "python",
   "name": "python3"
  },
  "language_info": {
   "codemirror_mode": {
    "name": "ipython",
    "version": 3
   },
   "file_extension": ".py",
   "mimetype": "text/x-python",
   "name": "python",
   "nbconvert_exporter": "python",
   "pygments_lexer": "ipython3",
   "version": "3.12.6"
  }
 },
 "nbformat": 4,
 "nbformat_minor": 5
}
