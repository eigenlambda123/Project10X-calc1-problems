{
 "cells": [
  {
   "cell_type": "markdown",
   "id": "c13fb83b-0f03-4f08-9a7c-7e7d04e1b6dd",
   "metadata": {},
   "source": [
    "### **Graph of $y = \\sin(x)$**\n",
    "\n",
    "### General form:\n",
    "$$\n",
    "y = A \\cdot \\sin(Bx + C) + D\n",
    "$$\n",
    "\n",
    "- **Amplitude**: 1  \n",
    "- **Period**: $2\\pi$  \n",
    "- **Domain**: $(-\\infty, \\infty)$  \n",
    "- **Range**: $[-1, 1]$  \n",
    "- **Key points** (over one period):\n",
    "  - $(0, 0)$\n",
    "  - $\\left(\\dfrac{\\pi}{2}, 1\\right)$\n",
    "  - $(\\pi, 0)$\n",
    "  - $\\left(\\dfrac{3\\pi}{2}, -1\\right)$\n",
    "  - $(2\\pi, 0)$\n",
    "\n",
    "The sine graph **starts at 0** and oscillates between $-1$ and $1$.\n",
    "\n"
   ]
  }
 ],
 "metadata": {
  "kernelspec": {
   "display_name": "Python 3 (ipykernel)",
   "language": "python",
   "name": "python3"
  },
  "language_info": {
   "codemirror_mode": {
    "name": "ipython",
    "version": 3
   },
   "file_extension": ".py",
   "mimetype": "text/x-python",
   "name": "python",
   "nbconvert_exporter": "python",
   "pygments_lexer": "ipython3",
   "version": "3.12.6"
  }
 },
 "nbformat": 4,
 "nbformat_minor": 5
}
