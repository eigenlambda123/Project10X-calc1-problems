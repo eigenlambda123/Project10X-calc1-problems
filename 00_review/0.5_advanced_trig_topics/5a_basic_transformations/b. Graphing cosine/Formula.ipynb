{
 "cells": [
  {
   "cell_type": "markdown",
   "id": "9d9cad8f-b76e-469f-8007-3a2113e1e90b",
   "metadata": {},
   "source": [
    "### **Graph of $y = \\cos(x)$**\n",
    "\n",
    "### General form:\n",
    "$$\n",
    "y = A \\cdot \\cos(Bx + C) + D\n",
    "$$\n",
    "\n",
    "- **Amplitude**: 1  \n",
    "- **Period**: $2\\pi$  \n",
    "- **Domain**: $(-\\infty, \\infty)$  \n",
    "- **Range**: $[-1, 1]$  \n",
    "- **Key points** (over one period):\n",
    "  - $(0, 1)$\n",
    "  - $\\left(\\dfrac{\\pi}{2}, 0\\right)$\n",
    "  - $(\\pi, -1)$\n",
    "  - $\\left(\\dfrac{3\\pi}{2}, 0\\right)$\n",
    "  - $(2\\pi, 1)$\n",
    "\n",
    "The cosine graph **starts at its maximum (1)** and oscillates between $-1$ and $1$.\n"
   ]
  }
 ],
 "metadata": {
  "kernelspec": {
   "display_name": "Python 3 (ipykernel)",
   "language": "python",
   "name": "python3"
  },
  "language_info": {
   "codemirror_mode": {
    "name": "ipython",
    "version": 3
   },
   "file_extension": ".py",
   "mimetype": "text/x-python",
   "name": "python",
   "nbconvert_exporter": "python",
   "pygments_lexer": "ipython3",
   "version": "3.12.6"
  }
 },
 "nbformat": 4,
 "nbformat_minor": 5
}
