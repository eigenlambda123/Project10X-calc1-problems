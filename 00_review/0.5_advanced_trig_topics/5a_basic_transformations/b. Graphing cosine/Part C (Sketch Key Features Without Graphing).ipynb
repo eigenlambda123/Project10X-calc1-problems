{
 "cells": [
  {
   "cell_type": "markdown",
   "id": "ee063d63-0b49-414f-a1ac-b0cfecdd20d0",
   "metadata": {},
   "source": [
    "### **Problems**\n",
    "\n",
    "**10.** For $y = \\cos(5x)$, list x-values of 5 key points over one period.\n",
    "\n",
    "**11.** For $y = \\cos\\left(x - \\dfrac{\\pi}{6}\\right)$, what is the **starting point**?\n",
    "\n",
    "**12.** For $y = -4\\cos(x)$, what are the **maximum and minimum** values?\n",
    "\n",
    "**13.** For $y = \\cos(x) + 3$, what is the **range**?\n",
    "\n",
    "**14.** For $y = \\cos(2x)$, how many cycles appear between $x = 0$ and $x = 2\\pi$?"
   ]
  },
  {
   "cell_type": "markdown",
   "id": "8d79156c-515b-46ad-a53f-b878f8b607e5",
   "metadata": {},
   "source": [
    "---\n",
    "\n",
    "### **Solutions**\n",
    "\n",
    "**10.** For $y = \\cos(5x)$  \n",
    "- **Amplitude**: 1  \n",
    "- **Period**: $\\dfrac{2\\pi}{5}$  \n",
    "- **Key Points** over one cycle (divide period into 4 parts):\n",
    "  - $x = 0$ → $\\cos(0) = 1$  \n",
    "  - $x = \\dfrac{\\pi}{10}$ → $\\cos\\left(\\dfrac{\\pi}{2}\\right) = 0$  \n",
    "  - $x = \\dfrac{\\pi}{5}$ → $\\cos(\\pi) = -1$  \n",
    "  - $x = \\dfrac{3\\pi}{10}$ → $\\cos\\left(\\dfrac{3\\pi}{2}\\right) = 0$  \n",
    "  - $x = \\dfrac{2\\pi}{5}$ → $\\cos(2\\pi) = 1$  \n",
    "\n",
    "**Answer:**  \n",
    "Key x-values:  \n",
    "$0,\\ \\dfrac{\\pi}{10},\\ \\dfrac{\\pi}{5},\\ \\dfrac{3\\pi}{10},\\ \\dfrac{2\\pi}{5}$\n",
    "\n",
    "\n",
    "**11.** For $y = \\cos\\left(x - \\dfrac{\\pi}{6}\\right)$  \n",
    "- **Phase Shift**: Solve $x - \\dfrac{\\pi}{6} = 0$  \n",
    "- $\\Rightarrow$ Start at $x = \\dfrac{\\pi}{6}$  \n",
    "\n",
    "**Answer:**  \n",
    "Starting point: $\\dfrac{\\pi}{6}$\n",
    "\n",
    "\n",
    "**12.** For $y = -4\\cos(x)$  \n",
    "- **Amplitude**: 4 (reflected)  \n",
    "- **Maximum value**: $-4 \\cdot \\min[\\cos(x)] = -4 \\cdot (-1) = 4$  \n",
    "- **Minimum value**: $-4 \\cdot \\max[\\cos(x)] = -4 \\cdot 1 = -4$  \n",
    "\n",
    "**Answer:**  \n",
    "- Max = $4$  \n",
    "- Min = $-4$\n",
    "\n",
    "\n",
    "**13.** For $y = \\cos(x) + 3$  \n",
    "- Cosine has range $[-1, 1]$  \n",
    "- Shift up by 3 → $[-1 + 3,\\ 1 + 3] = [2, 4]$  \n",
    "\n",
    "**Answer:**  \n",
    "Range: $[2,\\ 4]$\n",
    "\n",
    "\n",
    "**14.** For $y = \\cos(2x)$  \n",
    "- **Period**: $\\dfrac{2\\pi}{2} = \\pi$  \n",
    "- From $x = 0$ to $x = 2\\pi$:  \n",
    "  $2\\pi \\div \\pi = 2$ full cycles  \n",
    "\n",
    "**Answer:**  \n",
    "Number of cycles between $0$ and $2\\pi$: **2**"
   ]
  },
  {
   "cell_type": "code",
   "execution_count": null,
   "id": "a1df8cb1-0769-4f98-9fe0-b04bc1a3341e",
   "metadata": {},
   "outputs": [],
   "source": []
  }
 ],
 "metadata": {
  "kernelspec": {
   "display_name": "Python 3 (ipykernel)",
   "language": "python",
   "name": "python3"
  },
  "language_info": {
   "codemirror_mode": {
    "name": "ipython",
    "version": 3
   },
   "file_extension": ".py",
   "mimetype": "text/x-python",
   "name": "python",
   "nbconvert_exporter": "python",
   "pygments_lexer": "ipython3",
   "version": "3.12.6"
  }
 },
 "nbformat": 4,
 "nbformat_minor": 5
}
