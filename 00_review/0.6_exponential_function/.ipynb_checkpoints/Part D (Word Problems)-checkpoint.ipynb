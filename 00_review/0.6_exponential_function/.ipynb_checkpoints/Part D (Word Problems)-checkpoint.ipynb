{
 "cells": [
  {
   "cell_type": "markdown",
   "id": "3e72ed26-3404-46df-9463-931cd33b2e53",
   "metadata": {},
   "source": [
    "### **Problems**\n",
    "\n",
    "**Real-life applications:**\n",
    "\n",
    "**1.** A population of bacteria doubles every **3 hours**. If there are **500** initially, write an exponential function for the population and find the size after **9 hours**.\n",
    "\n",
    "**2.** A car’s value depreciates by **20%** each year. If the car is worth $25,000$ now, write an equation for its value after $t$ years.\n",
    "\n",
    "**3.** You deposit **$1000** into an account earning 6% interest compounded annually.  \n",
    "   - Write an exponential model.  \n",
    "   - How much will be in the account after **5 years**?\n",
    "\n",
    "---"
   ]
  },
  {
   "cell_type": "markdown",
   "id": "160f6d35-499c-491d-8971-4fe86f076be1",
   "metadata": {},
   "source": [
    "### **Solutions**\n",
    "\n",
    "**1.** Let\n",
    "\n",
    "- Initial population: $P_0 = 500$\n",
    "- Doubling every 3 hours $\\Rightarrow$ base: $2^{t/3}$\n",
    "- Time in hours: $t$\n",
    "\n",
    "**Exponential Model:**\n",
    "$$P(t) = 500 \\cdot 2^{t/3}$$\n",
    "\n",
    "**Find $P(9)$:**\n",
    "$$P(9) = 500 \\cdot 2^{9/3} = 500 \\cdot 2^3 = 500 \\cdot 8 = 4000$$\n",
    "\n",
    "After 9 hours, the population will be **4000**.\n",
    "\n",
    "\n",
    "**2.** Let\n",
    "\n",
    "- Initial value: $V_0 = 25,!000$\n",
    "- Depreciation rate: 20% = 0.20\n",
    "- Remaining value each year: 80% = 0.80\n",
    "\n",
    "**Exponential Model:**\n",
    "$$V(t) = 25,\\!000 \\cdot (0.8)^t$$\n",
    "\n",
    "This gives the car’s value after $t$ years.\n",
    "\n",
    "\n",
    "**3.** Let\n",
    "\n",
    "- Principal: $P = 1000$\n",
    "- Annual rate: $r = 0.06$\n",
    "- Time: $t$ years\n",
    "- Compounded annually $\\Rightarrow n = 1$\n",
    "\n",
    "**Exponential Model:**\n",
    "$$A(t) = 1000 \\cdot \\left(1 + 0.06\\right)^t = 1000 \\cdot (1.06)^t$$\n",
    "\n",
    "**Find $A(5)$:**\n",
    "$$A(5) = 1000 \\cdot (1.06)^5 \\approx 1000 \\cdot 1.3382 = 1338.23$$\n",
    "\n",
    "After 5 years, the account will have approximately **$1338.23**.\n"
   ]
  }
 ],
 "metadata": {
  "kernelspec": {
   "display_name": "Python 3 (ipykernel)",
   "language": "python",
   "name": "python3"
  },
  "language_info": {
   "codemirror_mode": {
    "name": "ipython",
    "version": 3
   },
   "file_extension": ".py",
   "mimetype": "text/x-python",
   "name": "python",
   "nbconvert_exporter": "python",
   "pygments_lexer": "ipython3",
   "version": "3.12.6"
  }
 },
 "nbformat": 4,
 "nbformat_minor": 5
}
