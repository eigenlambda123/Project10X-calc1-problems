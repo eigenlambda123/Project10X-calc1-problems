{
 "cells": [
  {
   "cell_type": "markdown",
   "id": "233732f1-43ce-400c-a56d-4baa6f079db0",
   "metadata": {},
   "source": [
    "### **Problems**\n",
    "\n",
    "**Simplify:**\n",
    "1. $2^3 \\cdot 2^5$ \n",
    "2. $\\frac{10^6}{10^2}$  \n",
    "3. $(3^2)^4$  \n",
    "4. $\\left(\\frac{1}{5}\\right)^{-2}$\n",
    "5. $(2^x)^3 \\cdot 2^{-2x}$\n"
   ]
  },
  {
   "cell_type": "markdown",
   "id": "eddc859c-8cba-4054-98a3-d33b2685804a",
   "metadata": {},
   "source": [
    "---\n",
    "\n",
    "### **Solutions**\n",
    "\n",
    "1.  $2^3 \\cdot 2^5 = 2^{3+5} = 2^8 = \\boxed{256}$\n",
    "\n",
    "2.  $\\frac{10^6}{10^2} = 10^{6 - 2} = 10^4 = \\boxed{10{,}000}$\n",
    "\n",
    "3. $(3^2)^4 = 3^{2 \\cdot 4} = 3^8 = \\boxed{6561}$\n",
    "\n",
    "4. $\\left(\\frac{1}{5}\\right)^{-2} = 5^2 = \\boxed{25}$\n",
    "\n",
    "5. $(2^x)^3 \\cdot 2^{-2x} = 2^{3x} \\cdot 2^{-2x} = 2^{3x - 2x} = \\boxed{2^x}$\n",
    "\n"
   ]
  }
 ],
 "metadata": {
  "kernelspec": {
   "display_name": "Python 3 (ipykernel)",
   "language": "python",
   "name": "python3"
  },
  "language_info": {
   "codemirror_mode": {
    "name": "ipython",
    "version": 3
   },
   "file_extension": ".py",
   "mimetype": "text/x-python",
   "name": "python",
   "nbconvert_exporter": "python",
   "pygments_lexer": "ipython3",
   "version": "3.12.6"
  }
 },
 "nbformat": 4,
 "nbformat_minor": 5
}
