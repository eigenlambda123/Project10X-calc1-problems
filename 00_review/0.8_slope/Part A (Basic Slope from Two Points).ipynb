{
 "cells": [
  {
   "cell_type": "markdown",
   "id": "9a27a4c0-d690-401c-8726-f57720e24e03",
   "metadata": {},
   "source": [
    "### **Problems**\n",
    "\n",
    "**Find the slope $m$ between each pair of points:**\n",
    "\n",
    "1. $A(2, 3),\\ B(5, 9)$\n",
    "2. $A(-1, 4),\\ B(2, 4)$\n",
    "3. $A(0, 0),\\ B(-3, -6)$\n",
    "4. $A(7, -2),\\ B(7, 5)$\n",
    "5. $A(-2, 1),\\ B(3, -4)$\n",
    "\n",
    "---"
   ]
  },
  {
   "cell_type": "markdown",
   "id": "f7adde9e-8ea3-4587-884b-f2dad082a7dd",
   "metadata": {},
   "source": [
    "### **Solutions**\n",
    "1. $A(2, 3),\\ B(5, 9)$  \n",
    "    $m = \\frac{9 - 3}{5 - 2} = \\frac{6}{3} = \\boxed{2}$\n",
    "\n",
    "2. $A(-1, 4),\\ B(2, 4)$  \n",
    "    $m = \\frac{4 - 4}{2 - (-1)} = \\frac{0}{3} = \\boxed{0}$\n",
    "\n",
    "3. $A(0, 0),\\ B(-3, -6)$  \n",
    "    $m = \\frac{-6 - 0}{-3 - 0} = \\frac{-6}{-3} = \\boxed{2}$\n",
    "\n",
    "4. $A(7, -2),\\ B(7, 5)$  \n",
    "    $m = \\frac{5 - (-2)}{7 - 7} = \\frac{7}{0} \\rightarrow$ **undefined slope**  \n",
    "    $\\boxed{\\text{undefined}}$\n",
    "\n",
    "5. $A(-2, 1),\\ B(3, -4)$  \n",
    "    $m = \\frac{-4 - 1}{3 - (-2)} = \\frac{-5}{5} = \\boxed{-1}$\n"
   ]
  }
 ],
 "metadata": {
  "kernelspec": {
   "display_name": "Python 3 (ipykernel)",
   "language": "python",
   "name": "python3"
  },
  "language_info": {
   "codemirror_mode": {
    "name": "ipython",
    "version": 3
   },
   "file_extension": ".py",
   "mimetype": "text/x-python",
   "name": "python",
   "nbconvert_exporter": "python",
   "pygments_lexer": "ipython3",
   "version": "3.12.6"
  }
 },
 "nbformat": 4,
 "nbformat_minor": 5
}
