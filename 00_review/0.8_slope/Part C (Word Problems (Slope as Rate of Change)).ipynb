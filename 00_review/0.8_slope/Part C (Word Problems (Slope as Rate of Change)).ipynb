{
 "cells": [
  {
   "cell_type": "markdown",
   "id": "1b2d1ed1-e2ba-4890-9d98-7b881f02030b",
   "metadata": {},
   "source": [
    "### **Problems**\n",
    "\n",
    "**Solve and interpret your answers.**\n",
    "\n",
    "1. A car travels 180 km in 3 hours. What is the average speed?\n",
    "2. The temperature drops from 22°C to 10°C over 4 hours. What is the average rate of temperature change?\n",
    "3. A ladder leans against a wall. The top is 12 ft high, and the base is 5 ft from the wall. What is the slope of the ladder?\n",
    "4. A rental company charges  50 as a base fee and 10 per hour. What’s the slope, and what does it mean?\n",
    "5. A straight road climbs 60 meters vertically over a horizontal distance of 500 meters. What is the slope?\n",
    "\n",
    "---"
   ]
  },
  {
   "cell_type": "markdown",
   "id": "38817e1e-b35b-4143-965f-c022526f85d5",
   "metadata": {},
   "source": [
    "### **Solutions**\n",
    "\n",
    "1. $\\text{Average speed} = \\frac{180\\ \\text{km}}{3\\ \\text{h}} = 60\\ \\text{km/h}$\n",
    "\n",
    "**Interpretation:**  \n",
    "The car travels **60 kilometers every hour**.\n",
    "\n",
    "\n",
    "2. $\\frac{10^\\circ \\text{C} - 22^\\circ \\text{C}}{4\\ \\text{h}} = \\frac{-12}{4} = -3^\\circ \\text{C per hour}$\n",
    "\n",
    "**Interpretation:**  \n",
    "The temperature decreases by **3°C each hour**.\n",
    "\n",
    "\n",
    "3. $\\text{Slope} = \\frac{12}{5} = 2.4$\n",
    "\n",
    "**Interpretation:**  \n",
    "For every **1 foot moved horizontally**, the ladder rises **2.4 feet**.\n",
    "\n",
    "\n",
    "4. $\\text{Slope} = 10$\n",
    "\n",
    "**Interpretation:**  \n",
    "The cost increases by **\\$10 per hour**.\n",
    "\n",
    "\n",
    "5. $\\text{Slope} = \\frac{60}{500} = 0.12$\n",
    "\n",
    "**Interpretation:**  \n",
    "The road rises **0.12 meters** for every **1 meter** of horizontal distance."
   ]
  }
 ],
 "metadata": {
  "kernelspec": {
   "display_name": "Python 3 (ipykernel)",
   "language": "python",
   "name": "python3"
  },
  "language_info": {
   "codemirror_mode": {
    "name": "ipython",
    "version": 3
   },
   "file_extension": ".py",
   "mimetype": "text/x-python",
   "name": "python",
   "nbconvert_exporter": "python",
   "pygments_lexer": "ipython3",
   "version": "3.12.6"
  }
 },
 "nbformat": 4,
 "nbformat_minor": 5
}
