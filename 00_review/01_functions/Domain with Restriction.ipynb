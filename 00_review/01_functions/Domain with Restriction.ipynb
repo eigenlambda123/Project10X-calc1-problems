{
 "cells": [
  {
   "cell_type": "markdown",
   "id": "ff4260de-3e55-40c2-9643-7904c828d04c",
   "metadata": {},
   "source": [
    "### **Problem 1:**  \n",
    "Find the domain of $$ f(w) = \\frac{w^2 - 3w + 1}{12w - 7}. $$  \n",
    "\n",
    "### **Solution 1:**  \n",
    "Since $12w - 7$ is in the denominator, it cannot be zero.  \n",
    "\n",
    "$$ 12w - 7 \\neq 0 $$  \n",
    "\n",
    "$$ 12w \\neq 7 $$  \n",
    "\n",
    "$$ w \\neq \\frac{7}{12} $$  \n",
    "\n",
    "**Domain:** All real numbers except $w = \\frac{7}{12}$.  \n",
    "\n",
    "In interval notation:  \n",
    "$$ \\left( -\\infty, \\frac{7}{12} \\right) \\cup \\left( \\frac{7}{12}, \\infty \\right) $$  "
   ]
  },
  {
   "cell_type": "markdown",
   "id": "2c722096-3e5a-442f-8de4-ed14b71d36e0",
   "metadata": {},
   "source": [
    "---"
   ]
  },
  {
   "cell_type": "markdown",
   "id": "12254dfc-0020-4596-bdd7-ca196dbbfdb2",
   "metadata": {},
   "source": [
    "### **Problem 2:**  \n",
    "Find the domain of  \n",
    "$$ R(z) = \\frac{3}{z^3 + 10z^2 + 9z}. $$  \n",
    "\n",
    "### **Solution 2:**  \n",
    "Since $z^3 + 10z^2 + 9z$ is in the denominator, it cannot be zero.  \n",
    "\n",
    "First, factor the denominator:  \n",
    "$$ z^3 + 10z^2 + 9z = z(z^2 + 10z + 9) = z(z + 1)(z + 9). $$  \n",
    "\n",
    "Set the denominator not equal to zero:  \n",
    "$$ z(z + 1)(z + 9) \\neq 0. $$  \n",
    "\n",
    "This gives the restrictions:  \n",
    "$$ z \\neq 0, \\quad z \\neq -1, \\quad z \\neq -9. $$  \n",
    "\n",
    "**Domain:** All real numbers except $z = 0$, $z = -1$, and $z = -9$.  \n",
    "\n",
    "In interval notation:  \n",
    "$$ \\left( -\\infty, -9 \\right) \\cup \\left( -9, -1 \\right) \\cup \\left( -1, 0 \\right) \\cup \\left( 0, \\infty \\right). $$  "
   ]
  },
  {
   "cell_type": "markdown",
   "id": "895ee9a0-24ad-480a-870c-532757875451",
   "metadata": {},
   "source": [
    "---"
   ]
  },
  {
   "cell_type": "markdown",
   "id": "0ca76e46-f2e3-4e21-9d5a-d26c29f67fdf",
   "metadata": {},
   "source": [
    "### **Problem 3:**  \n",
    "Find the domain of  \n",
    "$$ g(t) = \\frac{6t - t^3}{7 - t - 4t^2}. $$  \n",
    "\n",
    "### **Solution 3:**  \n",
    "Since $7 - t - 4t^2$ is in the denominator, it cannot be zero.  \n",
    "\n",
    "First, set the denominator not equal to zero:  \n",
    "$$ 7 - t - 4t^2 \\neq 0. $$  \n",
    "\n",
    "Rewrite the equation in standard form:  \n",
    "$$ -4t^2 - t + 7 \\neq 0. $$  \n",
    "\n",
    "Multiply both sides by $-1$ (the inequality remains $\\neq$):  \n",
    "$$ 4t^2 + t - 7 \\neq 0. $$  \n",
    "\n",
    "Find the roots of $4t^2 + t - 7 = 0$ using the quadratic formula:  \n",
    "$$ t = \\frac{-b \\pm \\sqrt{b^2 - 4ac}}{2a}, $$  \n",
    "where $a = 4$, $b = 1$, and $c = -7$.  \n",
    "\n",
    "Calculate the discriminant:  \n",
    "$$ \\Delta = b^2 - 4ac = 1^2 - 4(4)(-7) = 1 + 112 = 113. $$  \n",
    "\n",
    "Thus, the roots are:  \n",
    "$$ t = \\frac{-1 \\pm \\sqrt{113}}{8}. $$  \n",
    "\n",
    "**Domain:** All real numbers except $t = \\frac{-1 + \\sqrt{113}}{8}$ and $t = \\frac{-1 - \\sqrt{113}}{8}$.  \n",
    "\n",
    "In interval notation:  \n",
    "$$ \\left( -\\infty, \\frac{-1 - \\sqrt{113}}{8} \\right) \\cup \\left( \\frac{-1 - \\sqrt{113}}{8}, \\frac{-1 + \\sqrt{113}}{8} \\right) \\cup \\left( \\frac{-1 + \\sqrt{113}}{8}, \\infty \\right). $$  \n"
   ]
  },
  {
   "cell_type": "markdown",
   "id": "6422d770-d0ca-4435-8cff-a6174f616fea",
   "metadata": {},
   "source": [
    "---"
   ]
  },
  {
   "cell_type": "markdown",
   "id": "30f2ef86-2b24-4bb7-ae77-03cac40f7519",
   "metadata": {},
   "source": [
    "blem 4:**  \n",
    "Find the domain of  \n",
    "$$ g(x) = \\sqrt{25 - x^2}. $$  \n",
    "\n",
    "### **Solution 4:**  \n",
    "The expression under the square root must be non-negative:  \n",
    "$$ 25 - x^2 \\geq 0. $$  \n",
    "\n",
    "Rewrite the inequality:  \n",
    "$$ -x^2 \\geq -25 $$  \n",
    "Multiply both sides by $-1$ (reverse the inequality sign):  \n",
    "$$ x^2 \\leq 25. $$  \n",
    "\n",
    "This gives:  \n",
    "$$ -5 \\leq x \\leq 5. $$  \n",
    "\n",
    "**Domain:** All real numbers $x$ such that $-5 \\leq x \\leq 5$.  \n",
    "\n",
    "In interval notation:  \n",
    "$$ [-5, 5]. $$  "
   ]
  },
  {
   "cell_type": "markdown",
   "id": "f42c6f0b-78d5-4f2c-af20-ec0117063660",
   "metadata": {},
   "source": [
    "---"
   ]
  },
  {
   "cell_type": "markdown",
   "id": "b62e3719-046c-4066-84a9-753c49245392",
   "metadata": {},
   "source": [
    "### **Problem 5:**  \n",
    "Find the domain of  \n",
    "$$ \\sqrt{x^4 - x^3 - 20x^2}. $$  \n",
    "\n",
    "### **Solution 5:**  \n",
    "The expression under the square root must be non-negative:  \n",
    "$$ x^4 - x^3 - 20x^2 \\geq 0. $$  \n",
    "\n",
    "First, factor the expression:  \n",
    "$$ x^4 - x^3 - 20x^2 = x^2(x^2 - x - 20). $$  \n",
    "\n",
    "Factor the quadratic:  \n",
    "$$ x^2 - x - 20 = (x - 5)(x + 4). $$  \n",
    "\n",
    "So, the inequality becomes:  \n",
    "$$ x^2(x - 5)(x + 4) \\geq 0. $$  \n",
    "\n",
    "Find the critical points:  \n",
    "$$ x^2 = 0 \\implies x = 0, $$  \n",
    "$$ x - 5 = 0 \\implies x = 5, $$  \n",
    "$$ x + 4 = 0 \\implies x = -4. $$  \n",
    "**Domain:** All real numbers $x$ such that $x \\leq -4$ or $x \\geq 5$, or $x = 0$.  \n",
    "\n",
    "In interval notation:  \n",
    "$$ (-\\infty, -4] \\cup \\{0\\} \\cup [5, \\infty). $$ \n",
    "Alternatively (continuous intervals only):  \n",
    "$$ (-\\infty, -4] \\cup [5, \\infty). $$"
   ]
  }
 ],
 "metadata": {
  "kernelspec": {
   "display_name": "Python 3 (ipykernel)",
   "language": "python",
   "name": "python3"
  },
  "language_info": {
   "codemirror_mode": {
    "name": "ipython",
    "version": 3
   },
   "file_extension": ".py",
   "mimetype": "text/x-python",
   "name": "python",
   "nbconvert_exporter": "python",
   "pygments_lexer": "ipython3",
   "version": "3.12.6"
  }
 },
 "nbformat": 4,
 "nbformat_minor": 5
}
