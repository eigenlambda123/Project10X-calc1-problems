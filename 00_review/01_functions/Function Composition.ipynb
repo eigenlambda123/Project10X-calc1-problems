{
 "cells": [
  {
   "cell_type": "markdown",
   "id": "a72310b4-45b9-44fa-b9ad-9151a20072c6",
   "metadata": {},
   "source": [
    "# **Function Composition**\n",
    "\n",
    "- The **composition of functions** means applying one function to the result of another:  \n",
    "  $$\n",
    "  (f \\circ g)(x) = f(g(x))\n",
    "  $$\n",
    "\n",
    "- **Order matters**:  \n",
    "  - $f(g(x)) \\ne g(f(x))$ in general.\n",
    "\n",
    "### **How to Evaluate:**\n",
    "1. **Start inside**: compute$g(x)$ first.  \n",
    "2. Plug the result into $f(x)$.\n",
    "\n",
    "### **Domain of Composition:**\n",
    "- The domain of $f(g(x))$ includes all $x$ in the domain of $g$ **such that** $g(x)$ is in the domain of $f$."
   ]
  },
  {
   "cell_type": "markdown",
   "id": "a54eacf6-199d-4d19-bfef-aad01277067a",
   "metadata": {},
   "source": [
    "---"
   ]
  },
  {
   "cell_type": "markdown",
   "id": "feb8056a-28bb-4897-83ed-86dea2c9ac58",
   "metadata": {},
   "source": [
    "### **Problem 1**  \n",
    "Compute $(f \\circ g)(x)$ and $(g \\circ f)(x)$ for $f(x) = 4x - 1$ and $g(x) = \\sqrt{6 + 7x}$.  \n",
    "\n",
    "### **Solution 1:**  \n",
    "\n",
    "#### **(a) Compute $(f \\circ g)(x)$**  \n",
    "This means we substitute $g(x)$ into $f(x)$:  \n",
    "$$\n",
    "(f \\circ g)(x) = f(g(x)) = 4g(x) - 1 = 4\\sqrt{6 + 7x} - 1.\n",
    "$$\n",
    "\n",
    "#### **(b) Compute $(g \\circ f)(x)$**  \n",
    "This means we substitute $f(x)$ into $g(x)$:  \n",
    "$$\n",
    "(g \\circ f)(x) = g(f(x)) = \\sqrt{6 + 7f(x)} = \\sqrt{6 + 7(4x - 1)}.\n",
    "$$\n",
    "Simplify inside the square root:  \n",
    "$$\n",
    "6 + 7(4x - 1) = 6 + 28x - 7 = 28x - 1.\n",
    "$$\n",
    "Thus,  \n",
    "$$\n",
    "(g \\circ f)(x) = \\sqrt{28x - 1}.\n",
    "$$\n",
    "\n",
    "### **Final Answers:**  \n",
    "1. $(f \\circ g)(x) = \\boxed{4\\sqrt{6 + 7x} - 1}$  \n",
    "2. $(g \\circ f)(x) = \\boxed{\\sqrt{28x - 1}}$  "
   ]
  },
  {
   "cell_type": "markdown",
   "id": "cded4f25-bdf3-47f9-bc7f-942cc4ce2032",
   "metadata": {},
   "source": [
    "---"
   ]
  },
  {
   "cell_type": "markdown",
   "id": "026f7297-2de3-4d7e-9216-5e33d475378e",
   "metadata": {},
   "source": [
    "### **Problem 2**  \n",
    "Compute $(f \\circ g)(x)$ and $(g \\circ f)(x)$ for $f(x) = 5x + 2$ and $g(x) = x^2 - 14x$.  \n",
    "\n",
    "### **Solution 2:**  \n",
    "\n",
    "#### **(a) $(f \\circ g)(x)$**  \n",
    "Substitute $g(x)$ into $f(x)$:  \n",
    "$$\n",
    "(f \\circ g)(x) = f(g(x)) = 5(x^2 - 14x) + 2 = 5x^2 - 70x + 2.\n",
    "$$\n",
    "\n",
    "#### **(b) $(g \\circ f)(x)$**  \n",
    "Substitute $f(x)$ into $g(x)$:  \n",
    "$$\n",
    "(g \\circ f)(x) = g(f(x)) = (5x + 2)^2 - 14(5x + 2).\n",
    "$$\n",
    "Expand and simplify:  \n",
    "$$\n",
    "= 25x^2 + 20x + 4 - 70x - 28 = 25x^2 - 50x - 24.\n",
    "$$\n",
    "\n",
    "**Final Answers:**  \n",
    "1. $(f \\circ g)(x) = \\boxed{5x^2 - 70x + 2}$  \n",
    "2. $(g \\circ f)(x) = \\boxed{25x^2 - 50x - 24}$  "
   ]
  },
  {
   "cell_type": "markdown",
   "id": "203a936b-a618-46a5-8f80-c7b0d4764a9f",
   "metadata": {},
   "source": [
    "---"
   ]
  },
  {
   "cell_type": "markdown",
   "id": "14d316bb-98f1-4f3f-8f04-403ecda55313",
   "metadata": {},
   "source": [
    "### **Problem 3**  \n",
    "Compute $(f \\circ g)(x)$ and $(g \\circ f)(x)$ for $f(x) = x^2 - 2x + 1$ and $g(x) = 8 - 3x^2$.  \n",
    "\n",
    "### **Solution 3:**  \n",
    "\n",
    "#### **(a) $(f \\circ g)(x)$**  \n",
    "Substitute $g(x)$ into $f(x)$:  \n",
    "$$\n",
    "(f \\circ g)(x) = f(g(x)) = (8 - 3x^2)^2 - 2(8 - 3x^2) + 1.\n",
    "$$\n",
    "Expand and simplify:  \n",
    "$$\n",
    "= 64 - 48x^2 + 9x^4 - 16 + 6x^2 + 1 = 9x^4 - 42x^2 + 49.\n",
    "$$\n",
    "\n",
    "#### **(b) $(g \\circ f)(x)$**  \n",
    "Substitute $f(x)$ into $g(x)$:  \n",
    "$$\n",
    "(g \\circ f)(x) = g(f(x)) = 8 - 3(x^2 - 2x + 1)^2.\n",
    "$$\n",
    "Expand and simplify:  \n",
    "$$\n",
    "= 8 - 3(x^4 - 4x^3 + 6x^2 - 4x + 1) = -3x^4 + 12x^3 - 18x^2 + 12x + 5.\n",
    "$$\n",
    "\n",
    "**Final Answers:**  \n",
    "1. $(f \\circ g)(x) = \\boxed{9x^4 - 42x^2 + 49}$  \n",
    "2. $(g \\circ f)(x) = \\boxed{-3x^4 + 12x^3 - 18x^2 + 12x + 5}$  "
   ]
  },
  {
   "cell_type": "markdown",
   "id": "364ded07-bf02-4747-90d3-98e0eda8ae7e",
   "metadata": {},
   "source": [
    "---"
   ]
  },
  {
   "cell_type": "markdown",
   "id": "6bb24aa1-ef6a-4da1-90fb-a62a96fa1546",
   "metadata": {},
   "source": [
    "\n",
    "### **Problem 4**  \n",
    "Compute $(f \\circ g)(x)$ and $(g \\circ f)(x)$ for $f(x) = x^2 + 3$ and $g(x) = 5 + x^2$.  \n",
    "\n",
    "### **Solution 4:**  \n",
    "\n",
    "#### **(a) $(f \\circ g)(x)$**  \n",
    "Substitute $g(x)$ into $f(x)$:  \n",
    "$$\n",
    "(f \\circ g)(x) = f(g(x)) = (5 + x^2)^2 + 3 = 25 + 10x^2 + x^4 + 3 = x^4 + 10x^2 + 28.\n",
    "$$\n",
    "\n",
    "#### **(b) $(g \\circ f)(x)$**  \n",
    "Substitute $f(x)$ into $g(x)$:  \n",
    "$$\n",
    "(g \\circ f)(x) = g(f(x)) = 5 + (x^2 + 3)^2 = 5 + x^4 + 6x^2 + 9 = x^4 + 6x^2 + 14.\n",
    "$$\n",
    "\n",
    "**Final Answers:**  \n",
    "1. $(f \\circ g)(x) = \\boxed{x^4 + 10x^2 + 28}$  \n",
    "2. $(g \\circ f)(x) = \\boxed{x^4 + 6x^2 + 14}$  \n"
   ]
  },
  {
   "cell_type": "markdown",
   "id": "21af1e4e-eab2-48fe-b820-ee0c4a2d6cad",
   "metadata": {},
   "source": [
    "---"
   ]
  },
  {
   "cell_type": "markdown",
   "id": "c41cf270-84f5-443e-9697-1a313cc7ef04",
   "metadata": {},
   "source": [
    "\n",
    "### **Problem 5**  \n",
    "Compute $(f \\circ g)(5)$ and $(g \\circ f)(5)$ for $f(x) = 3x^2 - x + 10$ and $g(x) = 1 - 20x$.  \n",
    "\n",
    "### **Solution 5:**  \n",
    "\n",
    "#### **(a) $(f \\circ g)(5)$**  \n",
    "First, compute $g(5)$:  \n",
    "$$\n",
    "g(5) = 1 - 20(5) = 1 - 100 = -99.\n",
    "$$  \n",
    "Now substitute into $f(x)$:  \n",
    "$$\n",
    "f(g(5)) = f(-99) = 3(-99)^2 - (-99) + 10 = 3(9801) + 99 + 10 = 29403 + 109 = 29512.\n",
    "$$\n",
    "\n",
    "#### **(b) $(g \\circ f)(5)$**  \n",
    "First, compute $f(5)$:  \n",
    "$$\n",
    "f(5) = 3(5)^2 - 5 + 10 = 75 - 5 + 10 = 80.\n",
    "$$  \n",
    "Now substitute into $g(x)$:  \n",
    "$$\n",
    "g(f(5)) = g(80) = 1 - 20(80) = 1 - 1600 = -1599.\n",
    "$$\n",
    "\n",
    "**Final Answers:**  \n",
    "1. $(f \\circ g)(5) = \\boxed{29512}$  \n",
    "2. $(g \\circ f)(5) = \\boxed{-1599}$  \n"
   ]
  }
 ],
 "metadata": {
  "kernelspec": {
   "display_name": "Python 3 (ipykernel)",
   "language": "python",
   "name": "python3"
  },
  "language_info": {
   "codemirror_mode": {
    "name": "ipython",
    "version": 3
   },
   "file_extension": ".py",
   "mimetype": "text/x-python",
   "name": "python",
   "nbconvert_exporter": "python",
   "pygments_lexer": "ipython3",
   "version": "3.12.6"
  }
 },
 "nbformat": 4,
 "nbformat_minor": 5
}
