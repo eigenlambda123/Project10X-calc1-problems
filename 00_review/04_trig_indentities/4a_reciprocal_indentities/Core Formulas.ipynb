{
 "cells": [
  {
   "cell_type": "markdown",
   "id": "39489587-6493-4573-b2d8-8c83b2edc145",
   "metadata": {},
   "source": [
    "### Core Formulas\n",
    "\n",
    "- $\\sin(\\theta) = \\dfrac{1}{\\csc(\\theta)}$  $\\csc(\\theta) = \\dfrac{1}{\\sin(\\theta)}$\n",
    "- $\\cos(\\theta) = \\dfrac{1}{\\sec(\\theta)}$  $\\sec(\\theta) = \\dfrac{1}{\\cos(\\theta)}$\n",
    "- $\\tan(\\theta) = \\dfrac{1}{\\cot(\\theta)}$  $\\cot(\\theta) = \\dfrac{1}{\\tan(\\theta)}$"
   ]
  }
 ],
 "metadata": {
  "kernelspec": {
   "display_name": "Python 3 (ipykernel)",
   "language": "python",
   "name": "python3"
  },
  "language_info": {
   "codemirror_mode": {
    "name": "ipython",
    "version": 3
   },
   "file_extension": ".py",
   "mimetype": "text/x-python",
   "name": "python",
   "nbconvert_exporter": "python",
   "pygments_lexer": "ipython3",
   "version": "3.12.6"
  }
 },
 "nbformat": 4,
 "nbformat_minor": 5
}
