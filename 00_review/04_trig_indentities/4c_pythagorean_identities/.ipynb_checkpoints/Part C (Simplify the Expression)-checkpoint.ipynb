{
 "cells": [
  {
   "cell_type": "markdown",
   "id": "c1ce9d23-6931-45b5-af13-e1e59b219d0e",
   "metadata": {},
   "source": [
    "# **Problems**\n",
    "\n",
    "**7.** Simplify:  \n",
    "$\\sin^2(\\theta) + \\cos^2(\\theta)$\n",
    "\n",
    "**8.** Simplify:  \n",
    "\n",
    "$\\sec^2(\\theta) - \\tan^2(\\theta)$\n",
    "\n",
    "**9.** Simplify:  \n",
    "$\\csc^2(\\theta) - 1$"
   ]
  },
  {
   "cell_type": "markdown",
   "id": "60bb8810-b661-48d8-8bfc-9da4a072ffc0",
   "metadata": {},
   "source": [
    "---\n",
    "\n",
    "# **Solutions**\n",
    "\n",
    "\n",
    "**7.** **Use the identity:**\n",
    "$$\n",
    "\\sin^2(\\theta) + \\cos^2(\\theta) = 1\n",
    "$$\n",
    "\n",
    "**Answer:**  \n",
    "$\\boxed{1}$\n",
    "\n",
    "\n",
    "**8.** **Use the identity:**\n",
    "$$\n",
    "\\sec^2(\\theta) - \\tan^2(\\theta) = 1\n",
    "$$  \n",
    "(From: $\\sec^2(\\theta) = 1 + \\tan^2(\\theta)$)\n",
    "\n",
    "**Answer:**  \n",
    "$\\boxed{1}$\n",
    "\n",
    "\n",
    "**9.** **Use the identity:**\n",
    "$$\n",
    "\\csc^2(\\theta) - 1 = \\cot^2(\\theta)\n",
    "$$  \n",
    "(From: $\\csc^2(\\theta) = 1 + \\cot^2(\\theta)$)\n",
    "\n",
    "**Answer:**  \n",
    "$\\boxed{\\cot^2(\\theta)}$\n"
   ]
  }
 ],
 "metadata": {
  "kernelspec": {
   "display_name": "Python 3 (ipykernel)",
   "language": "python",
   "name": "python3"
  },
  "language_info": {
   "codemirror_mode": {
    "name": "ipython",
    "version": 3
   },
   "file_extension": ".py",
   "mimetype": "text/x-python",
   "name": "python",
   "nbconvert_exporter": "python",
   "pygments_lexer": "ipython3",
   "version": "3.12.6"
  }
 },
 "nbformat": 4,
 "nbformat_minor": 5
}
