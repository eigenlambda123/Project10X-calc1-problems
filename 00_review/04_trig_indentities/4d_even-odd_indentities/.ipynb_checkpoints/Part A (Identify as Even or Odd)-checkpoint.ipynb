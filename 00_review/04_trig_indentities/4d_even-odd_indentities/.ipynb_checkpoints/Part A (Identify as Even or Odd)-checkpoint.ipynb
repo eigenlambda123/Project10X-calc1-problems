{
 "cells": [
  {
   "cell_type": "markdown",
   "id": "cb869236-5ef6-4dc1-b092-7e3531bf8e68",
   "metadata": {},
   "source": [
    "# **Problems**\n",
    "\n",
    "**1.** Determine if $\\sin(\\theta)$ is even or odd.\n",
    "\n",
    "**2.** Determine if $\\cos(\\theta)$ is even or odd.\n",
    "\n",
    "**3.** Determine if $\\cot(\\theta)$ is even or odd."
   ]
  },
  {
   "cell_type": "markdown",
   "id": "3652f6bf-d6a1-4368-91bb-67387b524d82",
   "metadata": {},
   "source": [
    "---\n",
    "# **Solutions**\n",
    "\n",
    "\n",
    "**1.** We use the identity:\n",
    "$$\n",
    "\\sin(-\\theta) = -\\sin(\\theta)\n",
    "$$\n",
    "\n",
    "This matches the definition of an **odd function**.\n",
    "\n",
    "**Answer:** $\\sin(\\theta)$ is **odd**.\n",
    "\n",
    "\n",
    "**2.** We use the identity:\n",
    "$$\n",
    "\\cos(-\\theta) = \\cos(\\theta)\n",
    "$$\n",
    "\n",
    "This matches the definition of an **even function**.\n",
    "\n",
    "**Answer:** $\\cos(\\theta)$ is **even**.\n",
    "\n",
    "\n",
    "**3.** We use the identity:\n",
    "$$\n",
    "\\cot(-\\theta) = -\\cot(\\theta)\n",
    "$$\n",
    "\n",
    "This matches the definition of an **odd function**.\n",
    "\n",
    "**Answer:** $\\cot(\\theta)$ is **odd**."
   ]
  }
 ],
 "metadata": {
  "kernelspec": {
   "display_name": "Python 3 (ipykernel)",
   "language": "python",
   "name": "python3"
  },
  "language_info": {
   "codemirror_mode": {
    "name": "ipython",
    "version": 3
   },
   "file_extension": ".py",
   "mimetype": "text/x-python",
   "name": "python",
   "nbconvert_exporter": "python",
   "pygments_lexer": "ipython3",
   "version": "3.12.6"
  }
 },
 "nbformat": 4,
 "nbformat_minor": 5
}
