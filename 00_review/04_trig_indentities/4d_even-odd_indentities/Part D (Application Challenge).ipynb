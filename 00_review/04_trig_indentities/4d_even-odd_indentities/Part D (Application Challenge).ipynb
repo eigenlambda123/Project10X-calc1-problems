{
 "cells": [
  {
   "cell_type": "markdown",
   "id": "423425b6-4704-4fe2-8bc0-51dcaabad5f0",
   "metadata": {},
   "source": [
    "# **Problems**\n",
    "\n",
    "**12.** A function is defined as $f(x) = \\tan(x) + \\tan(-x)$. Is $f$ even, odd, or neither?\n",
    "\n",
    "**13.** Suppose $g(x) = \\cos(-x)\\sin(-x)$. Simplify $g(x)$ and state whether it's even, odd, or neither.\n",
    "\n"
   ]
  },
  {
   "cell_type": "markdown",
   "id": "b641d17c-dbc9-424e-846c-47c20793a1a7",
   "metadata": {},
   "source": [
    "---\n",
    "# **Solutions**\n",
    "\n",
    "**12.** A function is defined as:  \n",
    "$$\n",
    "f(x) = \\tan(x) + \\tan(-x)\n",
    "$$  \n",
    "Is $f$ even, odd, or neither?\n",
    "\n",
    "**Step 1: Apply identity**  \n",
    "We know:\n",
    "$$\n",
    "\\tan(-x) = -\\tan(x)\n",
    "$$  \n",
    "So:\n",
    "$$\n",
    "f(x) = \\tan(x) + (-\\tan(x)) = 0\n",
    "$$\n",
    "\n",
    "Thus,\n",
    "$$\n",
    "f(-x) = \\tan(-x) + \\tan(x) = -\\tan(x) + \\tan(x) = 0 = f(x)\n",
    "$$\n",
    "\n",
    "**Conclusion:**  \n",
    "$f(x)$ is **even**, because $f(-x) = f(x)$\n",
    "\n",
    "**Answer:**  \n",
    "$ \\boxed{\\text{Even}} $\n",
    "\n",
    "\n",
    "**13.** Suppose:  \n",
    "$$\n",
    "g(x) = \\cos(-x)\\sin(-x)\n",
    "$$  \n",
    "Simplify $g(x)$ and determine if it is even, odd, or neither.\n",
    "\n",
    "**Step 1: Apply identities**  \n",
    "- $\\cos(-x) = \\cos(x)$  \n",
    "- $\\sin(-x) = -\\sin(x)$\n",
    "\n",
    "Then:\n",
    "$$\n",
    "g(x) = \\cos(-x)\\sin(-x) = \\cos(x)(-\\sin(x)) = -\\cos(x)\\sin(x)\n",
    "$$\n",
    "\n",
    "Now evaluate $g(-x)$:\n",
    "$$\n",
    "g(-x) = \\cos(-(-x))\\sin(-(-x)) = \\cos(x)\\sin(x)\n",
    "$$\n",
    "\n",
    "Compare:\n",
    "$$\n",
    "g(-x) = -g(x)\n",
    "$$\n",
    "\n",
    "**Conclusion:**  \n",
    "$g(x)$ is **odd**, because $g(-x) = -g(x)$\n",
    "\n",
    "**Answer:**  \n",
    "$ \\boxed{\\text{Odd}} $\n"
   ]
  }
 ],
 "metadata": {
  "kernelspec": {
   "display_name": "Python 3 (ipykernel)",
   "language": "python",
   "name": "python3"
  },
  "language_info": {
   "codemirror_mode": {
    "name": "ipython",
    "version": 3
   },
   "file_extension": ".py",
   "mimetype": "text/x-python",
   "name": "python",
   "nbconvert_exporter": "python",
   "pygments_lexer": "ipython3",
   "version": "3.12.6"
  }
 },
 "nbformat": 4,
 "nbformat_minor": 5
}
