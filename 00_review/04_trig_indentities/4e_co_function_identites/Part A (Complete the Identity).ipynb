{
 "cells": [
  {
   "cell_type": "markdown",
   "id": "e6ab30c8-501b-45da-96ad-4d09631fa119",
   "metadata": {},
   "source": [
    "### **Problems**\n",
    "**1.** $\\sin\\left(\\dfrac{\\pi}{2} - \\theta\\right) = \\_\\_\\_\\_$  \n",
    "**2.** $\\cos\\left(90 - \\theta\\right) = \\_\\_\\_\\_$  \n",
    "**3.** $\\tan\\left(70 - \\theta\\right) = \\_\\_\\_\\_$  \n",
    "**4.** $\\csc\\left(\\dfrac{\\pi}{2} - \\theta\\right) = \\_\\_\\_\\_$  \n",
    "**5.** $\\cot\\left(\\dfrac{\\pi}{2} - \\theta\\right) = \\_\\_\\_\\_$"
   ]
  },
  {
   "cell_type": "markdown",
   "id": "65766ec8-7f3d-4f49-9bb9-2f3314341d4a",
   "metadata": {},
   "source": [
    "---\n",
    "### **Solutions**\n",
    "\n",
    "**1.** **Answer:** $\\boxed{\\cos(\\theta)}$  \n",
    "**2.** **Answer:** $\\boxed{\\sin(\\theta)}$  \n",
    "**3.** **Answer:** $\\boxed{\\cot(20)}$ \n",
    "**4.** **Answer:** $\\boxed{\\sec(\\theta)}$  \n",
    "**5.** **Answer:** $\\boxed{\\tan(\\theta)}$"
   ]
  }
 ],
 "metadata": {
  "kernelspec": {
   "display_name": "Python 3 (ipykernel)",
   "language": "python",
   "name": "python3"
  },
  "language_info": {
   "codemirror_mode": {
    "name": "ipython",
    "version": 3
   },
   "file_extension": ".py",
   "mimetype": "text/x-python",
   "name": "python",
   "nbconvert_exporter": "python",
   "pygments_lexer": "ipython3",
   "version": "3.12.6"
  }
 },
 "nbformat": 4,
 "nbformat_minor": 5
}
