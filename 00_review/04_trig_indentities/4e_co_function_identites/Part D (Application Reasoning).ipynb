{
 "cells": [
  {
   "cell_type": "markdown",
   "id": "a453477d-2862-4dbe-a000-50a0f6e7ea18",
   "metadata": {},
   "source": [
    "### **Problems**\n",
    "\n",
    "\n",
    "**12.** Explain why $\\cos(30^\\circ) = \\sin(60^\\circ)$ using co-function identity.\n",
    "\n",
    "**13.** A triangle has one acute angle $\\theta = 40^\\circ$. What is $\\cos(40^\\circ)$ in terms of sine?"
   ]
  },
  {
   "cell_type": "markdown",
   "id": "2607c07f-a9fd-4183-9494-a428cf750865",
   "metadata": {},
   "source": [
    "---\n",
    "\n",
    "### **Solutions**\n",
    "\n",
    "\n",
    "**12.** We know:\n",
    "$$\n",
    "\\cos(30^\\circ) = \\sin(90^\\circ - 30^\\circ)\n",
    "$$\n",
    "$$\n",
    "= \\sin(60^\\circ)\n",
    "$$\n",
    "\n",
    "This is a direct use of the co-function identity:\n",
    "$$\n",
    "\\cos(\\theta) = \\sin(90^\\circ - \\theta)\n",
    "$$\n",
    "\n",
    "**Answer:**  \n",
    "$\\boxed{\\cos(30^\\circ) = \\sin(60^\\circ)}$ because sine and cosine are co-functions of complementary angles.\n",
    "\n",
    "\n",
    "**13.** Since the angles in a triangle sum to $180^\\circ$ and the triangle is right-angled:\n",
    "\n",
    "$$\n",
    "\\text{The other acute angle is } 90^\\circ - 40^\\circ = 50^\\circ\n",
    "$$\n",
    "\n",
    "Then:\n",
    "$$\n",
    "\\cos(40^\\circ) = \\sin(50^\\circ)\n",
    "$$\n",
    "\n",
    "This uses:\n",
    "$$\n",
    "\\cos(\\theta) = \\sin(90^\\circ - \\theta)\n",
    "$$\n",
    "\n",
    "**Answer:**  \n",
    "$\\boxed{\\cos(40^\\circ) = \\sin(50^\\circ)}$\n"
   ]
  }
 ],
 "metadata": {
  "kernelspec": {
   "display_name": "Python 3 (ipykernel)",
   "language": "python",
   "name": "python3"
  },
  "language_info": {
   "codemirror_mode": {
    "name": "ipython",
    "version": 3
   },
   "file_extension": ".py",
   "mimetype": "text/x-python",
   "name": "python",
   "nbconvert_exporter": "python",
   "pygments_lexer": "ipython3",
   "version": "3.12.6"
  }
 },
 "nbformat": 4,
 "nbformat_minor": 5
}
