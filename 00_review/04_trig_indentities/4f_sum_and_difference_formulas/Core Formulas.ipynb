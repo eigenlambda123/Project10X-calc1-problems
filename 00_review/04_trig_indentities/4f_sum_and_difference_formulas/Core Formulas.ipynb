{
 "cells": [
  {
   "cell_type": "markdown",
   "id": "786e4ea2-41ba-4a70-9aa7-d53238ace4b4",
   "metadata": {},
   "source": [
    "### **Sum and Difference Formulas**\n",
    "\n",
    "$$\n",
    "\\sin(a \\pm b) = \\sin(a)\\cos(b) \\pm \\cos(a)\\sin(b)\n",
    "$$\n",
    "$$\n",
    "\\cos(a \\pm b) = \\cos(a)\\cos(b) \\mp \\sin(a)\\sin(b)\n",
    "$$\n",
    "$$\n",
    "\\tan(a \\pm b) = \\dfrac{\\tan(a) \\pm \\tan(b)}{1 \\mp \\tan(a)\\tan(b)}\n",
    "$$\n"
   ]
  }
 ],
 "metadata": {
  "kernelspec": {
   "display_name": "Python 3 (ipykernel)",
   "language": "python",
   "name": "python3"
  },
  "language_info": {
   "codemirror_mode": {
    "name": "ipython",
    "version": 3
   },
   "file_extension": ".py",
   "mimetype": "text/x-python",
   "name": "python",
   "nbconvert_exporter": "python",
   "pygments_lexer": "ipython3",
   "version": "3.12.6"
  }
 },
 "nbformat": 4,
 "nbformat_minor": 5
}
