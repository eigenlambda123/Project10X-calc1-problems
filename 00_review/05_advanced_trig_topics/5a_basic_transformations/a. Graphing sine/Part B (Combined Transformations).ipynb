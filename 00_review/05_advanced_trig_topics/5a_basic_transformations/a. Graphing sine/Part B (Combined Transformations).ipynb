{
 "cells": [
  {
   "cell_type": "markdown",
   "id": "6259f2d9-95f9-45ac-900f-aa196adebd0c",
   "metadata": {},
   "source": [
    "### **Solutions**\n",
    "\n",
    "**6.** Graph: $y = 3\\sin\\left(2x\\right)$  \n",
    "- Amplitude = ?  \n",
    "- Period = ?  \n",
    "- Phase shift = ?  \n",
    "- Vertical shift = ?\n",
    "\n",
    "**7.** Graph: $y = -\\sin\\left(x + \\dfrac{\\pi}{3}\\right)$  \n",
    "- What’s the reflection?  \n",
    "- How is the wave shifted?\n",
    "\n",
    "**8.** Graph: $y = 0.5\\sin\\left(4x - \\pi\\right)$  \n",
    "- What’s the period?  \n",
    "- What’s the phase shift?\n",
    "\n",
    "**9.** Graph: $y = 2\\sin\\left(\\dfrac{1}{2}x - \\dfrac{\\pi}{4}\\right) + 1$  \n",
    "- Amplitude = ?  \n",
    "- Period = ?  \n",
    "- Phase shift = ?  \n",
    "- Vertical shift = ?"
   ]
  },
  {
   "cell_type": "markdown",
   "id": "637be329-d429-434b-ba8f-b1ed59ee9753",
   "metadata": {},
   "source": [
    "\n",
    "---\n",
    "### **Solutions**\n",
    "\n",
    "\n",
    "**6.** $y = 3\\sin(2x)$  \n",
    "- **Amplitude**: $3$  \n",
    "- **Period**: $\\dfrac{2\\pi}{2} = \\pi$  \n",
    "- **Phase Shift**: $0$  \n",
    "- **Vertical Shift**: $0$  \n",
    "\n",
    "**7.** $y = -\\sin\\left(x + \\dfrac{\\pi}{3}\\right)$  \n",
    "- **Amplitude**: $1$ (reflected over x-axis)  \n",
    "- **Period**: $2\\pi$  \n",
    "- **Phase Shift**: $\\dfrac{\\pi}{3}$ **left**  \n",
    "- **Vertical Shift**: $0$  \n",
    "\n",
    "\n",
    "**8.** $y = 0.5\\sin\\left(4x - \\pi\\right)$  \n",
    "- **Amplitude**: $0.5$  \n",
    "- **Period**: $\\dfrac{2\\pi}{4} = \\dfrac{\\pi}{2}$  \n",
    "- **Phase Shift**: Solve $4x - \\pi = 0 \\Rightarrow x = \\dfrac{\\pi}{4}$  \n",
    "  → $\\boxed{\\text{Phase Shift} = \\dfrac{\\pi}{4}}$ **right**  \n",
    "- **Vertical Shift**: $0$  \n",
    "\n",
    "\n",
    "**9.** $y = 2\\sin\\left(\\dfrac{1}{2}x - \\dfrac{\\pi}{4}\\right) + 1$  \n",
    "- **Amplitude**: $2$  \n",
    "- **Period**: $\\dfrac{2\\pi}{1/2} = 4\\pi$  \n",
    "- **Phase Shift**: Solve $\\dfrac{1}{2}x - \\dfrac{\\pi}{4} = 0 \\Rightarrow x = \\dfrac{\\pi}{2}$  \n",
    "  → $\\boxed{\\text{Phase Shift} = \\dfrac{\\pi}{2}}$ **right**  \n",
    "- **Vertical Shift**: $+1$  "
   ]
  }
 ],
 "metadata": {
  "kernelspec": {
   "display_name": "Python 3 (ipykernel)",
   "language": "python",
   "name": "python3"
  },
  "language_info": {
   "codemirror_mode": {
    "name": "ipython",
    "version": 3
   },
   "file_extension": ".py",
   "mimetype": "text/x-python",
   "name": "python",
   "nbconvert_exporter": "python",
   "pygments_lexer": "ipython3",
   "version": "3.12.6"
  }
 },
 "nbformat": 4,
 "nbformat_minor": 5
}
