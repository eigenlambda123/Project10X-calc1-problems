{
 "cells": [
  {
   "cell_type": "markdown",
   "id": "65f5b4c4-bd4d-45e2-8b77-276330f160bb",
   "metadata": {},
   "source": [
    "### **Problems**\n",
    "**10.** For $y = \\sin(3x)$, list the x-values of 5 key points over one period.\n",
    "\n",
    "**11.** For $y = \\sin\\left(x + \\dfrac{\\pi}{6}\\right)$, what is the **starting point** of the sine curve?\n",
    "\n",
    "**12.** For $y = -2\\sin(x)$:\n",
    "- What is the **maximum** value?\n",
    "- What is the **minimum** value?\n",
    "\n",
    "**13.** For $y = \\sin(x) - 2$, what is the **range** of the graph?\n",
    "\n",
    "**14.** For $y = 5\\sin(2x)$, how many complete cycles appear between $x = 0$ and $x = 2\\pi$?"
   ]
  },
  {
   "cell_type": "markdown",
   "id": "5f3fa191-3091-4186-82cd-7ee3255448db",
   "metadata": {},
   "source": [
    "---\n",
    "###  **Solutions**\n",
    "\n",
    "\n",
    "**10.** For $y = \\sin(3x)$, list the x-values of 5 key points over one period.\n",
    "\n",
    "- **Period**: $\\dfrac{2\\pi}{3}$\n",
    "- Divide the period into 4 equal intervals:  \n",
    "  $$\n",
    "  \\text{Step size} = \\dfrac{2\\pi}{3} \\div 4 = \\dfrac{\\pi}{6}\n",
    "  $$\n",
    "- **Key x-values**:  \n",
    "  - $0$\n",
    "  - $\\dfrac{\\pi}{6}$\n",
    "  - $\\dfrac{\\pi}{3}$\n",
    "  - $\\dfrac{\\pi}{2}$\n",
    "  - $\\dfrac{2\\pi}{3}$\n",
    "\n",
    "**11.** For $y = \\sin\\left(x + \\dfrac{\\pi}{6}\\right)$, what is the **starting point** of the sine curve?\n",
    "\n",
    "- Phase shift = $-\\dfrac{\\pi}{6}$\n",
    "- So the graph **starts at**:  \n",
    "  $\\boxed{x = -\\dfrac{\\pi}{6}}$\n",
    "\n",
    "\n",
    "**12.** For $y = -2\\sin(x)$:\n",
    "\n",
    "- **Maximum value**: $-2$  \n",
    "- **Minimum value**: $2$  \n",
    "  *(Because the sine is reflected: max becomes min, and vice versa)*\n",
    "\n",
    "\n",
    "**13.** For $y = \\sin(x) - 2$, what is the **range**?\n",
    "\n",
    "- Sine has a base range of $[-1, 1]$\n",
    "- Vertical shift: $-2$  \n",
    "  So the range is:  \n",
    "  $[-1 - 2,\\ 1 - 2] = [-3,\\ -1]$\n",
    "\n",
    "\n",
    "**14.** For $y = 5\\sin(2x)$, how many complete cycles appear between $x = 0$ and $x = 2\\pi$?\n",
    "\n",
    "- Period = $\\dfrac{2\\pi}{2} = \\pi$  \n",
    "- Interval: $0$ to $2\\pi$\n",
    "- Number of cycles = $\\dfrac{2\\pi}{\\pi} = \\boxed{2}$"
   ]
  }
 ],
 "metadata": {
  "kernelspec": {
   "display_name": "Python 3 (ipykernel)",
   "language": "python",
   "name": "python3"
  },
  "language_info": {
   "codemirror_mode": {
    "name": "ipython",
    "version": 3
   },
   "file_extension": ".py",
   "mimetype": "text/x-python",
   "name": "python",
   "nbconvert_exporter": "python",
   "pygments_lexer": "ipython3",
   "version": "3.12.6"
  }
 },
 "nbformat": 4,
 "nbformat_minor": 5
}
