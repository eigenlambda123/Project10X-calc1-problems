{
 "cells": [
  {
   "cell_type": "markdown",
   "id": "db96a440-9542-488b-a352-d73a49289b25",
   "metadata": {},
   "source": [
    "### **General form:**\n",
    "$$\n",
    "y = A \\cdot \\tan(Bx + C) + D\n",
    "$$\n",
    "\n",
    "- **Amplitude**: *Not defined* (tangent is unbounded)  \n",
    "- **Period**: $\\dfrac{\\pi}{|B|}$  \n",
    "- **Phase Shift**: $-\\dfrac{C}{B}$  \n",
    "- **Vertical Shift**: $D$  \n",
    "- **Vertical Asymptotes**:  \n",
    "  Solve $Bx + C = \\pm\\dfrac{\\pi}{2} + n\\pi$ →  \n",
    "  $$x = -\\dfrac{C}{B} \\pm \\dfrac{\\pi}{2B}$$\n",
    "\n",
    "### **Key features of** $y = \\tan(x)$:\n",
    "- **Domain**: All real numbers except $x = \\dfrac{\\pi}{2} + n\\pi$  \n",
    "- **Range**: $(-\\infty,\\ \\infty)$  \n",
    "- **Period**: $\\pi$  \n",
    "- **Center point**: $(0,\\ 0)$  \n",
    "- **Other key points** (within one period):\n",
    "  - $\\left(-\\dfrac{\\pi}{4},\\ -1\\right)$  \n",
    "  - $(0,\\ 0)$  \n",
    "  - $\\left(\\dfrac{\\pi}{4},\\ 1\\right)$  \n",
    "- **Vertical asymptotes** at:  \n",
    "  $$x = -\\dfrac{\\pi}{2},\\ \\dfrac{\\pi}{2},\\ \\dfrac{3\\pi}{2},\\ \\dots$$\n"
   ]
  }
 ],
 "metadata": {
  "kernelspec": {
   "display_name": "Python 3 (ipykernel)",
   "language": "python",
   "name": "python3"
  },
  "language_info": {
   "codemirror_mode": {
    "name": "ipython",
    "version": 3
   },
   "file_extension": ".py",
   "mimetype": "text/x-python",
   "name": "python",
   "nbconvert_exporter": "python",
   "pygments_lexer": "ipython3",
   "version": "3.12.6"
  }
 },
 "nbformat": 4,
 "nbformat_minor": 5
}
