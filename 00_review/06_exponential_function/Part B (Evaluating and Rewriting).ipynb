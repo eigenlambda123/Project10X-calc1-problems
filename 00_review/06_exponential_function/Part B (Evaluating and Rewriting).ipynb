{
 "cells": [
  {
   "cell_type": "markdown",
   "id": "dafcabdc-86f0-417d-a2d7-abff375d3bba",
   "metadata": {},
   "source": [
    "### **Problems**\n",
    "\n",
    "**Evaluate or rewrite:**\n",
    "1. $\\left(\\frac{1}{2}\\right)^3$\n",
    "2. $4^{-1} + 4^{-2}$  \n",
    "3. Express $81$ as a power of 3  \n",
    "4. Write $2^{x+2} \\cdot 2^{3x-1}$ as a single power of 2  \n",
    "5. Solve for $x$: $3^x = 27$"
   ]
  },
  {
   "cell_type": "markdown",
   "id": "47026fa1-1f7b-48a3-98fc-bba2384c4cdc",
   "metadata": {},
   "source": [
    "---\n",
    "### **Solutions**\n",
    "\n",
    "1.  $2^{x+1} \\cdot 2^{2x} = 2^{(x+1 + 2x)} = 2^{3x + 1} = \\boxed{2^{3x + 1}}$\n",
    "\n",
    "2.  $\\frac{3^{2x+1}}{3^x} = 3^{(2x+1 - x)} = 3^{x + 1} = \\boxed{3^{x + 1}}$\n",
    "\n",
    "3.  $(x^2)^3 = x^{2 \\cdot 3} = \\boxed{x^6}$\n",
    "\n",
    "4.  $\\left(\\frac{1}{2}\\right)^{-x} = 2^x = \\boxed{2^x}$\n",
    "\n",
    "5. $5^{x-2} \\cdot 5^{3-x} = 5^{(x - 2 + 3 - x)} = 5^1 = \\boxed{5}$\n"
   ]
  }
 ],
 "metadata": {
  "kernelspec": {
   "display_name": "Python 3 (ipykernel)",
   "language": "python",
   "name": "python3"
  },
  "language_info": {
   "codemirror_mode": {
    "name": "ipython",
    "version": 3
   },
   "file_extension": ".py",
   "mimetype": "text/x-python",
   "name": "python",
   "nbconvert_exporter": "python",
   "pygments_lexer": "ipython3",
   "version": "3.12.6"
  }
 },
 "nbformat": 4,
 "nbformat_minor": 5
}
