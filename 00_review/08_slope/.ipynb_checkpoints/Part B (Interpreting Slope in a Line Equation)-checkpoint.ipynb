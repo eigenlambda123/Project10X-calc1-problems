{
 "cells": [
  {
   "cell_type": "markdown",
   "id": "865fd6df-6b2c-42f7-b569-0138a3f074df",
   "metadata": {},
   "source": [
    "### **Problems**\n",
    "\n",
    "**Find the slope from each equation. Then explain what it tells you about the graph:**\n",
    "\n",
    "1. $y = 3x + 5$\n",
    "2. $y = -\\frac{1}{2}x + 4$\n",
    "3. $2x - y = 6$\n",
    "4. $y = 7$\n",
    "5. $x = -3$\n",
    "\n",
    "---"
   ]
  },
  {
   "cell_type": "markdown",
   "id": "4331b0c3-4c82-4936-92e4-8b008e4ed438",
   "metadata": {},
   "source": [
    "### **Solutions**\n",
    "\n",
    "\n",
    "1. **$y = 3x + 5$**\n",
    "    - Already in slope-intercept form\n",
    "    - **Slope**: $m = \\boxed{3}$\n",
    "    - **Meaning**: The line rises steeply; for every 1 unit increase in $x$, $y$ increases by 3 units.\n",
    "\n",
    "\n",
    "2. **$y = -\\frac{1}{2}x + 4$**\n",
    "    - Already in slope-intercept form\n",
    "    - **Slope**: $m = \\boxed{-\\frac{1}{2}}$\n",
    "    - **Meaning**: The line is decreasing; for every 1 unit increase in $x$, $y$ decreases by $\\frac{1}{2}$ unit.\n",
    "\n",
    "\n",
    "3. **$2x - y = 6$**\n",
    "    - Rearranged: $-y = -2x + 6 \\Rightarrow y = 2x - 6$\n",
    "    - **Slope**: $m = \\boxed{2}$\n",
    "    - **Meaning**: The line increases moderately; for every 1 unit increase in $x$, $y$ increases by 2 units.\n",
    "\n",
    "\n",
    "4. **$y = 7$**\n",
    "    - This is a horizontal line\n",
    "    - **Slope**: $m = \\boxed{0}$\n",
    "    - **Meaning**: The line has no rise; it stays constant across all $x$ values.\n",
    "\n",
    "\n",
    "5. **$x = -3$**\n",
    "    - This is a vertical line\n",
    "    - **Slope**: $\\boxed{\\text{undefined}}$\n",
    "    - **Meaning**: The line rises vertically with no run — the slope is undefined.\n"
   ]
  }
 ],
 "metadata": {
  "kernelspec": {
   "display_name": "Python 3 (ipykernel)",
   "language": "python",
   "name": "python3"
  },
  "language_info": {
   "codemirror_mode": {
    "name": "ipython",
    "version": 3
   },
   "file_extension": ".py",
   "mimetype": "text/x-python",
   "name": "python",
   "nbconvert_exporter": "python",
   "pygments_lexer": "ipython3",
   "version": "3.12.6"
  }
 },
 "nbformat": 4,
 "nbformat_minor": 5
}
