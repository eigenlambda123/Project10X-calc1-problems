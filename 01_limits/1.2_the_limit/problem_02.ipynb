{
 "cells": [
  {
   "cell_type": "markdown",
   "id": "70cecffb-00ef-4590-84a6-239c0cc84c02",
   "metadata": {},
   "source": [
    "### **Problems**\n",
    "\n",
    "For the function:\n",
    "$$ R(t) = \\frac{2 - \\sqrt{t^2 + 3}}{t + 1} $$\n",
    "\n",
    "answer each of the following questions.\n",
    "\n",
    "### **Part (a)**\n",
    "\n",
    "Evaluate the function at the following values of $t$ (compute accurate to at least 8 decimal places):\n",
    "\n",
    "#### Left Approach:\n",
    "\n",
    "- (i) $-0.5$\n",
    "- (ii) $-0.9$\n",
    "- (iii) $-0.99$\n",
    "- (iv) $-0.999$\n",
    "- (v) $-0.9999$\n",
    "\n",
    "#### Right Approach:\n",
    "\n",
    "- (vi) $-1.5$\n",
    "- (vii) $-1.1$\n",
    "- (viii) $-1.01$\n",
    "- (ix) $-1.001$\n",
    "- (x) $-1.0001$\n",
    "\n",
    "### **Part (b)**\n",
    "\n",
    "Use the information from (a) to estimate the value of:\n",
    "$$ \\lim_{t \\to -1} \\frac{2 - \\sqrt{t^2 + 3}}{t + 1} $$\n",
    "\n",
    "---"
   ]
  },
  {
   "cell_type": "markdown",
   "id": "a3458e52-c19f-4c82-bdfd-7c32f3869cfb",
   "metadata": {},
   "source": [
    "### **Solutions**\n",
    "\n",
    "### **Part (a): Function Evaluation**\n",
    "\n",
    "#### Left Approach ($t \\to -1^-$):\n",
    "\n",
    "| $t$        | $R(t)$ Calculation | Value               |\n",
    "|------------|--------------------|---------------------|\n",
    "| (i) $-0.5$  | $\\frac{2 - \\sqrt{(-0.5)^2 + 3}}{-0.5 + 1}$ | $-0.26794919$ |\n",
    "| (ii) $-0.9$ | $\\frac{2 - \\sqrt{0.81 + 3}}{0.1}$ | $-0.51298810$ |\n",
    "| (iii) $-0.99$ | $\\frac{2 - \\sqrt{0.9801 + 3}}{0.01}$ | $-0.50124922$ |\n",
    "| (iv) $-0.999$ | $\\frac{2 - \\sqrt{0.998001 + 3}}{0.001}$ | $-0.50012499$ |\n",
    "| (v) $-0.9999$ | $\\frac{2 - \\sqrt{0.99980001 + 3}}{0.0001}$ | $-0.50001250$ |\n",
    "\n",
    "#### Right Approach ($t \\to -1^+$):\n",
    "\n",
    "| $t$         | $R(t)$ Calculation | Value               |\n",
    "|-------------|--------------------|---------------------|\n",
    "| (vi) $-1.5$ | $\\frac{2 - \\sqrt{2.25 + 3}}{-0.5}$ | $-0.35424869$ |\n",
    "| (vii) $-1.1$ | $\\frac{2 - \\sqrt{1.21 + 3}}{-0.1}$ | $-0.48719872$ |\n",
    "| (viii) $-1.01$ | $\\frac{2 - \\sqrt{1.0201 + 3}}{-0.01}$ | $-0.49875621$ |\n",
    "| (ix) $-1.001$ | $\\frac{2 - \\sqrt{1.002001 + 3}}{-0.001}$ | $-0.49987506$ |\n",
    "| (x) $-1.0001$ | $\\frac{2 - \\sqrt{1.00020001 + 3}}{-0.0001}$ | $-0.49998750$ |\n",
    "\n",
    "**Observations:**\n",
    "- As $t \\to -1^-$, $R(t) \\to -0.5$\n",
    "- As $t \\to -1^+$, $R(t) \\to -0.5$\n",
    "\n",
    "### **Part (b): Limit Estimation**\n",
    "\n",
    "From the calculations in part (a), we observe that:\n",
    "$$ \\lim_{t \\to -1} \\frac{2 - \\sqrt{t^2 + 3}}{t + 1} = -0.5 $$\n",
    "### Final Answer:\n",
    "$$ \\boxed{-0.5} $$"
   ]
  }
 ],
 "metadata": {
  "kernelspec": {
   "display_name": "Python 3 (ipykernel)",
   "language": "python",
   "name": "python3"
  },
  "language_info": {
   "codemirror_mode": {
    "name": "ipython",
    "version": 3
   },
   "file_extension": ".py",
   "mimetype": "text/x-python",
   "name": "python",
   "nbconvert_exporter": "python",
   "pygments_lexer": "ipython3",
   "version": "3.12.6"
  }
 },
 "nbformat": 4,
 "nbformat_minor": 5
}
