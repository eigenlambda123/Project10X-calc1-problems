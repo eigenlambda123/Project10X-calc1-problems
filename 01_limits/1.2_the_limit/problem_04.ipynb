{
 "cells": [
  {
   "cell_type": "markdown",
   "id": "3eac670f-8edb-42fb-b264-e33a9ecebb54",
   "metadata": {},
   "source": [
    "### **Problems**\n",
    "\n",
    "Below is the graph of $f(x)$. For each of the given points determine:\n",
    "\n",
    "1. The value of $f(a)$\n",
    "2. $\\lim_{x \\to a} f(x)$\n",
    "\n",
    "If any of these quantities do not exist, clearly explain why.\n",
    "\n",
    "Points to evaluate:\n",
    "- (a) $a = -3$\n",
    "- (b) $a = -1$\n",
    "- (c) $a = 2$\n",
    "- (d) $a = 4$\n",
    "\n",
    "![graph1](images/Graph1.png)"
   ]
  },
  {
   "cell_type": "markdown",
   "id": "a977ddea-5c2e-4cbb-b18d-78d6d38dc7e5",
   "metadata": {},
   "source": [
    "### **Solutions**\n",
    "\n",
    "### **(a) At $a = -3$**\n",
    "\n",
    "- **$f(-3)$**: $4$  \n",
    "  *(The function has a defined value at $x = -3$)*\n",
    "- **$\\lim_{x \\to -3} f(x)$**: Does not exist (DNE)  \n",
    "  *(Left and right limits disagree)*\n",
    "\n",
    "### **(b) At $a = -1$**\n",
    "\n",
    "- **$f(-1)$**: $3$  \n",
    "  *(Function value exists at the point)*\n",
    "- **$\\lim_{x \\to -1} f(x)$**: $1$  \n",
    "  $$ \\text{Since } \\lim_{x \\to -1^-} f(x) = \\lim_{x \\to -1^+} f(x) = 1 $$\n",
    "\n",
    "### **(c) At $a = 2$**\n",
    "\n",
    "- **$f(2)$**: DNE  \n",
    "  *(No defined value at this point)*\n",
    "- **$\\lim_{x \\to 2} f(x)$**: $1$  \n",
    "  $$ \\text{Both one-sided limits approach } 1 $$\n",
    "\n",
    "### **(d) At $a = 4$**\n",
    "\n",
    "- **$f(4)$**: $5$  \n",
    "- **$\\lim_{x \\to 4} f(x)$**: $5$  \n",
    "  $$ \\text{Continuous at } x=4 \\text{ since } f(4) = \\lim_{x \\to 4} f(x) $$\n"
   ]
  }
 ],
 "metadata": {
  "kernelspec": {
   "display_name": "Python 3 (ipykernel)",
   "language": "python",
   "name": "python3"
  },
  "language_info": {
   "codemirror_mode": {
    "name": "ipython",
    "version": 3
   },
   "file_extension": ".py",
   "mimetype": "text/x-python",
   "name": "python",
   "nbconvert_exporter": "python",
   "pygments_lexer": "ipython3",
   "version": "3.12.6"
  }
 },
 "nbformat": 4,
 "nbformat_minor": 5
}
