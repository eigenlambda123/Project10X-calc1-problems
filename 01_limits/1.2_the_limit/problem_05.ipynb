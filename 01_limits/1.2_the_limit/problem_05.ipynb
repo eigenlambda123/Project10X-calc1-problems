{
 "cells": [
  {
   "cell_type": "markdown",
   "id": "a33e3659-afdc-4fd9-92da-0322b3ab0fb2",
   "metadata": {},
   "source": [
    "### **Problems**\n",
    "\n",
    "Below is the graph of $f(x)$. For each of the given points determine:\n",
    "1. The value of $f(a)$\n",
    "2. $\\lim_{x \\to a} f(x)$\n",
    "\n",
    "If any of these quantities do not exist, clearly explain why.\n",
    "\n",
    "Points to evaluate:\n",
    "- (a) $a = -8$\n",
    "- (b) $a = -2$\n",
    "- (c) $a = 6$\n",
    "- (d) $a = 10$\n",
    "\n",
    "![graph2](images/Graph2.png)"
   ]
  },
  {
   "cell_type": "markdown",
   "id": "81fa4078-b2c2-4a6d-bc6c-960957ba937d",
   "metadata": {},
   "source": [
    "### **Solutions**\n",
    "\n",
    "### **(a) At $a = -8$**\n",
    "\n",
    "- **Function value**:  \n",
    "  $f(-8) = -3$  \n",
    "  *(The point is defined on the graph)*\n",
    "- **Limit**:  \n",
    "  $\\lim_{x \\to -8} f(x) = -5$  \n",
    "  *(The function approaches $-5$ from both sides, creating a removable discontinuity since $f(-8) \\neq \\lim_{x \\to -8} f(x)$)*\n",
    "\n",
    "### **(b) At $a = -2$**\n",
    "\n",
    "- **Function value**:  \n",
    "  $f(-2) = 3$  \n",
    "  *(The point exists on the graph)*\n",
    "- **Limit**:  \n",
    "  $\\lim_{x \\to -2} f(x)$ **DNE**  \n",
    "  *(Left and right limits disagree, indicating a jump discontinuity)*\n",
    "\n",
    "### **(c) At $a = 6$**\n",
    "\n",
    "- **Function value**:  \n",
    "  $f(6)$ **DNE**  \n",
    "  *(No defined point at this location)*\n",
    "- **Limit**:  \n",
    "  $\\lim_{x \\to 6} f(x)$ **DNE**  \n",
    "  *(The limits from left and right differ)*\n",
    "\n",
    "### **(d) At $a = 10$**\n",
    "\n",
    "- **Function value**:  \n",
    "  $f(10) = 10$  \n",
    "- **Limit**:  \n",
    "  $\\lim_{x \\to 10} f(x) = 10$  \n",
    "  *(The function is continuous at this point since $f(10) = \\lim_{x \\to 10} f(x)$)*\n"
   ]
  }
 ],
 "metadata": {
  "kernelspec": {
   "display_name": "Python 3 (ipykernel)",
   "language": "python",
   "name": "python3"
  },
  "language_info": {
   "codemirror_mode": {
    "name": "ipython",
    "version": 3
   },
   "file_extension": ".py",
   "mimetype": "text/x-python",
   "name": "python",
   "nbconvert_exporter": "python",
   "pygments_lexer": "ipython3",
   "version": "3.12.6"
  }
 },
 "nbformat": 4,
 "nbformat_minor": 5
}
