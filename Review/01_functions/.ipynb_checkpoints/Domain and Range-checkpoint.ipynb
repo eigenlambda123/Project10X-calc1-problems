{
 "cells": [
  {
   "cell_type": "markdown",
   "id": "ef8fe671-9f76-4c09-9251-7d60402138da",
   "metadata": {},
   "source": [
    "# **Domain and Range**"
   ]
  },
  {
   "cell_type": "markdown",
   "id": "7da5e30f-fea1-4efe-84f7-4f620eaafceb",
   "metadata": {},
   "source": [
    "- The **domain** is the set of all valid inputs $x$ where the function is defined.  \n",
    "- The **range** is the set of all possible outputs $f(x)$.  \n",
    "\n",
    "### **Common Restrictions on Domain:**  \n",
    "1. **Denominators** must not be zero.  \n",
    "2. **Even roots** (e.g. $\\sqrt{x}$) require non-negative radicands.  \n",
    "3. **Logarithms** require the argument to be positive.  \n",
    "\n",
    "### **Tips to Find Range:**  \n",
    "- Use function behavior or graph.  \n",
    "- Solve $y = f(x)$ for $x$ if possible, to find output bounds.  \n",
    "- Always **use domain restrictions** to guide your range analysis."
   ]
  },
  {
   "cell_type": "markdown",
   "id": "07721a18-ffc8-4beb-9356-9b6b62255a79",
   "metadata": {},
   "source": [
    "---"
   ]
  },
  {
   "cell_type": "markdown",
   "id": "38a3764f-2e1a-4e0a-9694-d99347e9d3aa",
   "metadata": {},
   "source": [
    "### Problem 1  \n",
    "- Find the Domain and Range of $Y(t)=3t^2 - 2t + 1$\n",
    "\n",
    "### Solution  \n",
    "\n",
    "**Domain**  \n",
    "- We can input any real number:  \n",
    "$$\n",
    "\\boxed{D = (-\\infty, \\infty)}\n",
    "$$\n",
    "\n",
    "**Range**  \n",
    "1. The coefficient of $t^2$ is positive (3), so parabola opens upward\n",
    "2. Find vertex using $t = -\\frac{b}{2a}$:  \n",
    "$$\n",
    "t = \\frac{-(-2)}{2(3)} = \\frac{1}{3}\n",
    "$$\n",
    "3. Calculate $Y\\left(\\frac{1}{3}\\right)$:  \n",
    "$$\n",
    "3\\left(\\frac{1}{3}\\right)^2 - 2\\left(\\frac{1}{3}\\right) + 1 = \\frac{2}{3}\n",
    "$$\n",
    "4. Since parabola has minimum at vertex:  \n",
    "$$\n",
    "\\boxed{R = \\left[\\frac{2}{3}, \\infty\\right)}\n",
    "$$"
   ]
  },
  {
   "cell_type": "markdown",
   "id": "ab07e84c-7633-4026-80ab-c7717374c25d",
   "metadata": {},
   "source": [
    "---"
   ]
  },
  {
   "cell_type": "markdown",
   "id": "a84d7ee2-8945-4740-859b-80def90da1b7",
   "metadata": {},
   "source": [
    "### Problem 2  \n",
    "- Find the Domain and Range of $g(z) = -z^2 - 4z + 7$\n",
    "\n",
    "### Solution  \n",
    "\n",
    "**Domain**  \n",
    "- We can input any real number:  \n",
    "$$\n",
    "\\boxed{D = (-\\infty, \\infty)}\n",
    "$$\n",
    "\n",
    "**Range**  \n",
    "1. The coefficient of $z^2$ is negative (-1), so parabola opens downward\n",
    "2. Find vertex using $z = -\\frac{b}{2a}$:  \n",
    "$$\n",
    "z = -\\frac{-4}{2(-1)} = -2\n",
    "$$\n",
    "3. Calculate $g(-2)$:  \n",
    "$$\n",
    "-(-2)^2 - 4(-2) + 7 = 11\n",
    "$$\n",
    "4. Since parabola has maximum at vertex:  \n",
    "$$\n",
    "\\boxed{R = (-\\infty, 11]}\n",
    "$$"
   ]
  },
  {
   "cell_type": "markdown",
   "id": "60c3189b-588b-4604-bcbe-06443b868ead",
   "metadata": {},
   "source": [
    "---"
   ]
  },
  {
   "cell_type": "markdown",
   "id": "d92060c7-f03f-478b-b527-93ac96a85d59",
   "metadata": {},
   "source": [
    "### Problem 3  \n",
    "- Find the Domain and Range of $f(z) = 2 + \\sqrt{z^2 + 1}$\n",
    "\n",
    "### Solution  \n",
    "\n",
    "**Domain**  \n",
    "1. The expression under square root must satisfy $z^2 + 1 \\geq 0$\n",
    "2. Since $z^2 \\geq 0$ for all real $z$, then $z^2 + 1 \\geq 1 > 0$ always\n",
    "3. Therefore, no restrictions on $z$:  \n",
    "$$\n",
    "\\boxed{D = (-\\infty, \\infty)}\n",
    "$$\n",
    "\n",
    "**Range**  \n",
    "1. Analyze the components:\n",
    "   - $z^2 \\geq 0$ for all real $z$\n",
    "   - Therefore $z^2 + 1 \\geq 1$\n",
    "   - $\\sqrt{z^2 + 1} \\geq 1$ (since square root is increasing)\n",
    "2. Add 2 to both sides:\n",
    "   - $2 + \\sqrt{z^2 + 1} \\geq 3$\n",
    "3. As $z^2$ grows, the function increases without bound\n",
    "4. Therefore the range is:  \n",
    "$$\n",
    "\\boxed{R = [3, \\infty)}\n",
    "$$\n"
   ]
  },
  {
   "cell_type": "markdown",
   "id": "1ee6c694-ad04-4c00-b610-c278502fee15",
   "metadata": {},
   "source": [
    "---"
   ]
  },
  {
   "cell_type": "markdown",
   "id": "6017cac8-0580-4cb7-9a0f-612d9399a953",
   "metadata": {},
   "source": [
    "### Problem 4  \n",
    "- Find the Domain and Range of $h(y) = -3\\sqrt{14 + 3y}$\n",
    "\n",
    "### Solution  \n",
    "\n",
    "**Domain**  \n",
    "1. The expression under square root must satisfy:\n",
    "   $$14 + 3y \\geq 0$$\n",
    "2. Solve the inequality:\n",
    "   $$3y \\geq -14$$\n",
    "   $$y \\geq -\\frac{14}{3}$$\n",
    "3. Therefore, the domain is:  \n",
    "$$\n",
    "\\boxed{D = \\left[-\\frac{14}{3}, \\infty\\right)}\n",
    "$$\n",
    "\n",
    "**Range**  \n",
    "1. Analyze the components:\n",
    "   - $\\sqrt{14 + 3y}$ has range $[0, \\infty)$ since square roots are non-negative\n",
    "   - Multiplying by -3 reflects and scales the function: $-3\\sqrt{14 + 3y}$ has range $(-\\infty, 0]$\n",
    "2. The maximum value occurs at the domain endpoint:\n",
    "   - When $y = -\\frac{14}{3}$: $h(y) = -3\\sqrt{0} = 0$\n",
    "   - As $y$ increases, $h(y)$ decreases without bound\n",
    "3. Therefore the range is:  \n",
    "$$\n",
    "\\boxed{R = (-\\infty, 0]}\n",
    "$$"
   ]
  },
  {
   "cell_type": "markdown",
   "id": "b801de5b-0dab-4468-85b1-f2b202604779",
   "metadata": {},
   "source": [
    "---"
   ]
  },
  {
   "cell_type": "markdown",
   "id": "017a19b3-88ff-418b-b1e0-765d4480d028",
   "metadata": {},
   "source": [
    "### Problem 5  \n",
    "- Find the Domain and Range of $M(x) = 5 - |x + 8|$\n",
    "\n",
    "### Solution  \n",
    "\n",
    "**Domain**  \n",
    "1. Absolute value functions are defined for all real numbers  \n",
    "2. Therefore, no restrictions on $x$:  \n",
    "$$\n",
    "\\boxed{D = (-\\infty, \\infty)}\n",
    "$$\n",
    "\n",
    "**Range**  \n",
    "1. Analyze the components:\n",
    "   - $|x + 8| \\geq 0$ for all real $x$\n",
    "   - $-|x + 8| \\leq 0$ (multiplying by -1 reverses inequality)\n",
    "   - $5 - |x + 8| \\leq 5$ (adding 5 to both sides)\n",
    "2. The maximum value occurs when $|x + 8| = 0$:\n",
    "   - At $x = -8$: $M(-8) = 5 - 0 = 5$\n",
    "3. As $|x + 8|$ increases, $M(x)$ decreases without bound  \n",
    "4. Therefore the range is:  \n",
    "$$\n",
    "\\boxed{R = (-\\infty, 5]}\n",
    "$$"
   ]
  }
 ],
 "metadata": {
  "kernelspec": {
   "display_name": "Python 3 (ipykernel)",
   "language": "python",
   "name": "python3"
  },
  "language_info": {
   "codemirror_mode": {
    "name": "ipython",
    "version": 3
   },
   "file_extension": ".py",
   "mimetype": "text/x-python",
   "name": "python",
   "nbconvert_exporter": "python",
   "pygments_lexer": "ipython3",
   "version": "3.12.6"
  }
 },
 "nbformat": 4,
 "nbformat_minor": 5
}
