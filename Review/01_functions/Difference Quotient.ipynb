{
 "cells": [
  {
   "cell_type": "markdown",
   "id": "7274a2c1-27bc-48d4-9871-6e023c65b85d",
   "metadata": {},
   "source": [
    "# Difference Quotient"
   ]
  },
  {
   "cell_type": "markdown",
   "id": "4f64daa7-a600-4407-aea4-a3e03035c5ac",
   "metadata": {},
   "source": [
    "### Formula:\n",
    "\n",
    "$$\n",
    "\\frac{f(x+h) - f(x)}{h}\n",
    "$$"
   ]
  },
  {
   "cell_type": "markdown",
   "id": "ea5df070-6d96-487f-b086-1283eee1912c",
   "metadata": {},
   "source": [
    "### Why is the Difference Quotient Calculated?\n",
    "\n",
    "- To **measure the average rate of change** of a function over an interval.  \n",
    "- To **approximate the slope of the tangent line** (instantaneous rate of change) at a point.  \n",
    "- It serves as the **foundation for the definition of the derivative**.  \n",
    "- Helps understand how a function changes **between two points**.  \n",
    "- Used in **calculus** to move from average change to instantaneous change by taking the limit as the interval shrinks.  "
   ]
  },
  {
   "cell_type": "markdown",
   "id": "6c948f93-67db-4c47-8e67-c3c045ac0c3d",
   "metadata": {},
   "source": [
    "---"
   ]
  },
  {
   "cell_type": "markdown",
   "id": "d178a89f-d981-474c-b51a-bcc1b52a3ed8",
   "metadata": {},
   "source": [
    "## Problem 1:\n",
    "**Function:** $f(x) = 4x - 9$\n",
    "\n",
    "### Solution 1:\n",
    "\n",
    "$$\n",
    "\\frac{f(x+h) - f(x)}{h} \n",
    "= \\frac{4(x+h) - 9 - (4x - 9)}{h}$$\n",
    "$$= \\frac{4x + 4h - 9 - 4x + 9}{h}$$\n",
    "$$\n",
    "= \\frac{4h}{h}\n",
    "$$\n",
    "$$\n",
    "\\boxed{4}\n",
    "$$"
   ]
  },
  {
   "cell_type": "markdown",
   "id": "afbf0e08-5b61-4588-8628-b0e98f31259b",
   "metadata": {},
   "source": [
    "---"
   ]
  },
  {
   "cell_type": "markdown",
   "id": "4a3d862a-4227-43ae-9b1e-6638c4287a8a",
   "metadata": {},
   "source": [
    "## Problem 2:\n",
    "**Function:** $g(x) = 6 - x^2$\n",
    "\n",
    "### Solution 2:\n",
    "\n",
    "$$\n",
    "\\frac{g(x+h) - g(x)}{h} \n",
    "= \\frac{6 - (x+h)^2 - (6 - x^2)}{h}\n",
    "$$\n",
    "$$= \\frac{6 - (x^2 + 2xh + h^2) - 6 + x^2}{h}\n",
    "$$\n",
    "$$= \\frac{-2xh - h^2}{h}$$\n",
    "$$\\boxed{-2x - h}$$"
   ]
  },
  {
   "cell_type": "markdown",
   "id": "5fcf3c6a-fc3d-4af3-9b91-3cf730243a60",
   "metadata": {},
   "source": [
    "---"
   ]
  },
  {
   "cell_type": "markdown",
   "id": "6b48b4e5-b189-4796-9d48-2beb167845cf",
   "metadata": {},
   "source": [
    "## Problem 3:\n",
    "**Function:** $f(t) = 2t^2 - 3t + 9$\n",
    "\n",
    "### Solution 3:\n",
    "\n",
    "$$\n",
    "\\frac{f(t+h) - f(t)}{h} \n",
    "= \\frac{2(t+h)^2 - 3(t+h) + 9 - (2t^2 - 3t + 9)}{h}\n",
    "$$\n",
    "\n",
    "$$\n",
    "= \\frac{2(t^2 + 2th + h^2) - 3t - 3h + 9 - 2t^2 + 3t - 9}{h}\n",
    "$$\n",
    "$$\n",
    "= \\frac{2t^2 + 4th + 2h^2 - 3t - 3h + 9 - 2t^2 + 3t - 9}{h}\n",
    "$$\n",
    "$$\n",
    "= \\frac{4th + 2h^2 - 3h}{h}\n",
    "$$\n",
    "\n",
    "$$\n",
    "\\boxed{4t + 2h - 3}\n",
    "$$"
   ]
  },
  {
   "cell_type": "markdown",
   "id": "afae0141-cb38-41d5-91b7-cd4fe65eab2f",
   "metadata": {},
   "source": [
    "---"
   ]
  },
  {
   "cell_type": "markdown",
   "id": "459bfafc-1c7f-450c-9e80-59153e443039",
   "metadata": {},
   "source": [
    "## Problem 4:\n",
    "**Function:** $y(z) = \\frac{1}{z + 2}$\n",
    "\n",
    "### Solution 4:\n",
    "\n",
    "$$\n",
    "\\frac{y(z+h) - y(z)}{h} \n",
    "= \\frac{\\frac{1}{z+h+2} - \\frac{1}{z+2}}{h}\n",
    "$$\n",
    "$$= \\frac{1}{h} \\left( \\frac{(z+2) - (z+h+2)}{(z+h+2)(z+2)} \\right)$$\n",
    "$$= \\frac{1}{h} \\cdot \\frac{-h}{(z+h+2)(z+2)}$$\n",
    "$$\\boxed{\\frac{-1}{(z+h+2)(z+2)}}$$"
   ]
  },
  {
   "cell_type": "markdown",
   "id": "85e4179d-2ff0-418c-82ae-1b07b0edba83",
   "metadata": {},
   "source": [
    "---"
   ]
  },
  {
   "cell_type": "markdown",
   "id": "42242522-59a9-41ca-a843-419288736d0c",
   "metadata": {},
   "source": [
    "## Problem 5:\n",
    "**Function:** $A(t) = \\frac{2t}{3 - t}$\n",
    "\n",
    "### Solution 5:\n",
    "\n",
    "$$\n",
    "\\frac{A(t+h) - A(t)}{h} \n",
    "= \\frac{\\frac{2(t+h)}{3 - (t+h)} - \\frac{2t}{3 - t}}{h}$$\n",
    "$$\n",
    "= \\frac{\\frac{2(t+h)}{3 - t - h} - \\frac{2t}{3 - t}}{h}\n",
    "$$\n",
    "\n",
    "Use a common denominator:\n",
    "\n",
    "$$\n",
    "= \\frac{\\frac{2(t+h)(3 - t) - 2t(3 - t - h)}{(3 - t - h)(3 - t)}}{h}\n",
    "$$\n",
    "\n",
    "Simplify numerator:\n",
    "\n",
    "$$\n",
    "2(t+h)(3 - t) = 6t + 6h - 2t^2 - 2th \\\\\n",
    "$$\n",
    "$$\n",
    "2t(3 - t - h) = 6t - 2t^2 - 2th\n",
    "$$\n",
    "\n",
    "So:\n",
    "\n",
    "$$\n",
    "\\text{Numerator} = (6t + 6h - 2t^2 - 2th) - (6t - 2t^2 - 2th) = 6h\n",
    "$$\n",
    "\n",
    "Final expression:\n",
    "\n",
    "$$\n",
    "= \\frac{6h}{h(3 - t - h)(3 - t)} = \\frac{6}{(3 - t - h)(3 - t)}\n",
    "$$\n",
    "\n",
    "$$\n",
    "\\boxed{\\frac{6}{(3 - t - h)(3 - t)}}\n",
    "$$\n"
   ]
  }
 ],
 "metadata": {
  "kernelspec": {
   "display_name": "Python 3 (ipykernel)",
   "language": "python",
   "name": "python3"
  },
  "language_info": {
   "codemirror_mode": {
    "name": "ipython",
    "version": 3
   },
   "file_extension": ".py",
   "mimetype": "text/x-python",
   "name": "python",
   "nbconvert_exporter": "python",
   "pygments_lexer": "ipython3",
   "version": "3.12.6"
  }
 },
 "nbformat": 4,
 "nbformat_minor": 5
}
