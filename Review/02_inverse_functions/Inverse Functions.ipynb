{
 "cells": [
  {
   "cell_type": "markdown",
   "id": "22c763d3-dfc3-4ee0-9e1d-175ea87e41c6",
   "metadata": {},
   "source": [
    "# **Inverse Functions**"
   ]
  },
  {
   "cell_type": "markdown",
   "id": "40125e2f-cf44-4ff4-814d-ff4be5d59726",
   "metadata": {},
   "source": [
    "### **Key Concept**\n",
    "Two functions $f(x)$ and $g(x)$ are **inverses** of each other if:\n",
    "\n",
    "- $(f \\circ g)(x) = x$  \n",
    "- $(g \\circ f)(x) = x$\n",
    "\n",
    "### **Steps to Find the Inverse of a Function**\n",
    "1. Replace $f(x)$ with $y$  \n",
    "2. Swap $x$ and $y$  \n",
    "3. Solve the equation for $y$  \n",
    "4. Replace $y$ with $f^{-1}(x)$  \n",
    "5. Verify:\n",
    "   - $f(f^{-1}(x)) = x$\n",
    "   - $f^{-1}(f(x)) = x$\n"
   ]
  },
  {
   "cell_type": "markdown",
   "id": "b3746ad7-56c4-4f8f-9b20-b76859b8517d",
   "metadata": {},
   "source": [
    "---\n",
    "\n",
    "### **Problem 1**  \n",
    "Find the inverse for $f(x) = 6x + 15$. Verify your inverse.\n",
    "\n",
    "#### **Solution**\n",
    "**Step 1:**  \n",
    "$$ y = 6x + 15 $$\n",
    "\n",
    "**Step 2:**  \n",
    "$$ x = 6y + 15 $$\n",
    "\n",
    "**Step 3:**  \n",
    "$$ x - 15 = 6y \\quad \\Rightarrow \\quad y = \\frac{x - 15}{6} $$\n",
    "\n",
    "**Step 4:**  \n",
    "$$ f^{-1}(x) = \\boxed{\\frac{x - 15}{6}} $$\n",
    "\n",
    "**Verification:**\n",
    "\n",
    "$$ f(f^{-1}(x)) = 6 \\left( \\frac{x - 15}{6} \\right) + 15 = x $$\n",
    "$$ f^{-1}(f(x)) = \\frac{6x + 15 - 15}{6} = x $$\n"
   ]
  },
  {
   "cell_type": "markdown",
   "id": "e77a4f3f-021d-4556-a6f9-5d1c66cc54a6",
   "metadata": {},
   "source": [
    "---\n",
    "\n",
    "### **Problem 2**  \n",
    "Find the inverse for $h(x) = 3 + 29x$. Verify your inverse.\n",
    "\n",
    "#### **Solution**\n",
    "**Step 1:**  \n",
    "$$ y = 3 + 29x $$\n",
    "\n",
    "**Step 2:**  \n",
    "$$ x = 3 + 29y $$\n",
    "\n",
    "**Step 3:**  \n",
    "$$ x - 3 = 29y \\quad \\Rightarrow \\quad y = \\frac{x - 3}{29} $$\n",
    "\n",
    "**Step 4:**  \n",
    "$$ h^{-1}(x) = \\boxed{\\frac{x - 3}{29}} $$\n",
    "\n",
    "**Verification:**\n",
    "\n",
    "$$ h(h^{-1}(x)) = 3 + 29 \\cdot \\frac{x - 3}{29} = x $$\n",
    "$$ h^{-1}(h(x)) = \\frac{3 + 29x - 3}{29} = x $$\n"
   ]
  },
  {
   "cell_type": "markdown",
   "id": "f5d98690-8c59-4f61-8b61-73daf36cbab8",
   "metadata": {},
   "source": [
    "---\n",
    "\n",
    "\n",
    "### **Problem 3**  \n",
    "Find the inverse for $R(x) = x^3 + 6$. Verify your inverse.\n",
    "\n",
    "#### **Solution**\n",
    "**Step 1:**  \n",
    "$$ y = x^3 + 6 $$\n",
    "\n",
    "**Step 2:**  \n",
    "$$ x = y^3 + 6 \\quad \\text{(incorrect)} $$  \n",
    "Correct:\n",
    "$$ x = y^3 + 6 \\quad \\Rightarrow \\quad x - 6 = y^3 \\quad \\Rightarrow \\quad y = \\sqrt[3]{x - 6} $$\n",
    "\n",
    "**Step 4:**  \n",
    "$$ R^{-1}(x) = \\boxed{\\sqrt[3]{x - 6}} $$\n",
    "\n",
    "**Verification:**\n",
    "\n",
    "$$ R(R^{-1}(x)) = \\left( \\sqrt[3]{x - 6} \\right)^3 + 6 = x $$\n",
    "$$ R^{-1}(R(x)) = \\sqrt[3]{x^3 + 6 - 6} = x $$\n"
   ]
  },
  {
   "cell_type": "markdown",
   "id": "a04c043e-9345-4d2b-8c1d-9d0da52d8965",
   "metadata": {},
   "source": [
    "---\n",
    "\n",
    "### **Problem 4**  \n",
    "Find the inverse for $g(x) = 4(x - 3)^5 + 21$. Verify your inverse.\n",
    "\n",
    "#### **Solution**\n",
    "**Step 1:**  \n",
    "$$ y = 4(x - 3)^5 + 21 $$\n",
    "\n",
    "**Step 2:**  \n",
    "$$ x = 4(y - 3)^5 + 21 $$\n",
    "\n",
    "**Step 3:**  \n",
    "$$ x - 21 = 4(y - 3)^5 \\quad \\Rightarrow \\quad \\frac{x - 21}{4} = (y - 3)^5 $$\n",
    "\n",
    "Take the fifth root:\n",
    "$$ y - 3 = \\sqrt[5]{\\frac{x - 21}{4}} \\quad \\Rightarrow \\quad y = \\sqrt[5]{\\frac{x - 21}{4}} + 3 $$\n",
    "\n",
    "**Step 4:**  \n",
    "$$ g^{-1}(x) = \\boxed{\\sqrt[5]{\\frac{x - 21}{4}} + 3} $$\n",
    "\n",
    "**Verification:**\n",
    "\n",
    "$$ g(g^{-1}(x)) = 4\\left( \\left( \\sqrt[5]{\\frac{x - 21}{4}} \\right)^5 \\right) + 21 = x $$\n"
   ]
  },
  {
   "cell_type": "markdown",
   "id": "5d42049c-c2e1-425a-b38a-6a538d59f574",
   "metadata": {},
   "source": [
    "---\n",
    "\n",
    "### **Problem 5**  \n",
    "Find the inverse for $W(x) = \\sqrt[5]{9 - 11x}$. Verify your inverse.\n",
    "\n",
    "#### **Solution**\n",
    "**Step 1:**  \n",
    "$$ y = \\sqrt[5]{9 - 11x} $$\n",
    "\n",
    "**Step 2:**  \n",
    "$$ x = \\sqrt[5]{9 - 11y} $$\n",
    "\n",
    "**Step 3:**  \n",
    "Raise both sides to the 5th power:  \n",
    "$$ x^5 = 9 - 11y \\quad \\Rightarrow \\quad 11y = 9 - x^5 \\quad \\Rightarrow \\quad y = \\frac{9 - x^5}{11} $$\n",
    "\n",
    "**Step 4:**  \n",
    "$$ W^{-1}(x) = \\boxed{\\frac{9 - x^5}{11}} $$\n",
    "\n",
    "**Verification:**\n",
    "\n",
    "$$ W(W^{-1}(x)) = \\sqrt[5]{9 - 11 \\cdot \\frac{9 - x^5}{11}} = \\sqrt[5]{x^5} = x \\quad \\checkmark $$\n",
    "\n",
    "$$ W^{-1}(W(x)) = \\frac{9 - \\left( \\sqrt[5]{9 - 11x} \\right)^5}{11} = \\frac{9 - (9 - 11x)}{11} = x \\quad \\checkmark $$\n"
   ]
  }
 ],
 "metadata": {
  "kernelspec": {
   "display_name": "Python 3 (ipykernel)",
   "language": "python",
   "name": "python3"
  },
  "language_info": {
   "codemirror_mode": {
    "name": "ipython",
    "version": 3
   },
   "file_extension": ".py",
   "mimetype": "text/x-python",
   "name": "python",
   "nbconvert_exporter": "python",
   "pygments_lexer": "ipython3",
   "version": "3.12.6"
  }
 },
 "nbformat": 4,
 "nbformat_minor": 5
}
