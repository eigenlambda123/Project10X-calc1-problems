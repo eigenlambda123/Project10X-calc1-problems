{
 "cells": [
  {
   "cell_type": "markdown",
   "id": "0d036ff8-4318-4813-8625-09aed20afc54",
   "metadata": {},
   "source": [
    "# **Convert the following radian measures into degrees**\n",
    "\n",
    "Use the formula:\n",
    "$$\n",
    "\\text{Degrees} = \\text{Radians} \\times \\frac{180^\\circ}{\\pi}\n",
    "$$"
   ]
  },
  {
   "cell_type": "markdown",
   "id": "3d2f7e1b-30b6-4dce-b779-c260b753c386",
   "metadata": {},
   "source": [
    "---\n",
    "\n",
    "**(a)** $\\dfrac{7\\pi}{3}$  \n",
    "$\\quad= \\dfrac{7\\pi}{3} \\times \\dfrac{180^\\circ}{\\pi} = 420^\\circ$\n",
    "\n",
    "\n",
    "**(b)** $\\dfrac{\\pi}{6}$  \n",
    "$\\quad= \\dfrac{\\pi}{6} \\times \\dfrac{180^\\circ}{\\pi} = 30^\\circ$\n",
    "\n",
    "\n",
    "**(c)** $\\dfrac{\\pi}{18}$  \n",
    "$\\quad= \\dfrac{\\pi}{18} \\times \\dfrac{180^\\circ}{\\pi} = 10^\\circ$\n",
    "\n",
    "\n",
    "**(d)** $\\dfrac{3\\pi}{4}$  \n",
    "$\\quad= \\dfrac{3\\pi}{4} \\times \\dfrac{180^\\circ}{\\pi} = 135^\\circ$\n",
    "\n",
    "\n",
    "**(e)** $\\dfrac{13\\pi}{4}$  \n",
    "$\\quad= \\dfrac{13\\pi}{4} \\times \\dfrac{180^\\circ}{\\pi} = 585^\\circ$\n",
    "\n",
    "\n",
    "**(f)** $\\pi$  \n",
    "$\\quad= \\pi \\times \\dfrac{180^\\circ}{\\pi} = 180^\\circ$\n",
    "\n",
    "\n",
    "**(g)** $\\dfrac{7\\pi}{4}$  \n",
    "$\\quad= \\dfrac{7\\pi}{4} \\times \\dfrac{180^\\circ}{\\pi} = 315^\\circ$\n",
    "\n",
    "\n",
    "**(h)** $-\\dfrac{17\\pi}{4}$  \n",
    "$\\quad= -\\dfrac{17\\pi}{4} \\times \\dfrac{180^\\circ}{\\pi} = -765^\\circ$\n",
    "\n",
    "\n",
    "**(i)** $2\\pi$  \n",
    "$\\quad= 2\\pi \\times \\dfrac{180^\\circ}{\\pi} = 360^\\circ$\n",
    "\n",
    "\n",
    "**(j)** $\\dfrac{\\pi}{3}$  \n",
    "$\\quad= \\dfrac{\\pi}{3} \\times \\dfrac{180^\\circ}{\\pi} = 60^\\circ$\n",
    "\n",
    "\n",
    "**(k)** $\\dfrac{2\\pi}{3}$  \n",
    "$\\quad= \\dfrac{2\\pi}{3} \\times \\dfrac{180^\\circ}{\\pi} = 120^\\circ$\n",
    "\n",
    "\n",
    "**(l)** $-\\dfrac{\\pi}{4}$  \n",
    "$\\quad= -\\dfrac{\\pi}{4} \\times \\dfrac{180^\\circ}{\\pi} = -45^\\circ$\n",
    "\n",
    "\n",
    "**(m)** $0$  \n",
    "$\\quad= 0 \\times \\dfrac{180^\\circ}{\\pi} = 0^\\circ$\n",
    "\n",
    "\n",
    "**(n)** $\\dfrac{5\\pi}{4}$  \n",
    "$\\quad= \\dfrac{5\\pi}{4} \\times \\dfrac{180^\\circ}{\\pi} = 225^\\circ$\n",
    "\n",
    "\n",
    "**(o)** $3\\pi$  \n",
    "$\\quad= 3\\pi \\times \\dfrac{180^\\circ}{\\pi} = 540^\\circ$\n",
    "\n"
   ]
  }
 ],
 "metadata": {
  "kernelspec": {
   "display_name": "Python 3 (ipykernel)",
   "language": "python",
   "name": "python3"
  },
  "language_info": {
   "codemirror_mode": {
    "name": "ipython",
    "version": 3
   },
   "file_extension": ".py",
   "mimetype": "text/x-python",
   "name": "python",
   "nbconvert_exporter": "python",
   "pygments_lexer": "ipython3",
   "version": "3.12.6"
  }
 },
 "nbformat": 4,
 "nbformat_minor": 5
}
