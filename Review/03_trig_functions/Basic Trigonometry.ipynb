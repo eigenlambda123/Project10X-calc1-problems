{
 "cells": [
  {
   "cell_type": "markdown",
   "id": "f310156f-30bc-4088-b05f-ee5b02781757",
   "metadata": {},
   "source": [
    "# **SOH CAH TOA – Trigonometry Problem Set**\n",
    "\n",
    "##  Trig Function Formulas\n",
    "\n",
    "1. $\\sin(\\theta) = \\dfrac{\\text{Opposite}}{\\text{Hypotenuse}}$  \n",
    "2. $\\cos(\\theta) = \\dfrac{\\text{Adjacent}}{\\text{Hypotenuse}}$  \n",
    "3. $\\tan(\\theta) = \\dfrac{\\text{Opposite}}{\\text{Adjacent}}$  \n",
    "4. $\\csc(\\theta) = \\dfrac{1}{\\sin(\\theta)} = \\dfrac{\\text{Hypotenuse}}{\\text{Opposite}}$  \n",
    "5. $\\sec(\\theta) = \\dfrac{1}{\\cos(\\theta)} = \\dfrac{\\text{Hypotenuse}}{\\text{Adjacent}}$  \n",
    "6. $\\cot(\\theta) = \\dfrac{1}{\\tan(\\theta)} = \\dfrac{\\text{Adjacent}}{\\text{Opposite}}$"
   ]
  },
  {
   "cell_type": "markdown",
   "id": "160987ee-3b21-4808-b0e1-70bce03b95d9",
   "metadata": {},
   "source": [
    "---\n",
    "### Problem 1\n",
    "\n",
    "> **Given:**\n",
    "- Adjacent = $3$  \n",
    "- Opposite = $4$  \n",
    "- Hypotenuse = $?$  "
   ]
  },
  {
   "cell_type": "markdown",
   "id": "4b99c022-cfc0-402d-864e-2b3174220d88",
   "metadata": {},
   "source": [
    "### Solution 1\n",
    "\n",
    "$$\n",
    "c = \\sqrt{3^2 + 4^2} = \\sqrt{9 + 16} = \\sqrt{25} = 5\n",
    "$$\n",
    "\n",
    "#### **Trig Ratios**\n",
    "\n",
    "1. $\\sin(\\theta) = \\dfrac{4}{5}$  \n",
    "2. $\\cos(\\theta) = \\dfrac{3}{5}$  \n",
    "3. $\\tan(\\theta) = \\dfrac{4}{3}$  \n",
    "4. $\\csc(\\theta) = \\dfrac{5}{4}$  \n",
    "5. $\\sec(\\theta) = \\dfrac{5}{3}$  \n",
    "6. $\\cot(\\theta) = \\dfrac{3}{4}$"
   ]
  },
  {
   "cell_type": "markdown",
   "id": "81d78592-8559-4cca-aa3d-b026096fcf9a",
   "metadata": {},
   "source": [
    "---\n",
    "### Problem 2\n",
    "\n",
    "> **Given:**\n",
    "- Adjacent = $15$  \n",
    "- Opposite = $8$  \n",
    "- Hypotenuse = $?$  "
   ]
  },
  {
   "cell_type": "markdown",
   "id": "f95bfab0-bc91-4cd8-aff3-62b8d77a91b8",
   "metadata": {},
   "source": [
    "### Solution 2\n",
    "\n",
    "$$\n",
    "c = \\sqrt{15^2 + 8^2} = \\sqrt{225 + 64} = \\sqrt{289} = 17\n",
    "$$\n",
    "\n",
    "#### **Trig Ratios**\n",
    "\n",
    "1. $\\sin(\\theta) = \\dfrac{8}{17}$  \n",
    "2. $\\cos(\\theta) = \\dfrac{15}{17}$  \n",
    "3. $\\tan(\\theta) = \\dfrac{8}{15}$  \n",
    "4. $\\csc(\\theta) = \\dfrac{17}{8}$  \n",
    "5. $\\sec(\\theta) = \\dfrac{17}{15}$  \n",
    "6. $\\cot(\\theta) = \\dfrac{15}{8}$"
   ]
  },
  {
   "cell_type": "markdown",
   "id": "940ab3cb-aef2-4725-a224-2cf4e41f47d5",
   "metadata": {},
   "source": [
    "---\n",
    "### Problem 3\n",
    "\n",
    "> **Given:**\n",
    "- Adjacent = $\\sqrt{3}$  \n",
    "- Opposite = $2$  \n",
    "- Hypotenuse = $?$  "
   ]
  },
  {
   "cell_type": "markdown",
   "id": "9a53c145-1f64-4c26-bc72-c1f3219b785a",
   "metadata": {},
   "source": [
    "\n",
    "### Solution 3\n",
    "\n",
    "$$\n",
    "c = \\sqrt{(\\sqrt{3})^2 + 2^2} = \\sqrt{3 + 4} = \\sqrt{7}\n",
    "$$\n",
    "\n",
    "#### **Trig Ratios**\n",
    "\n",
    "1. $\\sin(\\theta) = \\dfrac{2}{\\sqrt{7}}$  \n",
    "2. $\\cos(\\theta) = \\dfrac{\\sqrt{3}}{\\sqrt{7}}$  \n",
    "3. $\\tan(\\theta) = \\dfrac{2}{\\sqrt{3}}$  \n",
    "4. $\\csc(\\theta) = \\dfrac{\\sqrt{7}}{2}$  \n",
    "5. $\\sec(\\theta) = \\dfrac{\\sqrt{7}}{\\sqrt{3}}$  \n",
    "6. $\\cot(\\theta) = \\dfrac{\\sqrt{3}}{2}$\n"
   ]
  },
  {
   "cell_type": "markdown",
   "id": "99884732-ac38-4b2e-a6b8-b8f314804c33",
   "metadata": {},
   "source": [
    "---\n",
    "### Problem 4\n",
    "\n",
    "> **Given:**\n",
    "- Adjacent = $5$  \n",
    "- Opposite = $?$  \n",
    "- Hypotenuse = $13$  \n"
   ]
  },
  {
   "cell_type": "markdown",
   "id": "ec8398ea-7c91-4150-bd6d-cd67667a7f9d",
   "metadata": {},
   "source": [
    "\n",
    "### Solution 4\n",
    "\n",
    "$$\n",
    "b = \\sqrt{13^2 - 5^2} = \\sqrt{169 - 25} = \\sqrt{144} = 12\n",
    "$$\n",
    "\n",
    "#### **Trig Ratios**\n",
    "\n",
    "1. $4\\sin(\\theta) = \\dfrac{12}{13}$  \n",
    "2. $\\cos(\\theta) = \\dfrac{5}{13}$  \n",
    "3. $\\tan(\\theta) = \\dfrac{12}{5}$  \n",
    "4. $\\csc(\\theta) = \\dfrac{13}{12}$  \n",
    "5. $\\sec(\\theta) = \\dfrac{13}{5}$  \n",
    "6. $\\cot(\\theta) = \\dfrac{5}{12}$"
   ]
  },
  {
   "cell_type": "markdown",
   "id": "8decdaea-37eb-44fd-af99-ea9414311580",
   "metadata": {},
   "source": [
    "---\n",
    "### Problem 5\n",
    "\n",
    "> **Given:**\n",
    "- Opposite = $18$  \n",
    "- Hypotenuse = $30$  \n",
    "- Adjacent = $?$  \n"
   ]
  },
  {
   "cell_type": "markdown",
   "id": "c119b923-bf0e-44d7-a659-f9bc031daedc",
   "metadata": {},
   "source": [
    "### Solution 5\n",
    "\n",
    "$$\n",
    "a = \\sqrt{30^2 - 18^2} = \\sqrt{900 - 324} = \\sqrt{576} = 24\n",
    "$$\n",
    "\n",
    "#### **Trig Ratios**\n",
    "\n",
    "1. $\\sin(\\theta) = \\dfrac{18}{30} = \\dfrac{3}{5}$  \n",
    "2. $\\cos(\\theta) = \\dfrac{24}{30} = \\dfrac{4}{5}$  \n",
    "3. $\\tan(\\theta) = \\dfrac{18}{24} = \\dfrac{3}{4}$  \n",
    "4. $\\csc(\\theta) = \\dfrac{30}{18} = \\dfrac{5}{3}$  \n",
    "5. $\\sec(\\theta) = \\dfrac{30}{24} = \\dfrac{5}{4}$  \n",
    "6. $\\cot(\\theta) = \\dfrac{24}{18} = \\dfrac{4}{3}$\n",
    "\n"
   ]
  }
 ],
 "metadata": {
  "kernelspec": {
   "display_name": "Python 3 (ipykernel)",
   "language": "python",
   "name": "python3"
  },
  "language_info": {
   "codemirror_mode": {
    "name": "ipython",
    "version": 3
   },
   "file_extension": ".py",
   "mimetype": "text/x-python",
   "name": "python",
   "nbconvert_exporter": "python",
   "pygments_lexer": "ipython3",
   "version": "3.12.6"
  }
 },
 "nbformat": 4,
 "nbformat_minor": 5
}
