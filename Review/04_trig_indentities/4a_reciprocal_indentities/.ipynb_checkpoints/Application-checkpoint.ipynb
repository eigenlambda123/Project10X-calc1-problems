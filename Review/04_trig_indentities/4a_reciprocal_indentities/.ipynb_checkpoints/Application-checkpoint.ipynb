{
 "cells": [
  {
   "cell_type": "markdown",
   "id": "3980af4a-723f-4c4f-a20f-e41f3f3fb915",
   "metadata": {},
   "source": [
    "# **Part E (Application)**\n",
    "---"
   ]
  },
  {
   "cell_type": "markdown",
   "id": "00ce656c-d10b-42ea-a105-a63e2ee77e68",
   "metadata": {},
   "source": [
    "### Problems\n",
    "\n",
    "**13.** A triangle has angle $\\theta$ such that $\\csc(\\theta) = \\dfrac{13}{5}$.  \n",
    "Find $\\sin(\\theta)$, and sketch a triangle with correct side ratios.\n",
    "\n",
    "**14.** If $\\tan(\\theta) = 3$ and $\\theta$ is in Quadrant III, what is $\\cot(\\theta)$?  \n",
    "(Use signs and identity.)"
   ]
  },
  {
   "cell_type": "markdown",
   "id": "9d225b71-0cda-48aa-b672-6a811306fa7e",
   "metadata": {},
   "source": [
    "---\n",
    "\n",
    "### **Solutions**\n",
    "\n",
    "**13.** Use the reciprocal identity:  \n",
    "$$\n",
    "\\csc(\\theta) = \\dfrac{1}{\\sin(\\theta)} \\Rightarrow \\sin(\\theta) = \\dfrac{1}{\\csc(\\theta)} = \\dfrac{1}{\\frac{13}{5}} = \\dfrac{5}{13}\n",
    "$$\n",
    "\n",
    "We now sketch a right triangle with:\n",
    "- Opposite = 5  \n",
    "- Hypotenuse = 13  \n",
    "\n",
    "Use Pythagoras to find the adjacent side:\n",
    "$$\n",
    "\\text{adjacent} = \\sqrt{13^2 - 5^2} = \\sqrt{169 - 25} = \\sqrt{144} = 12\n",
    "$$\n",
    "\n",
    "**Answer:**  \n",
    "- $\\boxed{\\sin(\\theta) = \\dfrac{5}{13}}$  \n",
    "- Triangle: Opposite = 5, Adjacent = 12, Hypotenuse = 13\n",
    "\n",
    "\n",
    "**14.** Use the reciprocal identity:\n",
    "$$\n",
    "\\cot(\\theta) = \\dfrac{1}{\\tan(\\theta)} = \\dfrac{1}{3}\n",
    "$$\n",
    "\n",
    "In Quadrant III:\n",
    "- $\\tan(\\theta) > 0$\n",
    "- $\\cot(\\theta) > 0$ (same sign in this quadrant)\n",
    "\n",
    "**Answer:** $\\boxed{\\cot(\\theta) = \\dfrac{1}{3}}$\n"
   ]
  }
 ],
 "metadata": {
  "kernelspec": {
   "display_name": "Python 3 (ipykernel)",
   "language": "python",
   "name": "python3"
  },
  "language_info": {
   "codemirror_mode": {
    "name": "ipython",
    "version": 3
   },
   "file_extension": ".py",
   "mimetype": "text/x-python",
   "name": "python",
   "nbconvert_exporter": "python",
   "pygments_lexer": "ipython3",
   "version": "3.12.6"
  }
 },
 "nbformat": 4,
 "nbformat_minor": 5
}
