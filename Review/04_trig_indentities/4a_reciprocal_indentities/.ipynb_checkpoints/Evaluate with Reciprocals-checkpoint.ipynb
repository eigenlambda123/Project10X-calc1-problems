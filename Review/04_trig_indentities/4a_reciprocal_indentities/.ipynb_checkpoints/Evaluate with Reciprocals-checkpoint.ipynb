{
 "cells": [
  {
   "cell_type": "markdown",
   "id": "0970b82a-d015-4a1f-a5f3-15ad2a181a92",
   "metadata": {},
   "source": [
    "# **Part A: Evaluate with Reciprocals**\n",
    "---"
   ]
  },
  {
   "cell_type": "markdown",
   "id": "37cdc8e9-a03f-4c37-aec3-5c4aae974960",
   "metadata": {},
   "source": [
    "### Problems\n",
    "\n",
    "**1.** If $\\sin(\\theta) = \\dfrac{2}{3}$, find $\\csc(\\theta)$\n",
    "\n",
    "**2.** If $\\sec(\\theta) = 5$, find $\\cos(\\theta)$\n",
    "\n",
    "**3.** If $\\cot(\\theta) = 0.4$, find $\\tan(\\theta)$"
   ]
  },
  {
   "cell_type": "markdown",
   "id": "bf422793-fae7-4cca-89f4-59da010aa4a1",
   "metadata": {},
   "source": [
    "---\n",
    "### Solutions\n",
    "\n",
    "\n",
    "**1.** If $\\sin(\\theta) = \\dfrac{2}{3}$, find $\\csc(\\theta)$\n",
    "\n",
    "Using the identity:  \n",
    "$$\n",
    "\\csc(\\theta) = \\dfrac{1}{\\sin(\\theta)} = \\dfrac{1}{\\frac{2}{3}} = \\dfrac{3}{2}\n",
    "$$\n",
    "\n",
    "**Answer:** $\\csc(\\theta) = \\dfrac{3}{2}$\n",
    "\n",
    "\n",
    "**2.** If $\\sec(\\theta) = 5$, find $\\cos(\\theta)$\n",
    "\n",
    "Using the identity:  \n",
    "$$\n",
    "\\cos(\\theta) = \\dfrac{1}{\\sec(\\theta)} = \\dfrac{1}{5}\n",
    "$$\n",
    "\n",
    "**Answer:** $\\cos(\\theta) = \\dfrac{1}{5}$\n",
    "\n",
    "\n",
    "**3.** If $\\cot(\\theta) = 0.4$ , find $\\tan(\\theta)$\n",
    "\n",
    "Using the identity:  \n",
    "$$\n",
    "\\tan(\\theta) = \\dfrac{1}{\\cot(\\theta)} = \\dfrac{1}{0.4} = 2.5\n",
    "$$\n",
    "\n",
    "**Answer:** $\\tan(\\theta) = 2.5$\n"
   ]
  }
 ],
 "metadata": {
  "kernelspec": {
   "display_name": "Python 3 (ipykernel)",
   "language": "python",
   "name": "python3"
  },
  "language_info": {
   "codemirror_mode": {
    "name": "ipython",
    "version": 3
   },
   "file_extension": ".py",
   "mimetype": "text/x-python",
   "name": "python",
   "nbconvert_exporter": "python",
   "pygments_lexer": "ipython3",
   "version": "3.12.6"
  }
 },
 "nbformat": 4,
 "nbformat_minor": 5
}
