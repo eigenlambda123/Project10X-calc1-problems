{
 "cells": [
  {
   "cell_type": "markdown",
   "id": "c0e0e4d0-3429-4b7d-8f16-3bf9d6da2a6a",
   "metadata": {},
   "source": [
    "# **Part B: Fill in the Blanks**\n",
    "---"
   ]
  },
  {
   "cell_type": "markdown",
   "id": "4e2fe697-1566-4d69-8a66-27cfc68fa088",
   "metadata": {},
   "source": [
    "**4.** $ \\cos(\\theta) = \\dfrac{1}{\\_\\_\\_} $\n",
    "\n",
    "**Solution:**  \n",
    "By reciprocal identity,  \n",
    "$$\n",
    "\\cos(\\theta) = \\dfrac{1}{\\sec(\\theta)}\n",
    "$$  \n",
    "**Answer:** $ \\boxed{\\sec(\\theta)} $\n",
    "\n",
    "---\n",
    "\n",
    "**5.** $ \\tan(\\theta) = \\dfrac{1}{\\_\\_\\_} $\n",
    "\n",
    "**Solution:**  \n",
    "By reciprocal identity,  \n",
    "$$\n",
    "\\tan(\\theta) = \\dfrac{1}{\\cot(\\theta)}\n",
    "$$  \n",
    "**Answer:** $ \\boxed{\\cot(\\theta)} $\n",
    "\n",
    "---\n",
    "\n",
    "**6.** $ \\csc(\\theta) = \\dfrac{1}{\\_\\_\\_} $\n",
    "\n",
    "**Solution:**  \n",
    "By reciprocal identity,  \n",
    "$$\n",
    "\\csc(\\theta) = \\dfrac{1}{\\sin(\\theta)}\n",
    "$$  \n",
    "**Answer:** $ \\boxed{\\sin(\\theta)} $\n"
   ]
  }
 ],
 "metadata": {
  "kernelspec": {
   "display_name": "Python 3 (ipykernel)",
   "language": "python",
   "name": "python3"
  },
  "language_info": {
   "codemirror_mode": {
    "name": "ipython",
    "version": 3
   },
   "file_extension": ".py",
   "mimetype": "text/x-python",
   "name": "python",
   "nbconvert_exporter": "python",
   "pygments_lexer": "ipython3",
   "version": "3.12.6"
  }
 },
 "nbformat": 4,
 "nbformat_minor": 5
}
