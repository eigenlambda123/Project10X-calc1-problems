{
 "cells": [
  {
   "cell_type": "markdown",
   "id": "3e98e043-bf7f-4d65-8d1e-229ada3bfa14",
   "metadata": {},
   "source": [
    "# **Part D: Simplify Using Reciprocal Identities**\n",
    "---"
   ]
  },
  {
   "cell_type": "markdown",
   "id": "66abb092-d36c-4c60-a433-3eee155f687a",
   "metadata": {},
   "source": [
    "### Problems\n",
    "\n",
    "**10.** Simplify:  \n",
    "$\\dfrac{1}{\\csc(\\theta)}$\n",
    "\n",
    "**11.** Simplify:  \n",
    "$\\dfrac{\\sec(\\theta)}{\\csc(\\theta)}$\n",
    "\n",
    "**12.** Simplify:  \n",
    "$\\cot(\\theta) \\cdot \\sin(\\theta)$"
   ]
  },
  {
   "cell_type": "markdown",
   "id": "a3037679-1e82-4691-aa0c-fd7b3bd437a5",
   "metadata": {},
   "source": [
    "---\n",
    "### Solutions\n",
    "\n",
    "**10.** Simplify:  \n",
    "$$ \\dfrac{1}{\\csc(\\theta)} $$\n",
    "\n",
    "**Solution:**  \n",
    "By reciprocal identity:  \n",
    "$$\n",
    "\\dfrac{1}{\\csc(\\theta)} = \\sin(\\theta)\n",
    "$$\n",
    "\n",
    "**Answer:** $\\boxed{\\sin(\\theta)}$\n",
    "\n",
    "\n",
    "**11.** Simplify:  \n",
    "$$ \\dfrac{\\sec(\\theta)}{\\csc(\\theta)} $$\n",
    "\n",
    "**Solution:**  \n",
    "Use reciprocal identities:  \n",
    "- $\\sec(\\theta) = \\dfrac{1}{\\cos(\\theta)}$\n",
    "- $\\csc(\\theta) = \\dfrac{1}{\\sin(\\theta)}$\n",
    "\n",
    "Then:\n",
    "$$\n",
    "\\dfrac{\\frac{1}{\\cos(\\theta)}}{\\frac{1}{\\sin(\\theta)}} = \\dfrac{\\sin(\\theta)}{\\cos(\\theta)} = \\tan(\\theta)\n",
    "$$\n",
    "\n",
    "**Answer:** $\\boxed{\\tan(\\theta)}$\n",
    "\n",
    "\n",
    "**12.** Simplify:  \n",
    "$$ \\cot(\\theta) \\cdot \\sin(\\theta) $$\n",
    "\n",
    "**Solution:**  \n",
    "Use:  \n",
    "- $\\cot(\\theta) = \\dfrac{\\cos(\\theta)}{\\sin(\\theta)}$\n",
    "\n",
    "Then:\n",
    "$$\n",
    "\\cot(\\theta) \\cdot \\sin(\\theta) = \\dfrac{\\cos(\\theta)}{\\sin(\\theta)} \\cdot \\sin(\\theta) = \\cos(\\theta)\n",
    "$$\n",
    "\n",
    "**Answer:** $\\boxed{\\cos(\\theta)}$\n"
   ]
  }
 ],
 "metadata": {
  "kernelspec": {
   "display_name": "Python 3 (ipykernel)",
   "language": "python",
   "name": "python3"
  },
  "language_info": {
   "codemirror_mode": {
    "name": "ipython",
    "version": 3
   },
   "file_extension": ".py",
   "mimetype": "text/x-python",
   "name": "python",
   "nbconvert_exporter": "python",
   "pygments_lexer": "ipython3",
   "version": "3.12.6"
  }
 },
 "nbformat": 4,
 "nbformat_minor": 5
}
