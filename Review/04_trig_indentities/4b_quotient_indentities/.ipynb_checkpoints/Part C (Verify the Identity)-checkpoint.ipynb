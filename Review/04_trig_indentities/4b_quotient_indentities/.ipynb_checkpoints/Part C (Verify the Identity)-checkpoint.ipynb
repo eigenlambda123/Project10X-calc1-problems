{
 "cells": [
  {
   "cell_type": "markdown",
   "id": "c57c0208-cce6-4089-9a91-252902664b65",
   "metadata": {},
   "source": [
    "# **Problems**\n",
    "\n",
    "Prove the following using quotient identities.\n",
    "\n",
    "**8.**  $\\tan(\\theta) \\cdot \\cot(\\theta) = 1$\n",
    "\n",
    "**9.**  $\\dfrac{\\sin^2(\\theta)}{\\cos(\\theta)} + \\cos(\\theta) = \\tan(\\theta)\\sin(\\theta) + \\cos(\\theta)$"
   ]
  },
  {
   "cell_type": "markdown",
   "id": "5ecfad1f-0e80-4e22-997e-1acd5d441674",
   "metadata": {},
   "source": [
    "---\n",
    "\n",
    "# **Solutions**\n",
    "\n",
    "**8.** Verify:  \n",
    "$$\n",
    "\\tan(\\theta) \\cdot \\cot(\\theta) = 1\n",
    "$$\n",
    "\n",
    "**Left-hand side (LHS):**  \n",
    "$$\n",
    "\\tan(\\theta) = \\dfrac{\\sin(\\theta)}{\\cos(\\theta)}, \\quad \\cot(\\theta) = \\dfrac{\\cos(\\theta)}{\\sin(\\theta)}\n",
    "$$  \n",
    "$$\n",
    "\\tan(\\theta) \\cdot \\cot(\\theta) = \\dfrac{\\sin(\\theta)}{\\cos(\\theta)} \\cdot \\dfrac{\\cos(\\theta)}{\\sin(\\theta)} = 1\n",
    "$$\n",
    "\n",
    "**Right-hand side (RHS):**  \n",
    "$$\n",
    "1\n",
    "$$\n",
    "\n",
    "**Conclusion:** LHS = RHS ✅  \n",
    "**Answer:** Identity is verified.\n",
    "\n",
    "\n",
    "**9.** Verify:  \n",
    "$$\n",
    "\\dfrac{\\sin^2(\\theta)}{\\cos(\\theta)} + \\cos(\\theta) = \\tan(\\theta)\\sin(\\theta) + \\cos(\\theta)\n",
    "$$\n",
    "\n",
    "**Left-hand side (LHS):**  \n",
    "$$\n",
    "\\dfrac{\\sin^2(\\theta)}{\\cos(\\theta)} + \\cos(\\theta)\n",
    "$$\n",
    "\n",
    "**Right-hand side (RHS):**  \n",
    "$$\n",
    "\\tan(\\theta) \\cdot \\sin(\\theta) + \\cos(\\theta)\n",
    "= \\left( \\dfrac{\\sin(\\theta)}{\\cos(\\theta)} \\right) \\cdot \\sin(\\theta) + \\cos(\\theta)\n",
    "= \\dfrac{\\sin^2(\\theta)}{\\cos(\\theta)} + \\cos(\\theta)\n",
    "$$\n",
    "\n",
    "**Conclusion:** LHS = RHS ✅  \n",
    "**Answer:** Identity is verified.\n"
   ]
  }
 ],
 "metadata": {
  "kernelspec": {
   "display_name": "Python 3 (ipykernel)",
   "language": "python",
   "name": "python3"
  },
  "language_info": {
   "codemirror_mode": {
    "name": "ipython",
    "version": 3
   },
   "file_extension": ".py",
   "mimetype": "text/x-python",
   "name": "python",
   "nbconvert_exporter": "python",
   "pygments_lexer": "ipython3",
   "version": "3.12.6"
  }
 },
 "nbformat": 4,
 "nbformat_minor": 5
}
