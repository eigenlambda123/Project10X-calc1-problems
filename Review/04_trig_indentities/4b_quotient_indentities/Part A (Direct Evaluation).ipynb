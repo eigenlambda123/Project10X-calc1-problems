{
 "cells": [
  {
   "cell_type": "markdown",
   "id": "a6d92ad7-adad-4b5b-85b9-46a08e4585ce",
   "metadata": {},
   "source": [
    "# **Problems**\n",
    "\n",
    "**1.** If $\\sin(\\theta) = \\dfrac{4}{5}$ and $\\cos(\\theta) = \\dfrac{3}{5}$, find $\\tan(\\theta)$\n",
    "\n",
    "**2.** If $\\cos(\\theta) = \\dfrac{5}{13}$ and $\\sin(\\theta) = \\dfrac{12}{13}$, find $\\cot(\\theta)$\n",
    "\n",
    "**3.** If $\\theta$ is in Quadrant II and $\\tan(\\theta) = \\dfrac{\\sin(\\theta)}{\\cos(\\theta)}$, determine the sign (+/−) of each function."
   ]
  },
  {
   "cell_type": "markdown",
   "id": "90648785-ef53-4fba-8b9d-903096261d0b",
   "metadata": {},
   "source": [
    "---\n",
    "\n",
    "# **Solutions**\n",
    "\n",
    "**1.** Using the identity:\n",
    "$$\n",
    "\\tan(\\theta) = \\dfrac{\\sin(\\theta)}{\\cos(\\theta)} = \\dfrac{\\frac{4}{5}}{\\frac{3}{5}} = \\dfrac{4}{3}\n",
    "$$\n",
    "\n",
    "**Answer:** $\\tan(\\theta) = \\dfrac{4}{3}$\n",
    "\n",
    "\n",
    "**2.** Using the identity:\n",
    "$$\n",
    "\\cot(\\theta) = \\dfrac{\\cos(\\theta)}{\\sin(\\theta)} = \\dfrac{\\frac{5}{13}}{\\frac{12}{13}} = \\dfrac{5}{12}\n",
    "$$\n",
    "\n",
    "**Answer:** $\\cot(\\theta) = \\dfrac{5}{12}$\n",
    "\n",
    "\n",
    "**3.** In Quadrant II:\n",
    "- $\\sin(\\theta) > 0$  (sine is positive)\n",
    "- $\\cos(\\theta) < 0$  (cosine is negative)\n",
    "- So:\n",
    "$$\n",
    "\\tan(\\theta) = \\dfrac{\\sin(\\theta)}{\\cos(\\theta)} < 0\n",
    "$$\n",
    "\n",
    "**Answer:**  \n",
    "- $\\sin(\\theta) > 0$  \n",
    "- $\\cos(\\theta) < 0$  \n",
    "- $\\tan(\\theta) < 0$\n"
   ]
  }
 ],
 "metadata": {
  "kernelspec": {
   "display_name": "Python 3 (ipykernel)",
   "language": "python",
   "name": "python3"
  },
  "language_info": {
   "codemirror_mode": {
    "name": "ipython",
    "version": 3
   },
   "file_extension": ".py",
   "mimetype": "text/x-python",
   "name": "python",
   "nbconvert_exporter": "python",
   "pygments_lexer": "ipython3",
   "version": "3.12.6"
  }
 },
 "nbformat": 4,
 "nbformat_minor": 5
}
