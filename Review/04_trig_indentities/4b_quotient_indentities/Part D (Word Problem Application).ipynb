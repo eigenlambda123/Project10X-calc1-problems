{
 "cells": [
  {
   "cell_type": "markdown",
   "id": "95ca5422-020c-4aa9-97c2-b3cb02e9bd83",
   "metadata": {},
   "source": [
    "# **Problems**\n",
    "\n",
    "**10.** A ramp makes an angle $\\theta$ with the ground. If $\\sin(\\theta) = 0.6$ and $\\cos(\\theta) = 0.8$, find the slope of the ramp using the identity  \n",
    "$\\tan(\\theta) = \\dfrac{\\text{rise}}{\\text{run}} = \\dfrac{\\sin(\\theta)}{\\cos(\\theta)}$"
   ]
  },
  {
   "cell_type": "markdown",
   "id": "78638df3-e238-4510-ab3f-e9af951ab93c",
   "metadata": {},
   "source": [
    "---\n",
    "\n",
    "# **Solutions**\n",
    "\n",
    "\n",
    "**10.** A ramp makes an angle $\\theta$ with the ground.  \n",
    "If $\\sin(\\theta) = 0.6$ and $\\cos(\\theta) = 0.8$, find the slope of the ramp using:  \n",
    "$$\n",
    "\\tan(\\theta) = \\dfrac{\\text{rise}}{\\text{run}} = \\dfrac{\\sin(\\theta)}{\\cos(\\theta)}\n",
    "$$\n",
    "\n",
    "**Solution:**\n",
    "\n",
    "Using the quotient identity:\n",
    "$$\n",
    "\\tan(\\theta) = \\dfrac{\\sin(\\theta)}{\\cos(\\theta)} = \\dfrac{0.6}{0.8} = 0.75\n",
    "$$\n",
    "\n",
    "**Interpretation:**  \n",
    "The **slope of the ramp** (rise/run) is **0.75**, meaning the ramp rises $0.75$ units for every $1$ unit of horizontal distance.\n",
    "\n",
    "**Answer:** $\\boxed{0.75}$\n"
   ]
  }
 ],
 "metadata": {
  "kernelspec": {
   "display_name": "Python 3 (ipykernel)",
   "language": "python",
   "name": "python3"
  },
  "language_info": {
   "codemirror_mode": {
    "name": "ipython",
    "version": 3
   },
   "file_extension": ".py",
   "mimetype": "text/x-python",
   "name": "python",
   "nbconvert_exporter": "python",
   "pygments_lexer": "ipython3",
   "version": "3.12.6"
  }
 },
 "nbformat": 4,
 "nbformat_minor": 5
}
