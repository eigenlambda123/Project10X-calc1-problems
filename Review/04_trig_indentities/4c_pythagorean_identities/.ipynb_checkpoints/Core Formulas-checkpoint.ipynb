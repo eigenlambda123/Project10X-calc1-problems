{
 "cells": [
  {
   "cell_type": "markdown",
   "id": "a51fbee8-44af-4307-87af-db9311b4afad",
   "metadata": {},
   "source": [
    "## Core Formulas — Pythagorean Identities\n",
    "\n",
    "The **Pythagorean identities** are fundamental relationships between the trigonometric functions, derived from the Pythagorean Theorem applied to the unit circle.\n",
    "\n",
    "### Primary Identity\n",
    "$$\n",
    "\\sin^2(\\theta) + \\cos^2(\\theta) = 1\n",
    "$$\n",
    "\n",
    "\n",
    "### Derived Identities (by dividing both sides)\n",
    "\n",
    "**Divide by** $ \\cos^2(\\theta) $:\n",
    "$$\n",
    "\\tan^2(\\theta) + 1 = \\sec^2(\\theta)\n",
    "$$\n",
    "\n",
    "**Divide by** $ \\sin^2(\\theta) $:\n",
    "$$\n",
    "1 + \\cot^2(\\theta) = \\csc^2(\\theta)\n",
    "$$\n",
    "\n",
    "\n",
    "### Tip:\n",
    "\n",
    "- These identities are often used to **simplify expressions**, **solve equations**, or **substitute** in calculus problems.\n",
    "- All other trig identities can often trace back or relate to one of these.\n",
    "\n"
   ]
  }
 ],
 "metadata": {
  "kernelspec": {
   "display_name": "Python 3 (ipykernel)",
   "language": "python",
   "name": "python3"
  },
  "language_info": {
   "codemirror_mode": {
    "name": "ipython",
    "version": 3
   },
   "file_extension": ".py",
   "mimetype": "text/x-python",
   "name": "python",
   "nbconvert_exporter": "python",
   "pygments_lexer": "ipython3",
   "version": "3.12.6"
  }
 },
 "nbformat": 4,
 "nbformat_minor": 5
}
