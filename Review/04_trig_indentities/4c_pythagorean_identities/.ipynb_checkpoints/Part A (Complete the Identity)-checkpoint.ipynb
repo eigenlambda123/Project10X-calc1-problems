{
 "cells": [
  {
   "cell_type": "markdown",
   "id": "517a5ab8-2bd8-4eb0-a821-fd4b075199f6",
   "metadata": {},
   "source": [
    "# **Problems**\n",
    "\n",
    "**1.** Fill in the blank:  \n",
    "$\\sin^2(\\theta) + \\cos^2(\\theta) = \\_\\_\\_\\_$\n",
    "\n",
    "**2.** Fill in the blank:  \n",
    "$1 + \\tan^2(\\theta) = \\_\\_\\_\\_$\n",
    "\n",
    "**3.** Fill in the blank:  \n",
    "$\\csc^2(\\theta) - \\cot^2(\\theta) = \\_\\_\\_\\_$"
   ]
  },
  {
   "cell_type": "markdown",
   "id": "d948d175-b90c-40b7-8630-fdf41d434ccc",
   "metadata": {},
   "source": [
    "---\n",
    "# **Solutions**\n",
    "\n",
    "\n",
    "**1.** Fill in the blank:  \n",
    "$\\sin^2(\\theta) + \\cos^2(\\theta) = \\_\\_\\_\\_$\n",
    "\n",
    "**Answer:**  \n",
    "$$\n",
    "\\sin^2(\\theta) + \\cos^2(\\theta) = 1\n",
    "$$\n",
    "\n",
    "\n",
    "**2.** Fill in the blank:  \n",
    "$1 + \\tan^2(\\theta) = \\_\\_\\_\\_$\n",
    "\n",
    "**Answer:**  \n",
    "$$\n",
    "1 + \\tan^2(\\theta) = \\sec^2(\\theta)\n",
    "$$\n",
    "\n",
    "\n",
    "**3.** Fill in the blank:  \n",
    "$\\csc^2(\\theta) - \\cot^2(\\theta) = \\_\\_\\_\\_$\n",
    "\n",
    "**Answer:**  \n",
    "$$\n",
    "\\csc^2(\\theta) - \\cot^2(\\theta) = 1\n",
    "$$\n"
   ]
  }
 ],
 "metadata": {
  "kernelspec": {
   "display_name": "Python 3 (ipykernel)",
   "language": "python",
   "name": "python3"
  },
  "language_info": {
   "codemirror_mode": {
    "name": "ipython",
    "version": 3
   },
   "file_extension": ".py",
   "mimetype": "text/x-python",
   "name": "python",
   "nbconvert_exporter": "python",
   "pygments_lexer": "ipython3",
   "version": "3.12.6"
  }
 },
 "nbformat": 4,
 "nbformat_minor": 5
}
