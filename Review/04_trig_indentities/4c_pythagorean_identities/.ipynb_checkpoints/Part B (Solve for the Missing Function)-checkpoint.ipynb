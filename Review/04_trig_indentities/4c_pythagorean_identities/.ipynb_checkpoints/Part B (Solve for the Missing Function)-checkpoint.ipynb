{
 "cells": [
  {
   "cell_type": "markdown",
   "id": "95f269ae-e30a-48ee-8e23-4abe32b68448",
   "metadata": {},
   "source": [
    "# **Problems**\n",
    "\n",
    "**4.** If $\\sin(\\theta) = \\dfrac{5}{13}$, find $\\cos(\\theta)$ using identity.\n",
    "\n",
    "**5.** If $\\tan(\\theta) = 3$, find $\\sec(\\theta)$\n",
    "\n",
    "**6.** If $\\csc(\\theta) = \\dfrac{5}{3}$, find $\\cot(\\theta)$\n"
   ]
  },
  {
   "cell_type": "markdown",
   "id": "33780182-cac1-4cfd-9bbe-0a8596f63125",
   "metadata": {},
   "source": [
    "---\n",
    "\n",
    "# **Solutions**\n",
    "\n",
    "\n",
    "**4.** Use the identity:**\n",
    "$$\n",
    "\\sin^2(\\theta) + \\cos^2(\\theta) = 1\n",
    "$$\n",
    "\n",
    "Substitute:\n",
    "$$\n",
    "\\left(\\dfrac{5}{13}\\right)^2 + \\cos^2(\\theta) = 1 \\quad \\Rightarrow \\quad \\dfrac{25}{169} + \\cos^2(\\theta) = 1\n",
    "$$\n",
    "$$\n",
    "\\cos^2(\\theta) = 1 - \\dfrac{25}{169} = \\dfrac{144}{169}\n",
    "$$\n",
    "$$\n",
    "\\cos(\\theta) = \\pm \\dfrac{12}{13}\n",
    "$$\n",
    "\n",
    "**Answer:**  \n",
    "$\\cos(\\theta) = \\pm \\dfrac{12}{13}$ (depends on the quadrant)\n",
    "\n",
    "\n",
    "**5.** **Use the identity:**\n",
    "$$\n",
    "1 + \\tan^2(\\theta) = \\sec^2(\\theta)\n",
    "$$\n",
    "\n",
    "Substitute:\n",
    "$$\n",
    "1 + 9 = \\sec^2(\\theta) \\Rightarrow \\sec^2(\\theta) = 10\n",
    "$$\n",
    "$$\n",
    "\\sec(\\theta) = \\pm \\sqrt{10}\n",
    "$$\n",
    "\n",
    "**Answer:**  \n",
    "$\\sec(\\theta) = \\pm \\sqrt{10}$\n",
    "\n",
    "\n",
    "**6.** **Use the identity:**\n",
    "$$\n",
    "1 + \\cot^2(\\theta) = \\csc^2(\\theta)\n",
    "$$\n",
    "\n",
    "Substitute:\n",
    "$$\n",
    "1 + \\cot^2(\\theta) = \\left(\\dfrac{5}{3}\\right)^2 = \\dfrac{25}{9}\n",
    "$$\n",
    "$$\n",
    "\\cot^2(\\theta) = \\dfrac{25}{9} - 1 = \\dfrac{16}{9}\n",
    "$$\n",
    "$$\n",
    "\\cot(\\theta) = \\pm \\dfrac{4}{3}\n",
    "$$\n",
    "\n",
    "**Answer:**  \n",
    "$\\cot(\\theta) = \\pm \\dfrac{4}{3}$\n"
   ]
  }
 ],
 "metadata": {
  "kernelspec": {
   "display_name": "Python 3 (ipykernel)",
   "language": "python",
   "name": "python3"
  },
  "language_info": {
   "codemirror_mode": {
    "name": "ipython",
    "version": 3
   },
   "file_extension": ".py",
   "mimetype": "text/x-python",
   "name": "python",
   "nbconvert_exporter": "python",
   "pygments_lexer": "ipython3",
   "version": "3.12.6"
  }
 },
 "nbformat": 4,
 "nbformat_minor": 5
}
