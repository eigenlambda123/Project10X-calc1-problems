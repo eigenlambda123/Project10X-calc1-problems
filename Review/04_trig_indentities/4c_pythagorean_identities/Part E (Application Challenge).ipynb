{
 "cells": [
  {
   "cell_type": "markdown",
   "id": "850d226f-78ff-4266-9926-de233b6fbd42",
   "metadata": {},
   "source": [
    "# **Problems**\n",
    "\n",
    "**12.** A triangle has $\\sin(\\theta) = \\dfrac{4}{5}$. Find $\\cos(\\theta)$ and $\\tan(\\theta)$ using the identity and triangle ratios.\n",
    "\n",
    "**13.** If $\\theta$ is in Quadrant IV and $\\cos(\\theta) = \\dfrac{3}{5}$, find $\\sin(\\theta)$ and $\\tan(\\theta)$"
   ]
  },
  {
   "cell_type": "markdown",
   "id": "1768b946-7981-4564-b764-e0686b8c9462",
   "metadata": {},
   "source": [
    "---\n",
    "\n",
    "# **Solutions**\n",
    "\n",
    "\n",
    "**12.** **Step 1: Use identity to find $\\cos(\\theta)$**\n",
    "$$\n",
    "\\sin^2(\\theta) + \\cos^2(\\theta) = 1\n",
    "$$\n",
    "$$\n",
    "\\left( \\dfrac{4}{5} \\right)^2 + \\cos^2(\\theta) = 1 \\quad \\Rightarrow \\quad \\dfrac{16}{25} + \\cos^2(\\theta) = 1\n",
    "$$\n",
    "$$\n",
    "\\cos^2(\\theta) = \\dfrac{9}{25} \\Rightarrow \\cos(\\theta) = \\pm \\dfrac{3}{5}\n",
    "$$\n",
    "\n",
    "\n",
    "**Step 2: Find $\\tan(\\theta)$**\n",
    "$$\n",
    "\\tan(\\theta) = \\dfrac{\\sin(\\theta)}{\\cos(\\theta)} = \\dfrac{4/5}{3/5} = \\dfrac{4}{3}\n",
    "$$\n",
    "\n",
    "**Answer:**  \n",
    "- $\\cos(\\theta) = \\pm \\dfrac{3}{5}$  \n",
    "- $\\tan(\\theta) = \\pm \\dfrac{4}{3}$ (sign depends on quadrant)\n",
    "\n",
    "\n",
    "**13.** **Step 1: Use identity to find $\\sin(\\theta)$**\n",
    "$$\n",
    "\\cos^2(\\theta) + \\sin^2(\\theta) = 1\n",
    "$$\n",
    "$$\n",
    "\\left( \\dfrac{3}{5} \\right)^2 + \\sin^2(\\theta) = 1 \\quad \\Rightarrow \\quad \\dfrac{9}{25} + \\sin^2(\\theta) = 1\n",
    "$$\n",
    "$$\n",
    "\\sin^2(\\theta) = \\dfrac{16}{25} \\Rightarrow \\sin(\\theta) = \\pm \\dfrac{4}{5}\n",
    "$$\n",
    "\n",
    "Since $\\theta$ is in Quadrant IV, $\\sin(\\theta) < 0$\n",
    "\n",
    "$$\n",
    "\\sin(\\theta) = -\\dfrac{4}{5}\n",
    "$$\n",
    "\n",
    "**Step 2: Find $\\tan(\\theta)$**\n",
    "$$\n",
    "\\tan(\\theta) = \\dfrac{\\sin(\\theta)}{\\cos(\\theta)} = \\dfrac{-4/5}{3/5} = -\\dfrac{4}{3}\n",
    "$$\n",
    "\n",
    "**Answer:**  \n",
    "- $\\sin(\\theta) = -\\dfrac{4}{5}$  \n",
    "- $\\tan(\\theta) = -\\dfrac{4}{3}$\n"
   ]
  }
 ],
 "metadata": {
  "kernelspec": {
   "display_name": "Python 3 (ipykernel)",
   "language": "python",
   "name": "python3"
  },
  "language_info": {
   "codemirror_mode": {
    "name": "ipython",
    "version": 3
   },
   "file_extension": ".py",
   "mimetype": "text/x-python",
   "name": "python",
   "nbconvert_exporter": "python",
   "pygments_lexer": "ipython3",
   "version": "3.12.6"
  }
 },
 "nbformat": 4,
 "nbformat_minor": 5
}
