{
 "cells": [
  {
   "cell_type": "markdown",
   "id": "0686e62a-128d-4f52-a43c-0b2a54f6a2a5",
   "metadata": {},
   "source": [
    "# **Even-Odd Identities**\n",
    "\n",
    "**Odd functions** (symmetric about the origin):\n",
    "- $\\sin(-\\theta) = -\\sin(\\theta)$\n",
    "- $\\tan(-\\theta) = -\\tan(\\theta)$\n",
    "- $\\csc(-\\theta) = -\\csc(\\theta)$\n",
    "- $\\cot(-\\theta) = -\\cot(\\theta)$\n",
    "\n",
    "**Even functions** (symmetric about the y-axis):\n",
    "- $\\cos(-\\theta) = \\cos(\\theta)$\n",
    "- $\\sec(-\\theta) = \\sec(\\theta)$"
   ]
  }
 ],
 "metadata": {
  "kernelspec": {
   "display_name": "Python 3 (ipykernel)",
   "language": "python",
   "name": "python3"
  },
  "language_info": {
   "codemirror_mode": {
    "name": "ipython",
    "version": 3
   },
   "file_extension": ".py",
   "mimetype": "text/x-python",
   "name": "python",
   "nbconvert_exporter": "python",
   "pygments_lexer": "ipython3",
   "version": "3.12.6"
  }
 },
 "nbformat": 4,
 "nbformat_minor": 5
}
