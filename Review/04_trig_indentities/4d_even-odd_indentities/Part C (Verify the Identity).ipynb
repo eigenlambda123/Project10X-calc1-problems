{
 "cells": [
  {
   "cell_type": "markdown",
   "id": "8a94a08e-9cd5-43ed-8c5e-dbecf156452a",
   "metadata": {},
   "source": [
    "# **Problems**\n",
    "\n",
    "**9.** Verify:  \n",
    "$\\sin(-x) + \\sin(x) = 0$\n",
    "\n",
    "**10.** Verify:  \n",
    "$\\tan(-x)\\cdot\\tan(x) = -\\tan^2(x)$\n",
    "\n",
    "**11.** Verify:  \n",
    "$\\cos(-x)\\cos(x) = \\cos^2(x)$"
   ]
  },
  {
   "cell_type": "markdown",
   "id": "d8d5fe5b-9c6c-4703-bac0-06a8abee5617",
   "metadata": {},
   "source": [
    "---\n",
    "# **Solutions**\n",
    "\n",
    "\n",
    "**9.** **Use identity:**  \n",
    "$$\n",
    "\\sin(-x) = -\\sin(x)\n",
    "$$\n",
    "Then:\n",
    "$$\n",
    "-\\sin(x) + \\sin(x) = 0\n",
    "$$\n",
    "\n",
    "**Answer:**  \n",
    "$\\boxed{\\text{Identity Verified}}$\n",
    "\n",
    "\n",
    "**10.** **Use identity:**  \n",
    "$$\n",
    "\\tan(-x) = -\\tan(x)\n",
    "$$  \n",
    "Then:\n",
    "$$\n",
    "(-\\tan(x)) \\cdot \\tan(x) = -\\tan^2(x)\n",
    "$$\n",
    "\n",
    "**Answer:**  \n",
    "$\\boxed{\\text{Identity Verified}}$\n",
    "\n",
    "\n",
    "**11.** **Use identity:**  \n",
    "$$\n",
    "\\cos(-x) = \\cos(x)\n",
    "$$  \n",
    "Then:\n",
    "$$\n",
    "\\cos(x) \\cdot \\cos(x) = \\cos^2(x)\n",
    "$$\n",
    "\n",
    "**Answer:**  \n",
    "$\\boxed{\\text{Identity Verified}}$\n"
   ]
  }
 ],
 "metadata": {
  "kernelspec": {
   "display_name": "Python 3 (ipykernel)",
   "language": "python",
   "name": "python3"
  },
  "language_info": {
   "codemirror_mode": {
    "name": "ipython",
    "version": 3
   },
   "file_extension": ".py",
   "mimetype": "text/x-python",
   "name": "python",
   "nbconvert_exporter": "python",
   "pygments_lexer": "ipython3",
   "version": "3.12.6"
  }
 },
 "nbformat": 4,
 "nbformat_minor": 5
}
