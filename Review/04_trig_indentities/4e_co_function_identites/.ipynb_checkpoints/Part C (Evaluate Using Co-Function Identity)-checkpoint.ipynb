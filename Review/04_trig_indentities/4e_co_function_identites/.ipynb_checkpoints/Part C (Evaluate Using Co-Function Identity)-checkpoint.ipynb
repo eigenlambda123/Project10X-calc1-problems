{
 "cells": [
  {
   "cell_type": "markdown",
   "id": "65196775-82ea-4f64-a91d-3639366f5aa7",
   "metadata": {},
   "source": [
    "### **Problems**\n",
    "\n",
    "**9.** Evaluate: $\\sin\\left(\\dfrac{\\pi}{2} - \\dfrac{\\pi}{6}\\right)$\n",
    "\n",
    "**10.** Evaluate: $\\tan\\left(\\dfrac{\\pi}{2} - \\dfrac{\\pi}{4}\\right)$\n",
    "\n",
    "**11.** Evaluate: $\\csc\\left(\\dfrac{\\pi}{2} - \\dfrac{\\pi}{3}\\right)$\n"
   ]
  },
  {
   "cell_type": "markdown",
   "id": "bf841832-8317-4113-b465-9623ad7a1514",
   "metadata": {},
   "source": [
    "---\n",
    "\n",
    "### **Solutions**\n",
    "\n",
    "\n",
    "**9.** Simplify the inside:\n",
    "$$\n",
    "\\dfrac{\\pi}{2} - \\dfrac{\\pi}{6} = \\dfrac{3\\pi - \\pi}{6} = \\dfrac{2\\pi}{6} = \\dfrac{\\pi}{3}\n",
    "$$\n",
    "\n",
    "Then:\n",
    "$$\n",
    "\\sin\\left(\\dfrac{\\pi}{2} - \\dfrac{\\pi}{6}\\right) = \\cos\\left(\\dfrac{\\pi}{6}\\right) = \\dfrac{\\sqrt{3}}{2}\n",
    "$$\n",
    "\n",
    "**Answer:**  \n",
    "$\\boxed{\\dfrac{\\sqrt{3}}{2}}$\n",
    "\n",
    "\n",
    "**10.** Simplify:\n",
    "$$\n",
    "\\dfrac{\\pi}{2} - \\dfrac{\\pi}{4} = \\dfrac{\\pi}{4}\n",
    "$$\n",
    "\n",
    "Then:\n",
    "$$\n",
    "\\tan\\left(\\dfrac{\\pi}{2} - \\dfrac{\\pi}{4}\\right) = \\cot\\left(\\dfrac{\\pi}{4}\\right) = 1\n",
    "$$\n",
    "\n",
    "**Answer:**  \n",
    "$\\boxed{1}$\n",
    "\n",
    "\n",
    "**11.** Simplify:\n",
    "$$\n",
    "\\dfrac{\\pi}{2} - \\dfrac{\\pi}{3} = \\dfrac{3\\pi - 2\\pi}{6} = \\dfrac{\\pi}{6}\n",
    "$$\n",
    "\n",
    "Then:\n",
    "$$\n",
    "\\csc\\left(\\dfrac{\\pi}{2} - \\dfrac{\\pi}{3}\\right) = \\sec\\left(\\dfrac{\\pi}{3}\\right) = 2\n",
    "$$\n",
    "\n",
    "**Answer:**  \n",
    "$\\boxed{2}$\n"
   ]
  }
 ],
 "metadata": {
  "kernelspec": {
   "display_name": "Python 3 (ipykernel)",
   "language": "python",
   "name": "python3"
  },
  "language_info": {
   "codemirror_mode": {
    "name": "ipython",
    "version": 3
   },
   "file_extension": ".py",
   "mimetype": "text/x-python",
   "name": "python",
   "nbconvert_exporter": "python",
   "pygments_lexer": "ipython3",
   "version": "3.12.6"
  }
 },
 "nbformat": 4,
 "nbformat_minor": 5
}
