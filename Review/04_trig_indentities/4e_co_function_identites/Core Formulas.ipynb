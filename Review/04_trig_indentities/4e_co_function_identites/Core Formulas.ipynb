{
 "cells": [
  {
   "cell_type": "markdown",
   "id": "7cd4becf-b1a9-4b64-b945-c8b3b500cb02",
   "metadata": {},
   "source": [
    "# Co-Function Identities\n",
    "\n",
    "These are based on the rule:\n",
    "$$\n",
    "f\\left(\\dfrac{\\pi}{2} - \\theta\\right) = \\text{co-function of } f(\\theta)\n",
    "$$\n",
    "\n",
    "- $\\sin\\left(\\dfrac{\\pi}{2} - \\theta\\right) = \\cos(\\theta)$  \n",
    "- $\\cos\\left(\\dfrac{\\pi}{2} - \\theta\\right) = \\sin(\\theta)$  \n",
    "- $\\tan\\left(\\dfrac{\\pi}{2} - \\theta\\right) = \\cot(\\theta)$  \n",
    "- $\\cot\\left(\\dfrac{\\pi}{2} - \\theta\\right) = \\tan(\\theta)$  \n",
    "- $\\sec\\left(\\dfrac{\\pi}{2} - \\theta\\right) = \\csc(\\theta)$  \n",
    "- $\\csc\\left(\\dfrac{\\pi}{2} - \\theta\\right) = \\sec(\\theta)$"
   ]
  }
 ],
 "metadata": {
  "kernelspec": {
   "display_name": "Python 3 (ipykernel)",
   "language": "python",
   "name": "python3"
  },
  "language_info": {
   "codemirror_mode": {
    "name": "ipython",
    "version": 3
   },
   "file_extension": ".py",
   "mimetype": "text/x-python",
   "name": "python",
   "nbconvert_exporter": "python",
   "pygments_lexer": "ipython3",
   "version": "3.12.6"
  }
 },
 "nbformat": 4,
 "nbformat_minor": 5
}
