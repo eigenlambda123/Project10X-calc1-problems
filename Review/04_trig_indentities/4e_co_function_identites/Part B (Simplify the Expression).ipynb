{
 "cells": [
  {
   "cell_type": "markdown",
   "id": "f85fe2a8-c100-42c7-a31f-4c1bc9a69a11",
   "metadata": {},
   "source": [
    "### **Problems**\n",
    "\n",
    "**6.** Simplify: $\\sin\\left(\\dfrac{\\pi}{2} - \\theta\\right) + \\cos(\\theta)$\n",
    "\n",
    "**7.** Simplify: $\\tan\\left(\\dfrac{\\pi}{2} - x\\right) \\cdot \\cot(x)$\n",
    "\n",
    "**8.** Simplify: $\\sec(x) - \\csc\\left(\\dfrac{\\pi}{2} - x\\right)$\n"
   ]
  },
  {
   "cell_type": "markdown",
   "id": "0ffab0e5-a566-457e-a9c8-b33a24f0b736",
   "metadata": {},
   "source": [
    "---\n",
    "### **Solutions**\n",
    "\n",
    "\n",
    "**6.** Use the identity:\n",
    "$$\n",
    "\\sin\\left(\\dfrac{\\pi}{2} - \\theta\\right) = \\cos(\\theta)\n",
    "$$\n",
    "\n",
    "So:\n",
    "$$\n",
    "\\cos(\\theta) + \\cos(\\theta) = 2\\cos(\\theta)\n",
    "$$\n",
    "\n",
    "**Answer:**  \n",
    "$\\boxed{2\\cos(\\theta)}$\n",
    "\n",
    "\n",
    "**7.** Use the identity:\n",
    "$$\n",
    "\\tan\\left(\\dfrac{\\pi}{2} - x\\right) = \\cot(x)\n",
    "$$\n",
    "\n",
    "So:\n",
    "$$\n",
    "\\cot(x) \\cdot \\cot(x) = \\cot^2(x)\n",
    "$$\n",
    "\n",
    "**Answer:**  \n",
    "$\\boxed{\\cot^2(x)}$\n",
    "\n",
    "\n",
    "**8.** Use the identity:\n",
    "$$\n",
    "\\csc\\left(\\dfrac{\\pi}{2} - x\\right) = \\sec(x)\n",
    "$$\n",
    "\n",
    "So:\n",
    "$$\n",
    "\\sec(x) - \\sec(x) = 0\n",
    "$$\n",
    "\n",
    "**Answer:**  \n",
    "$\\boxed{0}$\n"
   ]
  }
 ],
 "metadata": {
  "kernelspec": {
   "display_name": "Python 3 (ipykernel)",
   "language": "python",
   "name": "python3"
  },
  "language_info": {
   "codemirror_mode": {
    "name": "ipython",
    "version": 3
   },
   "file_extension": ".py",
   "mimetype": "text/x-python",
   "name": "python",
   "nbconvert_exporter": "python",
   "pygments_lexer": "ipython3",
   "version": "3.12.6"
  }
 },
 "nbformat": 4,
 "nbformat_minor": 5
}
