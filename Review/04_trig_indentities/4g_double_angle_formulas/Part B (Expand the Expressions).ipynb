{
 "cells": [
  {
   "cell_type": "markdown",
   "id": "8f8d61f6-3c5f-47d9-8946-a78bff44c4cb",
   "metadata": {},
   "source": [
    "### **Problems**\n",
    "**6.** Expand: $\\sin(2x)$  \n",
    "**7.** Expand: $\\cos(2x)$ using all 3 equivalent forms  \n",
    "**8.** Expand: $\\tan(2x)$\n",
    "\n"
   ]
  },
  {
   "cell_type": "markdown",
   "id": "87bf6a01-2f88-4f12-98df-f9693e024c14",
   "metadata": {},
   "source": [
    "---\n",
    "### **Solutions**\n",
    "\n",
    "\n",
    "**6.** Formula:**  \n",
    "$$\n",
    "\\sin(2x) = 2\\sin(x)\\cos(x)\n",
    "$$\n",
    "\n",
    "**Answer:**  \n",
    "$\\boxed{2\\sin(x)\\cos(x)}$\n",
    "\n",
    "\n",
    "**7.** Three equivalent forms:**\n",
    "\n",
    "- Form 1:  \n",
    "$$\n",
    "\\cos(2x) = \\cos^2(x) - \\sin^2(x)\n",
    "$$\n",
    "\n",
    "- Form 2:  \n",
    "$$\n",
    "\\cos(2x) = 2\\cos^2(x) - 1\n",
    "$$\n",
    "\n",
    "- Form 3:  \n",
    "$$\n",
    "\\cos(2x) = 1 - 2\\sin^2(x)\n",
    "$$\n",
    "\n",
    "**Answer:**  \n",
    "$\\boxed{\\cos^2(x) - \\sin^2(x)} \\quad \\boxed{2\\cos^2(x) - 1} \\quad \\boxed{1 - 2\\sin^2(x)}$\n",
    "\n",
    "\n",
    "**8.** *Formula:**  \n",
    "$$\n",
    "\\tan(2x) = \\dfrac{2\\tan(x)}{1 - \\tan^2(x)}\n",
    "$$\n",
    "\n",
    "**Answer:**  \n",
    "$\\boxed{\\dfrac{2\\tan(x)}{1 - \\tan^2(x)}}$\n"
   ]
  }
 ],
 "metadata": {
  "kernelspec": {
   "display_name": "Python 3 (ipykernel)",
   "language": "python",
   "name": "python3"
  },
  "language_info": {
   "codemirror_mode": {
    "name": "ipython",
    "version": 3
   },
   "file_extension": ".py",
   "mimetype": "text/x-python",
   "name": "python",
   "nbconvert_exporter": "python",
   "pygments_lexer": "ipython3",
   "version": "3.12.6"
  }
 },
 "nbformat": 4,
 "nbformat_minor": 5
}
