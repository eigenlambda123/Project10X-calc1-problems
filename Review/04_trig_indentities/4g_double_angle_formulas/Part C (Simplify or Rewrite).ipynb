{
 "cells": [
  {
   "cell_type": "markdown",
   "id": "b7502685-4af6-4252-8607-7475ab5e3d45",
   "metadata": {},
   "source": [
    "### **Problems**\n",
    "\n",
    "**9.** Simplify: $2\\sin(x)\\cos(x)$ using a double-angle identity  \n",
    "**10.** Rewrite $\\cos^2(x)$ using a double-angle identity (in terms of $\\cos(2x)$)  \n",
    "**11.** Rewrite $\\sin^2(x)$ in terms of $\\cos(2x)$\n",
    "\n"
   ]
  },
  {
   "cell_type": "markdown",
   "id": "66b1c123-b019-4a51-8939-b6b83a80d00e",
   "metadata": {},
   "source": [
    "---\n",
    "\n",
    "### **Solutions**\n",
    "\n",
    "\n",
    "**9.** Simplify:  \n",
    "$$\n",
    "2\\sin(x)\\cos(x)\n",
    "$$\n",
    "\n",
    "This matches the identity:  \n",
    "$$\n",
    "\\sin(2x) = 2\\sin(x)\\cos(x)\n",
    "$$\n",
    "\n",
    "**Answer:**  \n",
    "$\\boxed{\\sin(2x)}$\n",
    "\n",
    "\n",
    "**10.** Rewrite $\\cos^2(x)$ in terms of $\\cos(2x)$\n",
    "\n",
    "Use the identity:\n",
    "$$\n",
    "\\cos(2x) = 2\\cos^2(x) - 1\n",
    "$$\n",
    "\n",
    "Solve for $\\cos^2(x)$:\n",
    "$$\n",
    "2\\cos^2(x) = \\cos(2x) + 1\n",
    "\\Rightarrow \\cos^2(x) = \\dfrac{1 + \\cos(2x)}{2}\n",
    "$$\n",
    "\n",
    "**Answer:**  \n",
    "$\\boxed{\\cos^2(x) = \\dfrac{1 + \\cos(2x)}{2}}$\n",
    "\n",
    "\n",
    "**11.** Rewrite $\\sin^2(x)$ in terms of $\\cos(2x)$\n",
    "\n",
    "Use the identity:\n",
    "$$\n",
    "\\cos(2x) = 1 - 2\\sin^2(x)\n",
    "$$\n",
    "\n",
    "Solve for $\\sin^2(x)$:\n",
    "$$\n",
    "2\\sin^2(x) = 1 - \\cos(2x)\n",
    "\\Rightarrow \\sin^2(x) = \\dfrac{1 - \\cos(2x)}{2}\n",
    "$$\n",
    "\n",
    "**Answer:**  \n",
    "$\\boxed{\\sin^2(x) = \\dfrac{1 - \\cos(2x)}{2}}$\n"
   ]
  }
 ],
 "metadata": {
  "kernelspec": {
   "display_name": "Python 3 (ipykernel)",
   "language": "python",
   "name": "python3"
  },
  "language_info": {
   "codemirror_mode": {
    "name": "ipython",
    "version": 3
   },
   "file_extension": ".py",
   "mimetype": "text/x-python",
   "name": "python",
   "nbconvert_exporter": "python",
   "pygments_lexer": "ipython3",
   "version": "3.12.6"
  }
 },
 "nbformat": 4,
 "nbformat_minor": 5
}
