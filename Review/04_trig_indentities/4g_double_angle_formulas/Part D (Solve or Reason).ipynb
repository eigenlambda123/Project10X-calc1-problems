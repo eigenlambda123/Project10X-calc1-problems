{
 "cells": [
  {
   "cell_type": "markdown",
   "id": "0baa0936-ba7a-4660-b374-d8e19182846e",
   "metadata": {},
   "source": [
    "### **Problems**\n",
    "**12.** If $\\sin(2\\theta) = \\dfrac{4}{5}$, find possible values of $\\sin(\\theta)$ and $\\cos(\\theta)$  \n",
    "**13.** Explain why $\\cos(2\\theta)$ has multiple forms and how to choose which to use  \n",
    "**14.** Given $\\tan(\\theta) = 1$, find $\\tan(2\\theta)$  \n",
    "**15.** Prove: $\\cos^2(\\theta) = \\dfrac{1 + \\cos(2\\theta)}{2}$\n",
    "\n"
   ]
  },
  {
   "cell_type": "markdown",
   "id": "25b35f59-8606-4b6e-b158-b2636520386e",
   "metadata": {},
   "source": [
    "---\n",
    "### **Solutions**\n",
    "\n",
    "**12.** Use the identity:  \n",
    "$$\n",
    "\\sin(2\\theta) = 2\\sin(\\theta)\\cos(\\theta)\n",
    "$$\n",
    "\n",
    "So:\n",
    "$$\n",
    "2\\sin(\\theta)\\cos(\\theta) = \\dfrac{4}{5}\n",
    "\\Rightarrow \\sin(\\theta)\\cos(\\theta) = \\dfrac{2}{5}\n",
    "$$\n",
    "\n",
    "There are infinitely many $\\theta$ values that satisfy this, but this equation is as far as we can go unless we’re given more info (like quadrant or exact values).\n",
    "\n",
    "**Answer:**  \n",
    "$\\boxed{\\sin(\\theta)\\cos(\\theta) = \\dfrac{2}{5}}$\n",
    "\n",
    "\n",
    "**13.** **Reason:**  \n",
    "The identity for $\\cos(2\\theta)$:\n",
    "- $\\cos(2\\theta) = \\cos^2(\\theta) - \\sin^2(\\theta)$  \n",
    "can be transformed using the Pythagorean identity $\\sin^2(\\theta) = 1 - \\cos^2(\\theta)$ or $\\cos^2(\\theta) = 1 - \\sin^2(\\theta)$:\n",
    "\n",
    "So:\n",
    "- $\\cos(2\\theta) = 2\\cos^2(\\theta) - 1$  \n",
    "- $\\cos(2\\theta) = 1 - 2\\sin^2(\\theta)$  \n",
    "\n",
    "**Why this matters:**  \n",
    "Each form is useful depending on which value (sine or cosine) is known. For example:\n",
    "- If you know $\\cos(\\theta)$, use $2\\cos^2(\\theta) - 1$  \n",
    "- If you know $\\sin(\\theta)$, use $1 - 2\\sin^2(\\theta)$  \n",
    "\n",
    "**Answer:**  \n",
    "$\\boxed{\\text{Each form makes solving easier depending on what information is known (} \\sin(\\theta) \\text{ or } \\cos(\\theta) \\text{).}}$\n",
    "\n",
    "\n",
    "**14.** Use:\n",
    "$$\n",
    "\\tan(2\\theta) = \\dfrac{2\\tan(\\theta)}{1 - \\tan^2(\\theta)} = \\dfrac{2 \\cdot 1}{1 - 1^2} = \\dfrac{2}{0}\n",
    "$$\n",
    "\n",
    "This is **undefined**.\n",
    "\n",
    "**Why?** Because the denominator is 0.\n",
    "\n",
    "**Answer:**  \n",
    "$\\boxed{\\text{Undefined (division by zero)}}$\n",
    "\n",
    "\n",
    "**15.** Start with:\n",
    "$$\n",
    "\\cos(2\\theta) = 2\\cos^2(\\theta) - 1\n",
    "$$\n",
    "\n",
    "Solve for $\\cos^2(\\theta)$:\n",
    "$$\n",
    "\\cos(2\\theta) + 1 = 2\\cos^2(\\theta)\n",
    "\\Rightarrow \\cos^2(\\theta) = \\dfrac{1 + \\cos(2\\theta)}{2}\n",
    "$$\n",
    "\n",
    "**Answer:**  \n",
    "$\\boxed{\\cos^2(\\theta) = \\dfrac{1 + \\cos(2\\theta)}{2}} \\quad \\text{✓ Proven}$\n"
   ]
  }
 ],
 "metadata": {
  "kernelspec": {
   "display_name": "Python 3 (ipykernel)",
   "language": "python",
   "name": "python3"
  },
  "language_info": {
   "codemirror_mode": {
    "name": "ipython",
    "version": 3
   },
   "file_extension": ".py",
   "mimetype": "text/x-python",
   "name": "python",
   "nbconvert_exporter": "python",
   "pygments_lexer": "ipython3",
   "version": "3.12.6"
  }
 },
 "nbformat": 4,
 "nbformat_minor": 5
}
